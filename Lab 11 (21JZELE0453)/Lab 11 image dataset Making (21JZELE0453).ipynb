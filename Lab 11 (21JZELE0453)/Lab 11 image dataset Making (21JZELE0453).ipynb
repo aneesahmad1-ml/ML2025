{
 "cells": [
  {
   "cell_type": "markdown",
   "id": "ca445dea",
   "metadata": {},
   "source": [
    "# Lab Task 1:\n",
    "\n",
    "Select only two categories:\n",
    "\n",
    "### Category 1: Healthy\n",
    "\n",
    "Use 120 images for training, 30 images for validation, and 12 images for testing.\n",
    "\n",
    "### Category 2: Unhealthy (combine the other three classes)\n",
    "\n",
    "From each of the three remaining classes, select:\n",
    "\n",
    "40 images for training,\n",
    "\n",
    "10 images for validation,\n",
    "\n",
    "4 images for testing.\n"
   ]
  },
  {
   "cell_type": "markdown",
   "metadata": {},
   "source": [
    "# Lab Task for lab practice:\n",
    "\n",
    "### Select two difficult classes:\n",
    "\n",
    "##### Class 1: Cercospora\n",
    "\n",
    "Use 120 images for training, 30 images for validation, and 10 images for testing.\n",
    "\n",
    "##### Class 2: Northern Leaf Blight\n",
    "\n",
    "Use 120 images for training, 30 images for validation, and 10 images for testing."
   ]
  },
  {
   "cell_type": "code",
   "execution_count": null,
   "metadata": {},
   "outputs": [],
   "source": [
    "import os, shutil\n",
    "original_dataset_dir = r'D:\\Engr Course\\VSCode\\ML\\archive1\\plantvillage dataset\\color'\n",
    "base_dir = r'D:\\Engr Course\\VSCode\\ML\\archive1\\Computer vision'"
   ]
  },
  {
   "cell_type": "code",
   "execution_count": 5,
   "metadata": {},
   "outputs": [
    {
     "data": {
      "text/plain": [
       "'C:\\\\Users\\\\Administrator\\\\Downloads\\\\ML Lab\\\\Computer vision\\\\sectionB'"
      ]
     },
     "execution_count": 5,
     "metadata": {},
     "output_type": "execute_result"
    }
   ],
   "source": [
    "base_dir"
   ]
  },
  {
   "cell_type": "code",
   "execution_count": 6,
   "metadata": {},
   "outputs": [
    {
     "data": {
      "text/plain": [
       "'C:\\\\Users\\\\Administrator\\\\Downloads\\\\ML Lab\\\\Computer vision\\\\sectionB\\\\train'"
      ]
     },
     "execution_count": 6,
     "metadata": {},
     "output_type": "execute_result"
    }
   ],
   "source": [
    "os.path.join(base_dir, 'train')"
   ]
  },
  {
   "cell_type": "code",
   "execution_count": 7,
   "metadata": {},
   "outputs": [],
   "source": [
    "os.mkdir(base_dir)\n",
    "train_dir = os.path.join(base_dir, 'train')\n",
    "os.mkdir(train_dir)\n",
    "validation_dir = os.path.join(base_dir, 'validation')\n",
    "os.mkdir(validation_dir)\n",
    "test_dir = os.path.join(base_dir, 'test')\n",
    "os.mkdir(test_dir)"
   ]
  },
  {
   "cell_type": "code",
   "execution_count": null,
   "metadata": {},
   "outputs": [],
   "source": [
    "train_Cercospora_dir = os.path.join(train_dir, 'Cercospora')\n",
    "os.mkdir(train_Cercospora_dir)\n",
    "train_northern_leaf_blight_dir = os.path.join(train_dir, 'northern_leaf_blight')\n",
    "os.mkdir(train_northern_leaf_blight_dir)\n",
    "\n",
    "validation_Cercospora_dir = os.path.join(validation_dir, 'Cercospora')\n",
    "os.mkdir(validation_Cercospora_dir)\n",
    "validation_northern_leaf_blight_dir = os.path.join(validation_dir, 'northern_leaf_blight')\n",
    "os.mkdir(validation_northern_leaf_blight_dir)\n",
    "\n",
    "test_Cercospora_dir = os.path.join(test_dir, 'Cercospora')\n",
    "os.mkdir(test_Cercospora_dir)\n",
    "test_northern_leaf_blight_dir = os.path.join(test_dir, 'northern_leaf_blight')\n",
    "os.mkdir(test_northern_leaf_blight_dir)"
   ]
  },
  {
   "cell_type": "code",
   "execution_count": null,
   "metadata": {},
   "outputs": [],
   "source": [
    "src_Cercospora_path = os.path.join(original_dataset_dir, 'Corn_(maize)___Cercospora_leaf_spot Gray_leaf_spot')\n",
    "src_list = os.listdir(src_Cercospora_path)\n",
    "fnames = ['Cercospora.{}.jpg'.format(i) for i in range(120)]\n",
    "for i in range(120):\n",
    "    src = os.path.join(src_Cercospora_path, src_list[i])\n",
    "    dst = os.path.join(train_Cercospora_dir, fnames[i])\n",
    "    shutil.copyfile(src, dst)\n",
    "\n",
    "src_Northern_Leaf_Blight_path = os.path.join(original_dataset_dir, 'Corn_(maize)___Northern_Leaf_Blight')\n",
    "src_list = os.listdir(src_Northern_Leaf_Blight_path)\n",
    "fnames = ['Northern_Leaf_Blight.{}.jpg'.format(i) for i in range(120)]\n",
    "for i in range(120):\n",
    "    src = os.path.join(src_Northern_Leaf_Blight_path, src_list[i])\n",
    "    dst = os.path.join(train_northern_leaf_blight_dir, fnames[i])\n",
    "    shutil.copyfile(src, dst)"
   ]
  },
  {
   "cell_type": "code",
   "execution_count": null,
   "metadata": {},
   "outputs": [],
   "source": [
    "src_Cercospora_path = os.path.join(original_dataset_dir, 'Corn_(maize)___Cercospora_leaf_spot Gray_leaf_spot')\n",
    "src_list = os.listdir(src_Cercospora_path)\n",
    "fnames = ['Cercospora.{}.jpg'.format(i) for i in range(30)]\n",
    "for i in range(400,430):\n",
    "    src = os.path.join(src_Cercospora_path, src_list[i])\n",
    "    dst = os.path.join(validation_Cercospora_dir, fnames[i-400])\n",
    "    shutil.copyfile(src, dst)\n",
    "\n",
    "src_Northern_Leaf_Blight_path = os.path.join(original_dataset_dir, 'Corn_(maize)___Northern_Leaf_Blight')\n",
    "src_list = os.listdir(src_Northern_Leaf_Blight_path)\n",
    "fnames = ['Northern_Leaf_Blight.{}.jpg'.format(i) for i in range(30)]\n",
    "for i in range(400,430):\n",
    "    src = os.path.join(src_Northern_Leaf_Blight_path, src_list[i])\n",
    "    dst = os.path.join(validation_northern_leaf_blight_dir, fnames[i-400])\n",
    "    shutil.copyfile(src, dst)"
   ]
  },
  {
   "cell_type": "markdown",
   "metadata": {},
   "source": [
    "# Test"
   ]
  },
  {
   "cell_type": "code",
   "execution_count": null,
   "metadata": {},
   "outputs": [],
   "source": [
    "src_Cercospora_path = os.path.join(original_dataset_dir, 'Corn_(maize)___Cercospora_leaf_spot Gray_leaf_spot')\n",
    "src_list = os.listdir(src_Cercospora_path)\n",
    "fnames = ['Cercospora.{}.jpg'.format(i) for i in range(10)]\n",
    "for i in range(463,473):\n",
    "    src = os.path.join(src_Cercospora_path, src_list[i])\n",
    "    dst = os.path.join(test_Cercospora_dir, fnames[i-463])\n",
    "    shutil.copyfile(src, dst)\n",
    "\n",
    "src_Northern_Leaf_Blight_path = os.path.join(original_dataset_dir, 'Corn_(maize)___Northern_Leaf_Blight')\n",
    "src_list = os.listdir(src_Northern_Leaf_Blight_path)\n",
    "fnames = ['Northern_Leaf_Blight.{}.jpg'.format(i) for i in range(10)]\n",
    "for i in range(463,473):\n",
    "    src = os.path.join(src_Northern_Leaf_Blight_path, src_list[i])\n",
    "    dst = os.path.join(test_northern_leaf_blight_dir, fnames[i-463])\n",
    "    shutil.copyfile(src, dst)"
   ]
  }
 ],
 "metadata": {
  "kernelspec": {
   "display_name": "ML",
   "language": "python",
   "name": "python3"
  },
  "language_info": {
   "codemirror_mode": {
    "name": "ipython",
    "version": 3
   },
   "file_extension": ".py",
   "mimetype": "text/x-python",
   "name": "python",
   "nbconvert_exporter": "python",
   "pygments_lexer": "ipython3",
   "version": "3.11.9"
  }
 },
 "nbformat": 4,
 "nbformat_minor": 5
}
