{
 "cells": [
  {
   "cell_type": "markdown",
   "id": "56668603",
   "metadata": {},
   "source": [
    "### Introduction To Pandas Module\n",
    "Here, we are learning data analysis. Pandas is a software library written for the Python programming language that helps with data manipulation and analysis. It offers various data structures which help in the manipulation of data. <br>\n",
    "One of the data structures used is DataFrame.<br>\n",
    "DataFrame is used as a way to store data in a rectangular grid.<br>\n",
    "Similar to how data is stored in Microsoft Excel.\n",
    "### Installation\n",
    "We can easily install this library using the terminal. Follow the steps given below to install Pandas:<br>\n",
    "Step 1: Go to the Windows PowerShell.<br>\n",
    "Step 2: We can install pandas with the help of pip easily. Head over to the directory where you want to install the pandas and fire the below command:<br>\n",
    "__pip install pandas__<br>\n",
    "This is very simple to install. "
   ]
  },
  {
   "cell_type": "code",
   "execution_count": null,
   "id": "9d7597cd",
   "metadata": {},
   "outputs": [],
   "source": [
    "# !pip install pandas"
   ]
  },
  {
   "cell_type": "markdown",
   "id": "c0604699",
   "metadata": {},
   "source": [
    "### Other way to install\n",
    "If the above steps do not work for you, here is another way to install:<br>\n",
    "Step 1: Go to your browser. Search for __python unofficial binaries__, or click <br>\n",
    "https://www.lfd.uci.edu/~gohlke/pythonlibs/<br> \n",
    "and you will be redirected to the binary page.<br>\n",
    "Step 2: To download the library, search for pandas – Ctrl + F will help you. Download pandas library based on your python version. <br>\n",
    "Step 3: After the installation, head over to the directory where you've downloaded the pandas. <br>\n",
    "Step 4: Right-click to open Windows PowerShell. Pip can help us with the installation. Just go to that location in your terminal and run the following command: <br>\n",
    "__pip install pandas__ <br>\n",
    "Complete this command by the TAB button so that the location of your folder is mentioned."
   ]
  },
  {
   "cell_type": "markdown",
   "id": "800f769b",
   "metadata": {},
   "source": [
    "### import pandas\n",
    "Once Pandas is installed, import it in your applications by adding the import keyword:<br>\n",
    "__import pandas as pd__<br>\n",
    "Now Pandas is imported and ready to use."
   ]
  },
  {
   "cell_type": "code",
   "execution_count": 1,
   "id": "74e4e20e",
   "metadata": {},
   "outputs": [],
   "source": [
    "import pandas"
   ]
  },
  {
   "cell_type": "code",
   "execution_count": 7,
   "id": "0785aeae",
   "metadata": {},
   "outputs": [],
   "source": [
    "dict1 = {\n",
    "    'Name': [\"Anees Ahmad\", \"Ayan Alam\", \"Abid Khan\", \"Usama Khan\",\"Qasim Shah\"],\n",
    "    'Marks': [80, 72, 77, 65, 15],\n",
    "    'Class':[\"4th Year\", \"4th Year\", \"3rd Year\", \"3rd Year\", \"2nd Year\"]\n",
    "}"
   ]
  },
  {
   "cell_type": "code",
   "execution_count": 8,
   "id": "c4957475",
   "metadata": {},
   "outputs": [],
   "source": [
    "df = pandas.DataFrame(dict1)"
   ]
  },
  {
   "cell_type": "code",
   "execution_count": 10,
   "id": "418d12ca",
   "metadata": {},
   "outputs": [
    {
     "data": {
      "text/html": [
       "<div>\n",
       "<style scoped>\n",
       "    .dataframe tbody tr th:only-of-type {\n",
       "        vertical-align: middle;\n",
       "    }\n",
       "\n",
       "    .dataframe tbody tr th {\n",
       "        vertical-align: top;\n",
       "    }\n",
       "\n",
       "    .dataframe thead th {\n",
       "        text-align: right;\n",
       "    }\n",
       "</style>\n",
       "<table border=\"1\" class=\"dataframe\">\n",
       "  <thead>\n",
       "    <tr style=\"text-align: right;\">\n",
       "      <th></th>\n",
       "      <th>Name</th>\n",
       "      <th>Marks</th>\n",
       "      <th>Class</th>\n",
       "    </tr>\n",
       "  </thead>\n",
       "  <tbody>\n",
       "    <tr>\n",
       "      <th>0</th>\n",
       "      <td>Anees Ahmad</td>\n",
       "      <td>80</td>\n",
       "      <td>4th Year</td>\n",
       "    </tr>\n",
       "    <tr>\n",
       "      <th>1</th>\n",
       "      <td>Ayan Alam</td>\n",
       "      <td>72</td>\n",
       "      <td>4th Year</td>\n",
       "    </tr>\n",
       "    <tr>\n",
       "      <th>2</th>\n",
       "      <td>Abid Khan</td>\n",
       "      <td>77</td>\n",
       "      <td>3rd Year</td>\n",
       "    </tr>\n",
       "    <tr>\n",
       "      <th>3</th>\n",
       "      <td>Usama Khan</td>\n",
       "      <td>65</td>\n",
       "      <td>3rd Year</td>\n",
       "    </tr>\n",
       "    <tr>\n",
       "      <th>4</th>\n",
       "      <td>Qasim Shah</td>\n",
       "      <td>15</td>\n",
       "      <td>2nd Year</td>\n",
       "    </tr>\n",
       "  </tbody>\n",
       "</table>\n",
       "</div>"
      ],
      "text/plain": [
       "          Name  Marks     Class\n",
       "0  Anees Ahmad     80  4th Year\n",
       "1    Ayan Alam     72  4th Year\n",
       "2    Abid Khan     77  3rd Year\n",
       "3   Usama Khan     65  3rd Year\n",
       "4   Qasim Shah     15  2nd Year"
      ]
     },
     "execution_count": 10,
     "metadata": {},
     "output_type": "execute_result"
    }
   ],
   "source": [
    "df"
   ]
  },
  {
   "cell_type": "markdown",
   "id": "cf6a5e3b",
   "metadata": {},
   "source": [
    "### Pandas as pd\n",
    "Pandas is usually imported under the pd alias.\n",
    "#### alias: \n",
    "In Python alias are an alternate name for referring to the same thing.<br>\n",
    "Create an alias with the as keyword while importing:<br>\n",
    "__import pandas as pd__<br>\n",
    "Now the Pandas package can be referred to as pd instead of pandas."
   ]
  },
  {
   "cell_type": "code",
   "execution_count": 11,
   "id": "8d2d715b",
   "metadata": {},
   "outputs": [],
   "source": [
    "import pandas as pd"
   ]
  },
  {
   "cell_type": "code",
   "execution_count": 12,
   "id": "6efcbfa5",
   "metadata": {},
   "outputs": [],
   "source": [
    "df = pd.DataFrame(dict1)"
   ]
  },
  {
   "cell_type": "code",
   "execution_count": 13,
   "id": "3d64ad00",
   "metadata": {},
   "outputs": [
    {
     "data": {
      "text/html": [
       "<div>\n",
       "<style scoped>\n",
       "    .dataframe tbody tr th:only-of-type {\n",
       "        vertical-align: middle;\n",
       "    }\n",
       "\n",
       "    .dataframe tbody tr th {\n",
       "        vertical-align: top;\n",
       "    }\n",
       "\n",
       "    .dataframe thead th {\n",
       "        text-align: right;\n",
       "    }\n",
       "</style>\n",
       "<table border=\"1\" class=\"dataframe\">\n",
       "  <thead>\n",
       "    <tr style=\"text-align: right;\">\n",
       "      <th></th>\n",
       "      <th>Name</th>\n",
       "      <th>Marks</th>\n",
       "      <th>Class</th>\n",
       "    </tr>\n",
       "  </thead>\n",
       "  <tbody>\n",
       "    <tr>\n",
       "      <th>0</th>\n",
       "      <td>Anees Ahmad</td>\n",
       "      <td>80</td>\n",
       "      <td>4th Year</td>\n",
       "    </tr>\n",
       "    <tr>\n",
       "      <th>1</th>\n",
       "      <td>Ayan Alam</td>\n",
       "      <td>72</td>\n",
       "      <td>4th Year</td>\n",
       "    </tr>\n",
       "    <tr>\n",
       "      <th>2</th>\n",
       "      <td>Abid Khan</td>\n",
       "      <td>77</td>\n",
       "      <td>3rd Year</td>\n",
       "    </tr>\n",
       "    <tr>\n",
       "      <th>3</th>\n",
       "      <td>Usama Khan</td>\n",
       "      <td>65</td>\n",
       "      <td>3rd Year</td>\n",
       "    </tr>\n",
       "    <tr>\n",
       "      <th>4</th>\n",
       "      <td>Qasim Shah</td>\n",
       "      <td>15</td>\n",
       "      <td>2nd Year</td>\n",
       "    </tr>\n",
       "  </tbody>\n",
       "</table>\n",
       "</div>"
      ],
      "text/plain": [
       "          Name  Marks     Class\n",
       "0  Anees Ahmad     80  4th Year\n",
       "1    Ayan Alam     72  4th Year\n",
       "2    Abid Khan     77  3rd Year\n",
       "3   Usama Khan     65  3rd Year\n",
       "4   Qasim Shah     15  2nd Year"
      ]
     },
     "execution_count": 13,
     "metadata": {},
     "output_type": "execute_result"
    }
   ],
   "source": [
    "df"
   ]
  },
  {
   "cell_type": "markdown",
   "id": "bbd5858a",
   "metadata": {},
   "source": [
    "### Checking Pandas Version\n",
    "The version string is stored under __version__ attribute."
   ]
  },
  {
   "cell_type": "code",
   "execution_count": 14,
   "id": "1b1f0bc2",
   "metadata": {},
   "outputs": [
    {
     "data": {
      "text/plain": [
       "'2.2.3'"
      ]
     },
     "execution_count": 14,
     "metadata": {},
     "output_type": "execute_result"
    }
   ],
   "source": [
    "pd.__version__"
   ]
  },
  {
   "cell_type": "markdown",
   "id": "be883ee5",
   "metadata": {},
   "source": [
    "## Import to CSV"
   ]
  },
  {
   "cell_type": "code",
   "execution_count": 15,
   "id": "f91b48d9",
   "metadata": {},
   "outputs": [],
   "source": [
    "df.to_csv('3.2.csv')"
   ]
  },
  {
   "cell_type": "markdown",
   "id": "97375b17",
   "metadata": {},
   "source": [
    "## Remove Index"
   ]
  },
  {
   "cell_type": "code",
   "execution_count": 16,
   "id": "97ba78c5",
   "metadata": {},
   "outputs": [],
   "source": [
    "df.to_csv('3.2RemoveIndex.csv', index=False)"
   ]
  },
  {
   "cell_type": "markdown",
   "id": "be14b569",
   "metadata": {},
   "source": [
    "## Show some rows from the Start"
   ]
  },
  {
   "cell_type": "code",
   "execution_count": 17,
   "id": "01615a53",
   "metadata": {
    "scrolled": true
   },
   "outputs": [
    {
     "data": {
      "text/html": [
       "<div>\n",
       "<style scoped>\n",
       "    .dataframe tbody tr th:only-of-type {\n",
       "        vertical-align: middle;\n",
       "    }\n",
       "\n",
       "    .dataframe tbody tr th {\n",
       "        vertical-align: top;\n",
       "    }\n",
       "\n",
       "    .dataframe thead th {\n",
       "        text-align: right;\n",
       "    }\n",
       "</style>\n",
       "<table border=\"1\" class=\"dataframe\">\n",
       "  <thead>\n",
       "    <tr style=\"text-align: right;\">\n",
       "      <th></th>\n",
       "      <th>Name</th>\n",
       "      <th>Marks</th>\n",
       "      <th>Class</th>\n",
       "    </tr>\n",
       "  </thead>\n",
       "  <tbody>\n",
       "    <tr>\n",
       "      <th>0</th>\n",
       "      <td>Anees Ahmad</td>\n",
       "      <td>80</td>\n",
       "      <td>4th Year</td>\n",
       "    </tr>\n",
       "    <tr>\n",
       "      <th>1</th>\n",
       "      <td>Ayan Alam</td>\n",
       "      <td>72</td>\n",
       "      <td>4th Year</td>\n",
       "    </tr>\n",
       "    <tr>\n",
       "      <th>2</th>\n",
       "      <td>Abid Khan</td>\n",
       "      <td>77</td>\n",
       "      <td>3rd Year</td>\n",
       "    </tr>\n",
       "    <tr>\n",
       "      <th>3</th>\n",
       "      <td>Usama Khan</td>\n",
       "      <td>65</td>\n",
       "      <td>3rd Year</td>\n",
       "    </tr>\n",
       "    <tr>\n",
       "      <th>4</th>\n",
       "      <td>Qasim Shah</td>\n",
       "      <td>15</td>\n",
       "      <td>2nd Year</td>\n",
       "    </tr>\n",
       "  </tbody>\n",
       "</table>\n",
       "</div>"
      ],
      "text/plain": [
       "          Name  Marks     Class\n",
       "0  Anees Ahmad     80  4th Year\n",
       "1    Ayan Alam     72  4th Year\n",
       "2    Abid Khan     77  3rd Year\n",
       "3   Usama Khan     65  3rd Year\n",
       "4   Qasim Shah     15  2nd Year"
      ]
     },
     "execution_count": 17,
     "metadata": {},
     "output_type": "execute_result"
    }
   ],
   "source": [
    "df.head()"
   ]
  },
  {
   "cell_type": "code",
   "execution_count": 18,
   "id": "36e7a4a2",
   "metadata": {},
   "outputs": [
    {
     "data": {
      "text/html": [
       "<div>\n",
       "<style scoped>\n",
       "    .dataframe tbody tr th:only-of-type {\n",
       "        vertical-align: middle;\n",
       "    }\n",
       "\n",
       "    .dataframe tbody tr th {\n",
       "        vertical-align: top;\n",
       "    }\n",
       "\n",
       "    .dataframe thead th {\n",
       "        text-align: right;\n",
       "    }\n",
       "</style>\n",
       "<table border=\"1\" class=\"dataframe\">\n",
       "  <thead>\n",
       "    <tr style=\"text-align: right;\">\n",
       "      <th></th>\n",
       "      <th>Name</th>\n",
       "      <th>Marks</th>\n",
       "      <th>Class</th>\n",
       "    </tr>\n",
       "  </thead>\n",
       "  <tbody>\n",
       "    <tr>\n",
       "      <th>2</th>\n",
       "      <td>Abid Khan</td>\n",
       "      <td>77</td>\n",
       "      <td>3rd Year</td>\n",
       "    </tr>\n",
       "    <tr>\n",
       "      <th>3</th>\n",
       "      <td>Usama Khan</td>\n",
       "      <td>65</td>\n",
       "      <td>3rd Year</td>\n",
       "    </tr>\n",
       "    <tr>\n",
       "      <th>4</th>\n",
       "      <td>Qasim Shah</td>\n",
       "      <td>15</td>\n",
       "      <td>2nd Year</td>\n",
       "    </tr>\n",
       "  </tbody>\n",
       "</table>\n",
       "</div>"
      ],
      "text/plain": [
       "         Name  Marks     Class\n",
       "2   Abid Khan     77  3rd Year\n",
       "3  Usama Khan     65  3rd Year\n",
       "4  Qasim Shah     15  2nd Year"
      ]
     },
     "execution_count": 18,
     "metadata": {},
     "output_type": "execute_result"
    }
   ],
   "source": [
    "df.tail(3)"
   ]
  },
  {
   "cell_type": "code",
   "execution_count": 19,
   "id": "59b61b63",
   "metadata": {},
   "outputs": [
    {
     "data": {
      "text/html": [
       "<div>\n",
       "<style scoped>\n",
       "    .dataframe tbody tr th:only-of-type {\n",
       "        vertical-align: middle;\n",
       "    }\n",
       "\n",
       "    .dataframe tbody tr th {\n",
       "        vertical-align: top;\n",
       "    }\n",
       "\n",
       "    .dataframe thead th {\n",
       "        text-align: right;\n",
       "    }\n",
       "</style>\n",
       "<table border=\"1\" class=\"dataframe\">\n",
       "  <thead>\n",
       "    <tr style=\"text-align: right;\">\n",
       "      <th></th>\n",
       "      <th>Name</th>\n",
       "      <th>Marks</th>\n",
       "      <th>Class</th>\n",
       "    </tr>\n",
       "  </thead>\n",
       "  <tbody>\n",
       "    <tr>\n",
       "      <th>0</th>\n",
       "      <td>Anees Ahmad</td>\n",
       "      <td>80</td>\n",
       "      <td>4th Year</td>\n",
       "    </tr>\n",
       "    <tr>\n",
       "      <th>1</th>\n",
       "      <td>Ayan Alam</td>\n",
       "      <td>72</td>\n",
       "      <td>4th Year</td>\n",
       "    </tr>\n",
       "    <tr>\n",
       "      <th>2</th>\n",
       "      <td>Abid Khan</td>\n",
       "      <td>77</td>\n",
       "      <td>3rd Year</td>\n",
       "    </tr>\n",
       "    <tr>\n",
       "      <th>3</th>\n",
       "      <td>Usama Khan</td>\n",
       "      <td>65</td>\n",
       "      <td>3rd Year</td>\n",
       "    </tr>\n",
       "    <tr>\n",
       "      <th>4</th>\n",
       "      <td>Qasim Shah</td>\n",
       "      <td>15</td>\n",
       "      <td>2nd Year</td>\n",
       "    </tr>\n",
       "  </tbody>\n",
       "</table>\n",
       "</div>"
      ],
      "text/plain": [
       "          Name  Marks     Class\n",
       "0  Anees Ahmad     80  4th Year\n",
       "1    Ayan Alam     72  4th Year\n",
       "2    Abid Khan     77  3rd Year\n",
       "3   Usama Khan     65  3rd Year\n",
       "4   Qasim Shah     15  2nd Year"
      ]
     },
     "execution_count": 19,
     "metadata": {},
     "output_type": "execute_result"
    }
   ],
   "source": [
    "df.tail()"
   ]
  },
  {
   "cell_type": "code",
   "execution_count": 20,
   "id": "d4e52c58",
   "metadata": {},
   "outputs": [
    {
     "data": {
      "text/html": [
       "<div>\n",
       "<style scoped>\n",
       "    .dataframe tbody tr th:only-of-type {\n",
       "        vertical-align: middle;\n",
       "    }\n",
       "\n",
       "    .dataframe tbody tr th {\n",
       "        vertical-align: top;\n",
       "    }\n",
       "\n",
       "    .dataframe thead th {\n",
       "        text-align: right;\n",
       "    }\n",
       "</style>\n",
       "<table border=\"1\" class=\"dataframe\">\n",
       "  <thead>\n",
       "    <tr style=\"text-align: right;\">\n",
       "      <th></th>\n",
       "      <th>Marks</th>\n",
       "    </tr>\n",
       "  </thead>\n",
       "  <tbody>\n",
       "    <tr>\n",
       "      <th>count</th>\n",
       "      <td>5.000000</td>\n",
       "    </tr>\n",
       "    <tr>\n",
       "      <th>mean</th>\n",
       "      <td>61.800000</td>\n",
       "    </tr>\n",
       "    <tr>\n",
       "      <th>std</th>\n",
       "      <td>26.771253</td>\n",
       "    </tr>\n",
       "    <tr>\n",
       "      <th>min</th>\n",
       "      <td>15.000000</td>\n",
       "    </tr>\n",
       "    <tr>\n",
       "      <th>25%</th>\n",
       "      <td>65.000000</td>\n",
       "    </tr>\n",
       "    <tr>\n",
       "      <th>50%</th>\n",
       "      <td>72.000000</td>\n",
       "    </tr>\n",
       "    <tr>\n",
       "      <th>75%</th>\n",
       "      <td>77.000000</td>\n",
       "    </tr>\n",
       "    <tr>\n",
       "      <th>max</th>\n",
       "      <td>80.000000</td>\n",
       "    </tr>\n",
       "  </tbody>\n",
       "</table>\n",
       "</div>"
      ],
      "text/plain": [
       "           Marks\n",
       "count   5.000000\n",
       "mean   61.800000\n",
       "std    26.771253\n",
       "min    15.000000\n",
       "25%    65.000000\n",
       "50%    72.000000\n",
       "75%    77.000000\n",
       "max    80.000000"
      ]
     },
     "execution_count": 20,
     "metadata": {},
     "output_type": "execute_result"
    }
   ],
   "source": [
    "df.describe()"
   ]
  },
  {
   "cell_type": "code",
   "execution_count": 21,
   "id": "cef41eeb",
   "metadata": {},
   "outputs": [],
   "source": [
    "classData= pd.read_csv(r\"C:\\Users\\swiss\\Desktop\\ML\\3.2.csv\")"
   ]
  },
  {
   "cell_type": "code",
   "execution_count": 22,
   "id": "68ab1c5b",
   "metadata": {
    "scrolled": true
   },
   "outputs": [
    {
     "data": {
      "text/html": [
       "<div>\n",
       "<style scoped>\n",
       "    .dataframe tbody tr th:only-of-type {\n",
       "        vertical-align: middle;\n",
       "    }\n",
       "\n",
       "    .dataframe tbody tr th {\n",
       "        vertical-align: top;\n",
       "    }\n",
       "\n",
       "    .dataframe thead th {\n",
       "        text-align: right;\n",
       "    }\n",
       "</style>\n",
       "<table border=\"1\" class=\"dataframe\">\n",
       "  <thead>\n",
       "    <tr style=\"text-align: right;\">\n",
       "      <th></th>\n",
       "      <th>Unnamed: 0</th>\n",
       "      <th>Name</th>\n",
       "      <th>Marks</th>\n",
       "      <th>Class</th>\n",
       "    </tr>\n",
       "  </thead>\n",
       "  <tbody>\n",
       "    <tr>\n",
       "      <th>0</th>\n",
       "      <td>0</td>\n",
       "      <td>Anees Ahmad</td>\n",
       "      <td>80</td>\n",
       "      <td>4th Year</td>\n",
       "    </tr>\n",
       "    <tr>\n",
       "      <th>1</th>\n",
       "      <td>1</td>\n",
       "      <td>Ayan Alam</td>\n",
       "      <td>72</td>\n",
       "      <td>4th Year</td>\n",
       "    </tr>\n",
       "    <tr>\n",
       "      <th>2</th>\n",
       "      <td>2</td>\n",
       "      <td>Abid Khan</td>\n",
       "      <td>77</td>\n",
       "      <td>3rd Year</td>\n",
       "    </tr>\n",
       "    <tr>\n",
       "      <th>3</th>\n",
       "      <td>3</td>\n",
       "      <td>Usama Khan</td>\n",
       "      <td>65</td>\n",
       "      <td>3rd Year</td>\n",
       "    </tr>\n",
       "    <tr>\n",
       "      <th>4</th>\n",
       "      <td>4</td>\n",
       "      <td>Qasim Shah</td>\n",
       "      <td>15</td>\n",
       "      <td>2nd Year</td>\n",
       "    </tr>\n",
       "  </tbody>\n",
       "</table>\n",
       "</div>"
      ],
      "text/plain": [
       "   Unnamed: 0         Name  Marks     Class\n",
       "0           0  Anees Ahmad     80  4th Year\n",
       "1           1    Ayan Alam     72  4th Year\n",
       "2           2    Abid Khan     77  3rd Year\n",
       "3           3   Usama Khan     65  3rd Year\n",
       "4           4   Qasim Shah     15  2nd Year"
      ]
     },
     "execution_count": 22,
     "metadata": {},
     "output_type": "execute_result"
    }
   ],
   "source": [
    "classData"
   ]
  },
  {
   "cell_type": "code",
   "execution_count": 23,
   "id": "830bb23b",
   "metadata": {},
   "outputs": [
    {
     "data": {
      "text/html": [
       "<div>\n",
       "<style scoped>\n",
       "    .dataframe tbody tr th:only-of-type {\n",
       "        vertical-align: middle;\n",
       "    }\n",
       "\n",
       "    .dataframe tbody tr th {\n",
       "        vertical-align: top;\n",
       "    }\n",
       "\n",
       "    .dataframe thead th {\n",
       "        text-align: right;\n",
       "    }\n",
       "</style>\n",
       "<table border=\"1\" class=\"dataframe\">\n",
       "  <thead>\n",
       "    <tr style=\"text-align: right;\">\n",
       "      <th></th>\n",
       "      <th>Unnamed: 0</th>\n",
       "      <th>Name</th>\n",
       "      <th>Marks</th>\n",
       "      <th>Class</th>\n",
       "    </tr>\n",
       "  </thead>\n",
       "  <tbody>\n",
       "    <tr>\n",
       "      <th>1</th>\n",
       "      <td>1</td>\n",
       "      <td>Ayan Alam</td>\n",
       "      <td>72</td>\n",
       "      <td>4th Year</td>\n",
       "    </tr>\n",
       "    <tr>\n",
       "      <th>2</th>\n",
       "      <td>2</td>\n",
       "      <td>Abid Khan</td>\n",
       "      <td>77</td>\n",
       "      <td>3rd Year</td>\n",
       "    </tr>\n",
       "    <tr>\n",
       "      <th>3</th>\n",
       "      <td>3</td>\n",
       "      <td>Usama Khan</td>\n",
       "      <td>65</td>\n",
       "      <td>3rd Year</td>\n",
       "    </tr>\n",
       "    <tr>\n",
       "      <th>4</th>\n",
       "      <td>4</td>\n",
       "      <td>Qasim Shah</td>\n",
       "      <td>15</td>\n",
       "      <td>2nd Year</td>\n",
       "    </tr>\n",
       "  </tbody>\n",
       "</table>\n",
       "</div>"
      ],
      "text/plain": [
       "   Unnamed: 0        Name  Marks     Class\n",
       "1           1   Ayan Alam     72  4th Year\n",
       "2           2   Abid Khan     77  3rd Year\n",
       "3           3  Usama Khan     65  3rd Year\n",
       "4           4  Qasim Shah     15  2nd Year"
      ]
     },
     "execution_count": 23,
     "metadata": {},
     "output_type": "execute_result"
    }
   ],
   "source": [
    "classData.drop(0, axis=0)"
   ]
  },
  {
   "cell_type": "code",
   "execution_count": 24,
   "id": "2a995fd3",
   "metadata": {},
   "outputs": [
    {
     "data": {
      "text/html": [
       "<div>\n",
       "<style scoped>\n",
       "    .dataframe tbody tr th:only-of-type {\n",
       "        vertical-align: middle;\n",
       "    }\n",
       "\n",
       "    .dataframe tbody tr th {\n",
       "        vertical-align: top;\n",
       "    }\n",
       "\n",
       "    .dataframe thead th {\n",
       "        text-align: right;\n",
       "    }\n",
       "</style>\n",
       "<table border=\"1\" class=\"dataframe\">\n",
       "  <thead>\n",
       "    <tr style=\"text-align: right;\">\n",
       "      <th></th>\n",
       "      <th>Unnamed: 0</th>\n",
       "      <th>Name</th>\n",
       "      <th>Marks</th>\n",
       "      <th>Class</th>\n",
       "    </tr>\n",
       "  </thead>\n",
       "  <tbody>\n",
       "    <tr>\n",
       "      <th>0</th>\n",
       "      <td>0</td>\n",
       "      <td>Anees Ahmad</td>\n",
       "      <td>80</td>\n",
       "      <td>4th Year</td>\n",
       "    </tr>\n",
       "    <tr>\n",
       "      <th>1</th>\n",
       "      <td>1</td>\n",
       "      <td>Ayan Alam</td>\n",
       "      <td>72</td>\n",
       "      <td>4th Year</td>\n",
       "    </tr>\n",
       "    <tr>\n",
       "      <th>2</th>\n",
       "      <td>2</td>\n",
       "      <td>Abid Khan</td>\n",
       "      <td>77</td>\n",
       "      <td>3rd Year</td>\n",
       "    </tr>\n",
       "    <tr>\n",
       "      <th>3</th>\n",
       "      <td>3</td>\n",
       "      <td>Usama Khan</td>\n",
       "      <td>65</td>\n",
       "      <td>3rd Year</td>\n",
       "    </tr>\n",
       "    <tr>\n",
       "      <th>4</th>\n",
       "      <td>4</td>\n",
       "      <td>Qasim Shah</td>\n",
       "      <td>15</td>\n",
       "      <td>2nd Year</td>\n",
       "    </tr>\n",
       "  </tbody>\n",
       "</table>\n",
       "</div>"
      ],
      "text/plain": [
       "   Unnamed: 0         Name  Marks     Class\n",
       "0           0  Anees Ahmad     80  4th Year\n",
       "1           1    Ayan Alam     72  4th Year\n",
       "2           2    Abid Khan     77  3rd Year\n",
       "3           3   Usama Khan     65  3rd Year\n",
       "4           4   Qasim Shah     15  2nd Year"
      ]
     },
     "execution_count": 24,
     "metadata": {},
     "output_type": "execute_result"
    }
   ],
   "source": [
    "classData"
   ]
  },
  {
   "cell_type": "code",
   "execution_count": 26,
   "id": "2c7214e7",
   "metadata": {},
   "outputs": [
    {
     "data": {
      "text/plain": [
       "0    80\n",
       "1    72\n",
       "2    77\n",
       "3    65\n",
       "4    15\n",
       "Name: Marks, dtype: int64"
      ]
     },
     "execution_count": 26,
     "metadata": {},
     "output_type": "execute_result"
    }
   ],
   "source": [
    "classData['Marks']"
   ]
  },
  {
   "cell_type": "code",
   "execution_count": 27,
   "id": "a8ed245d",
   "metadata": {},
   "outputs": [
    {
     "data": {
      "text/plain": [
       "0    Anees Ahmad\n",
       "1      Ayan Alam\n",
       "2      Abid Khan\n",
       "3     Usama Khan\n",
       "4     Qasim Shah\n",
       "Name: Name, dtype: object"
      ]
     },
     "execution_count": 27,
     "metadata": {},
     "output_type": "execute_result"
    }
   ],
   "source": [
    "classData['Name']"
   ]
  },
  {
   "cell_type": "code",
   "execution_count": 29,
   "id": "59bf8806",
   "metadata": {},
   "outputs": [
    {
     "data": {
      "text/plain": [
       "0    4th Year\n",
       "1    4th Year\n",
       "2    3rd Year\n",
       "3    3rd Year\n",
       "4    2nd Year\n",
       "Name: Class, dtype: object"
      ]
     },
     "execution_count": 29,
     "metadata": {},
     "output_type": "execute_result"
    }
   ],
   "source": [
    "classData['Class']"
   ]
  },
  {
   "cell_type": "code",
   "execution_count": 30,
   "id": "377b2115",
   "metadata": {},
   "outputs": [
    {
     "data": {
      "text/plain": [
       "pandas.core.series.Series"
      ]
     },
     "execution_count": 30,
     "metadata": {},
     "output_type": "execute_result"
    }
   ],
   "source": [
    "type(classData['Name'])"
   ]
  },
  {
   "cell_type": "code",
   "execution_count": 31,
   "id": "c40e2744",
   "metadata": {},
   "outputs": [
    {
     "data": {
      "text/plain": [
       "np.int64(80)"
      ]
     },
     "execution_count": 31,
     "metadata": {},
     "output_type": "execute_result"
    }
   ],
   "source": [
    "classData['Marks'][0]"
   ]
  },
  {
   "cell_type": "code",
   "execution_count": 32,
   "id": "4b39e3e9",
   "metadata": {},
   "outputs": [
    {
     "name": "stderr",
     "output_type": "stream",
     "text": [
      "C:\\Users\\swiss\\AppData\\Local\\Temp\\ipykernel_5680\\3766287785.py:1: SettingWithCopyWarning: \n",
      "A value is trying to be set on a copy of a slice from a DataFrame\n",
      "\n",
      "See the caveats in the documentation: https://pandas.pydata.org/pandas-docs/stable/user_guide/indexing.html#returning-a-view-versus-a-copy\n",
      "  classData['Marks'][0]=90\n"
     ]
    }
   ],
   "source": [
    "classData['Marks'][0]=90"
   ]
  },
  {
   "cell_type": "code",
   "execution_count": 33,
   "id": "4f1aaee2",
   "metadata": {},
   "outputs": [
    {
     "data": {
      "text/html": [
       "<div>\n",
       "<style scoped>\n",
       "    .dataframe tbody tr th:only-of-type {\n",
       "        vertical-align: middle;\n",
       "    }\n",
       "\n",
       "    .dataframe tbody tr th {\n",
       "        vertical-align: top;\n",
       "    }\n",
       "\n",
       "    .dataframe thead th {\n",
       "        text-align: right;\n",
       "    }\n",
       "</style>\n",
       "<table border=\"1\" class=\"dataframe\">\n",
       "  <thead>\n",
       "    <tr style=\"text-align: right;\">\n",
       "      <th></th>\n",
       "      <th>Unnamed: 0</th>\n",
       "      <th>Name</th>\n",
       "      <th>Marks</th>\n",
       "      <th>Class</th>\n",
       "    </tr>\n",
       "  </thead>\n",
       "  <tbody>\n",
       "    <tr>\n",
       "      <th>0</th>\n",
       "      <td>0</td>\n",
       "      <td>Anees Ahmad</td>\n",
       "      <td>90</td>\n",
       "      <td>4th Year</td>\n",
       "    </tr>\n",
       "    <tr>\n",
       "      <th>1</th>\n",
       "      <td>1</td>\n",
       "      <td>Ayan Alam</td>\n",
       "      <td>72</td>\n",
       "      <td>4th Year</td>\n",
       "    </tr>\n",
       "    <tr>\n",
       "      <th>2</th>\n",
       "      <td>2</td>\n",
       "      <td>Abid Khan</td>\n",
       "      <td>77</td>\n",
       "      <td>3rd Year</td>\n",
       "    </tr>\n",
       "    <tr>\n",
       "      <th>3</th>\n",
       "      <td>3</td>\n",
       "      <td>Usama Khan</td>\n",
       "      <td>65</td>\n",
       "      <td>3rd Year</td>\n",
       "    </tr>\n",
       "    <tr>\n",
       "      <th>4</th>\n",
       "      <td>4</td>\n",
       "      <td>Qasim Shah</td>\n",
       "      <td>15</td>\n",
       "      <td>2nd Year</td>\n",
       "    </tr>\n",
       "  </tbody>\n",
       "</table>\n",
       "</div>"
      ],
      "text/plain": [
       "   Unnamed: 0         Name  Marks     Class\n",
       "0           0  Anees Ahmad     90  4th Year\n",
       "1           1    Ayan Alam     72  4th Year\n",
       "2           2    Abid Khan     77  3rd Year\n",
       "3           3   Usama Khan     65  3rd Year\n",
       "4           4   Qasim Shah     15  2nd Year"
      ]
     },
     "execution_count": 33,
     "metadata": {},
     "output_type": "execute_result"
    }
   ],
   "source": [
    "classData"
   ]
  },
  {
   "cell_type": "code",
   "execution_count": 34,
   "id": "564f6ae3",
   "metadata": {},
   "outputs": [
    {
     "data": {
      "text/plain": [
       "np.int64(15)"
      ]
     },
     "execution_count": 34,
     "metadata": {},
     "output_type": "execute_result"
    }
   ],
   "source": [
    "classData['Marks'][4]"
   ]
  },
  {
   "cell_type": "code",
   "execution_count": 35,
   "id": "b8ce8235",
   "metadata": {},
   "outputs": [
    {
     "name": "stderr",
     "output_type": "stream",
     "text": [
      "C:\\Users\\swiss\\AppData\\Local\\Temp\\ipykernel_5680\\305642868.py:1: SettingWithCopyWarning: \n",
      "A value is trying to be set on a copy of a slice from a DataFrame\n",
      "\n",
      "See the caveats in the documentation: https://pandas.pydata.org/pandas-docs/stable/user_guide/indexing.html#returning-a-view-versus-a-copy\n",
      "  classData['Marks'][4]=5\n"
     ]
    }
   ],
   "source": [
    "classData['Marks'][4]=5"
   ]
  },
  {
   "cell_type": "code",
   "execution_count": 36,
   "id": "6be8fba8",
   "metadata": {},
   "outputs": [
    {
     "name": "stderr",
     "output_type": "stream",
     "text": [
      "C:\\Users\\swiss\\AppData\\Local\\Temp\\ipykernel_5680\\3056981296.py:1: SettingWithCopyWarning: \n",
      "A value is trying to be set on a copy of a slice from a DataFrame\n",
      "\n",
      "See the caveats in the documentation: https://pandas.pydata.org/pandas-docs/stable/user_guide/indexing.html#returning-a-view-versus-a-copy\n",
      "  classData[\"Class\"][4]=\"Second Year\"\n"
     ]
    }
   ],
   "source": [
    "classData[\"Class\"][4]=\"Second Year\""
   ]
  },
  {
   "cell_type": "code",
   "execution_count": 37,
   "id": "da1ae981",
   "metadata": {},
   "outputs": [
    {
     "data": {
      "text/html": [
       "<div>\n",
       "<style scoped>\n",
       "    .dataframe tbody tr th:only-of-type {\n",
       "        vertical-align: middle;\n",
       "    }\n",
       "\n",
       "    .dataframe tbody tr th {\n",
       "        vertical-align: top;\n",
       "    }\n",
       "\n",
       "    .dataframe thead th {\n",
       "        text-align: right;\n",
       "    }\n",
       "</style>\n",
       "<table border=\"1\" class=\"dataframe\">\n",
       "  <thead>\n",
       "    <tr style=\"text-align: right;\">\n",
       "      <th></th>\n",
       "      <th>Unnamed: 0</th>\n",
       "      <th>Name</th>\n",
       "      <th>Marks</th>\n",
       "      <th>Class</th>\n",
       "    </tr>\n",
       "  </thead>\n",
       "  <tbody>\n",
       "    <tr>\n",
       "      <th>0</th>\n",
       "      <td>0</td>\n",
       "      <td>Anees Ahmad</td>\n",
       "      <td>90</td>\n",
       "      <td>4th Year</td>\n",
       "    </tr>\n",
       "    <tr>\n",
       "      <th>1</th>\n",
       "      <td>1</td>\n",
       "      <td>Ayan Alam</td>\n",
       "      <td>72</td>\n",
       "      <td>4th Year</td>\n",
       "    </tr>\n",
       "    <tr>\n",
       "      <th>2</th>\n",
       "      <td>2</td>\n",
       "      <td>Abid Khan</td>\n",
       "      <td>77</td>\n",
       "      <td>3rd Year</td>\n",
       "    </tr>\n",
       "    <tr>\n",
       "      <th>3</th>\n",
       "      <td>3</td>\n",
       "      <td>Usama Khan</td>\n",
       "      <td>65</td>\n",
       "      <td>3rd Year</td>\n",
       "    </tr>\n",
       "    <tr>\n",
       "      <th>4</th>\n",
       "      <td>4</td>\n",
       "      <td>Qasim Shah</td>\n",
       "      <td>5</td>\n",
       "      <td>Second Year</td>\n",
       "    </tr>\n",
       "  </tbody>\n",
       "</table>\n",
       "</div>"
      ],
      "text/plain": [
       "   Unnamed: 0         Name  Marks        Class\n",
       "0           0  Anees Ahmad     90     4th Year\n",
       "1           1    Ayan Alam     72     4th Year\n",
       "2           2    Abid Khan     77     3rd Year\n",
       "3           3   Usama Khan     65     3rd Year\n",
       "4           4   Qasim Shah      5  Second Year"
      ]
     },
     "execution_count": 37,
     "metadata": {},
     "output_type": "execute_result"
    }
   ],
   "source": [
    "classData"
   ]
  },
  {
   "cell_type": "code",
   "execution_count": 39,
   "id": "ac6a64b7",
   "metadata": {},
   "outputs": [
    {
     "data": {
      "text/plain": [
       "'Qasim Shah'"
      ]
     },
     "execution_count": 39,
     "metadata": {},
     "output_type": "execute_result"
    }
   ],
   "source": [
    "classData[\"Name\"][4]"
   ]
  },
  {
   "cell_type": "code",
   "execution_count": 40,
   "id": "5f4a0ec1",
   "metadata": {},
   "outputs": [
    {
     "data": {
      "text/html": [
       "<div>\n",
       "<style scoped>\n",
       "    .dataframe tbody tr th:only-of-type {\n",
       "        vertical-align: middle;\n",
       "    }\n",
       "\n",
       "    .dataframe tbody tr th {\n",
       "        vertical-align: top;\n",
       "    }\n",
       "\n",
       "    .dataframe thead th {\n",
       "        text-align: right;\n",
       "    }\n",
       "</style>\n",
       "<table border=\"1\" class=\"dataframe\">\n",
       "  <thead>\n",
       "    <tr style=\"text-align: right;\">\n",
       "      <th></th>\n",
       "      <th>Unnamed: 0</th>\n",
       "      <th>Name</th>\n",
       "      <th>Marks</th>\n",
       "      <th>Class</th>\n",
       "    </tr>\n",
       "  </thead>\n",
       "  <tbody>\n",
       "    <tr>\n",
       "      <th>0</th>\n",
       "      <td>0</td>\n",
       "      <td>Anees Ahmad</td>\n",
       "      <td>90</td>\n",
       "      <td>4th Year</td>\n",
       "    </tr>\n",
       "    <tr>\n",
       "      <th>1</th>\n",
       "      <td>1</td>\n",
       "      <td>Ayan Alam</td>\n",
       "      <td>72</td>\n",
       "      <td>4th Year</td>\n",
       "    </tr>\n",
       "    <tr>\n",
       "      <th>2</th>\n",
       "      <td>2</td>\n",
       "      <td>Abid Khan</td>\n",
       "      <td>77</td>\n",
       "      <td>3rd Year</td>\n",
       "    </tr>\n",
       "    <tr>\n",
       "      <th>3</th>\n",
       "      <td>3</td>\n",
       "      <td>Usama Khan</td>\n",
       "      <td>65</td>\n",
       "      <td>3rd Year</td>\n",
       "    </tr>\n",
       "    <tr>\n",
       "      <th>4</th>\n",
       "      <td>4</td>\n",
       "      <td>Qasim Shah</td>\n",
       "      <td>5</td>\n",
       "      <td>Second Year</td>\n",
       "    </tr>\n",
       "  </tbody>\n",
       "</table>\n",
       "</div>"
      ],
      "text/plain": [
       "   Unnamed: 0         Name  Marks        Class\n",
       "0           0  Anees Ahmad     90     4th Year\n",
       "1           1    Ayan Alam     72     4th Year\n",
       "2           2    Abid Khan     77     3rd Year\n",
       "3           3   Usama Khan     65     3rd Year\n",
       "4           4   Qasim Shah      5  Second Year"
      ]
     },
     "execution_count": 40,
     "metadata": {},
     "output_type": "execute_result"
    }
   ],
   "source": [
    "classData"
   ]
  },
  {
   "cell_type": "code",
   "execution_count": 41,
   "id": "76de56ae",
   "metadata": {},
   "outputs": [],
   "source": [
    "classData.to_csv('3.2New.csv')"
   ]
  },
  {
   "cell_type": "code",
   "execution_count": 42,
   "id": "5c113b0a",
   "metadata": {},
   "outputs": [],
   "source": [
    "classData.to_csv('3.2NewRemoveIndex.csv', index=False)"
   ]
  },
  {
   "cell_type": "markdown",
   "id": "8598ddd4",
   "metadata": {},
   "source": [
    "## Create Labels\n",
    "With the index argument, you can name your own labels."
   ]
  },
  {
   "cell_type": "code",
   "execution_count": 43,
   "id": "6068ca8d",
   "metadata": {},
   "outputs": [],
   "source": [
    "classData.index = [\"First\",\"Second\", \"Third\", \"Fourth\", \"Fifth\"]"
   ]
  },
  {
   "cell_type": "code",
   "execution_count": 44,
   "id": "11941c16",
   "metadata": {},
   "outputs": [
    {
     "data": {
      "text/html": [
       "<div>\n",
       "<style scoped>\n",
       "    .dataframe tbody tr th:only-of-type {\n",
       "        vertical-align: middle;\n",
       "    }\n",
       "\n",
       "    .dataframe tbody tr th {\n",
       "        vertical-align: top;\n",
       "    }\n",
       "\n",
       "    .dataframe thead th {\n",
       "        text-align: right;\n",
       "    }\n",
       "</style>\n",
       "<table border=\"1\" class=\"dataframe\">\n",
       "  <thead>\n",
       "    <tr style=\"text-align: right;\">\n",
       "      <th></th>\n",
       "      <th>Unnamed: 0</th>\n",
       "      <th>Name</th>\n",
       "      <th>Marks</th>\n",
       "      <th>Class</th>\n",
       "    </tr>\n",
       "  </thead>\n",
       "  <tbody>\n",
       "    <tr>\n",
       "      <th>First</th>\n",
       "      <td>0</td>\n",
       "      <td>Anees Ahmad</td>\n",
       "      <td>90</td>\n",
       "      <td>4th Year</td>\n",
       "    </tr>\n",
       "    <tr>\n",
       "      <th>Second</th>\n",
       "      <td>1</td>\n",
       "      <td>Ayan Alam</td>\n",
       "      <td>72</td>\n",
       "      <td>4th Year</td>\n",
       "    </tr>\n",
       "    <tr>\n",
       "      <th>Third</th>\n",
       "      <td>2</td>\n",
       "      <td>Abid Khan</td>\n",
       "      <td>77</td>\n",
       "      <td>3rd Year</td>\n",
       "    </tr>\n",
       "    <tr>\n",
       "      <th>Fourth</th>\n",
       "      <td>3</td>\n",
       "      <td>Usama Khan</td>\n",
       "      <td>65</td>\n",
       "      <td>3rd Year</td>\n",
       "    </tr>\n",
       "    <tr>\n",
       "      <th>Fifth</th>\n",
       "      <td>4</td>\n",
       "      <td>Qasim Shah</td>\n",
       "      <td>5</td>\n",
       "      <td>Second Year</td>\n",
       "    </tr>\n",
       "  </tbody>\n",
       "</table>\n",
       "</div>"
      ],
      "text/plain": [
       "        Unnamed: 0         Name  Marks        Class\n",
       "First            0  Anees Ahmad     90     4th Year\n",
       "Second           1    Ayan Alam     72     4th Year\n",
       "Third            2    Abid Khan     77     3rd Year\n",
       "Fourth           3   Usama Khan     65     3rd Year\n",
       "Fifth            4   Qasim Shah      5  Second Year"
      ]
     },
     "execution_count": 44,
     "metadata": {},
     "output_type": "execute_result"
    }
   ],
   "source": [
    "classData"
   ]
  },
  {
   "cell_type": "code",
   "execution_count": 45,
   "id": "8c7dc4ab",
   "metadata": {},
   "outputs": [
    {
     "data": {
      "text/plain": [
       "'Qasim Shah'"
      ]
     },
     "execution_count": 45,
     "metadata": {},
     "output_type": "execute_result"
    }
   ],
   "source": [
    "classData[\"Name\"][\"Fifth\"]"
   ]
  },
  {
   "cell_type": "markdown",
   "id": "ef732464",
   "metadata": {},
   "source": [
    "## Pandas \n",
    "Pandas is an open source data analysis library written in Python.<br>\n",
    "It uses the power and speed of numpy to make data analysis and preprocessing easy for data scientists.<br>\n",
    "__Pandas__ is used to analyze data.<br>\n",
    "Python data analysis using pandas is a great start to Exploratory Data Analysis (EDA) for a data scientist."
   ]
  },
  {
   "cell_type": "markdown",
   "id": "67c0937b",
   "metadata": {},
   "source": [
    "## Pandas Data Structure\n",
    "Panda has two types of Data Structure:<br> \n",
    "    a) Series<br>\n",
    "    b) Dataframe\n",
    "### Series\n",
    "It is a one dimentional array with indexes. It stores a single column or row of data in a Dataframe.<br>\n",
    "It is a one dimensional array capable of holding any type of data.\n",
    "### Dataframe\n",
    "It is a tabular spreadsheet like structure representing rows each of which contains one or more columns.<br>\n",
    "It is a multi dimensional array capable of holding any type of data.<br>\n",
    "__Series__ is like a column, a __DataFrame__ is the whole table."
   ]
  },
  {
   "cell_type": "code",
   "execution_count": 46,
   "id": "036c76bb",
   "metadata": {},
   "outputs": [
    {
     "data": {
      "text/plain": [
       "First     90\n",
       "Second    72\n",
       "Third     77\n",
       "Fourth    65\n",
       "Fifth      5\n",
       "Name: Marks, dtype: int64"
      ]
     },
     "execution_count": 46,
     "metadata": {},
     "output_type": "execute_result"
    }
   ],
   "source": [
    "classData['Marks']"
   ]
  },
  {
   "cell_type": "code",
   "execution_count": 47,
   "id": "2513c566",
   "metadata": {},
   "outputs": [
    {
     "data": {
      "text/plain": [
       "pandas.core.series.Series"
      ]
     },
     "execution_count": 47,
     "metadata": {},
     "output_type": "execute_result"
    }
   ],
   "source": [
    "type(classData['Marks'])"
   ]
  },
  {
   "cell_type": "code",
   "execution_count": 48,
   "id": "322c0ff8",
   "metadata": {},
   "outputs": [
    {
     "data": {
      "text/html": [
       "<div>\n",
       "<style scoped>\n",
       "    .dataframe tbody tr th:only-of-type {\n",
       "        vertical-align: middle;\n",
       "    }\n",
       "\n",
       "    .dataframe tbody tr th {\n",
       "        vertical-align: top;\n",
       "    }\n",
       "\n",
       "    .dataframe thead th {\n",
       "        text-align: right;\n",
       "    }\n",
       "</style>\n",
       "<table border=\"1\" class=\"dataframe\">\n",
       "  <thead>\n",
       "    <tr style=\"text-align: right;\">\n",
       "      <th></th>\n",
       "      <th>Unnamed: 0</th>\n",
       "      <th>Name</th>\n",
       "      <th>Marks</th>\n",
       "      <th>Class</th>\n",
       "    </tr>\n",
       "  </thead>\n",
       "  <tbody>\n",
       "    <tr>\n",
       "      <th>First</th>\n",
       "      <td>0</td>\n",
       "      <td>Anees Ahmad</td>\n",
       "      <td>90</td>\n",
       "      <td>4th Year</td>\n",
       "    </tr>\n",
       "    <tr>\n",
       "      <th>Second</th>\n",
       "      <td>1</td>\n",
       "      <td>Ayan Alam</td>\n",
       "      <td>72</td>\n",
       "      <td>4th Year</td>\n",
       "    </tr>\n",
       "    <tr>\n",
       "      <th>Third</th>\n",
       "      <td>2</td>\n",
       "      <td>Abid Khan</td>\n",
       "      <td>77</td>\n",
       "      <td>3rd Year</td>\n",
       "    </tr>\n",
       "    <tr>\n",
       "      <th>Fourth</th>\n",
       "      <td>3</td>\n",
       "      <td>Usama Khan</td>\n",
       "      <td>65</td>\n",
       "      <td>3rd Year</td>\n",
       "    </tr>\n",
       "    <tr>\n",
       "      <th>Fifth</th>\n",
       "      <td>4</td>\n",
       "      <td>Qasim Shah</td>\n",
       "      <td>5</td>\n",
       "      <td>Second Year</td>\n",
       "    </tr>\n",
       "  </tbody>\n",
       "</table>\n",
       "</div>"
      ],
      "text/plain": [
       "        Unnamed: 0         Name  Marks        Class\n",
       "First            0  Anees Ahmad     90     4th Year\n",
       "Second           1    Ayan Alam     72     4th Year\n",
       "Third            2    Abid Khan     77     3rd Year\n",
       "Fourth           3   Usama Khan     65     3rd Year\n",
       "Fifth            4   Qasim Shah      5  Second Year"
      ]
     },
     "execution_count": 48,
     "metadata": {},
     "output_type": "execute_result"
    }
   ],
   "source": [
    "classData"
   ]
  },
  {
   "cell_type": "code",
   "execution_count": 49,
   "id": "5a3ab22e",
   "metadata": {},
   "outputs": [
    {
     "data": {
      "text/plain": [
       "pandas.core.frame.DataFrame"
      ]
     },
     "execution_count": 49,
     "metadata": {},
     "output_type": "execute_result"
    }
   ],
   "source": [
    "type(classData)"
   ]
  },
  {
   "cell_type": "code",
   "execution_count": 50,
   "id": "5268b0a9",
   "metadata": {},
   "outputs": [],
   "source": [
    "import numpy as np"
   ]
  },
  {
   "cell_type": "code",
   "execution_count": 51,
   "id": "54345486",
   "metadata": {},
   "outputs": [],
   "source": [
    "series1= pd.Series(np.random.rand())"
   ]
  },
  {
   "cell_type": "code",
   "execution_count": 52,
   "id": "c19c0a18",
   "metadata": {},
   "outputs": [
    {
     "data": {
      "text/plain": [
       "0    0.628757\n",
       "dtype: float64"
      ]
     },
     "execution_count": 52,
     "metadata": {},
     "output_type": "execute_result"
    }
   ],
   "source": [
    "series1"
   ]
  },
  {
   "cell_type": "code",
   "execution_count": 53,
   "id": "3962ba6d",
   "metadata": {},
   "outputs": [],
   "source": [
    "series1= pd.Series(np.random.rand(30))"
   ]
  },
  {
   "cell_type": "code",
   "execution_count": 54,
   "id": "0f576808",
   "metadata": {},
   "outputs": [
    {
     "data": {
      "text/plain": [
       "0     0.409131\n",
       "1     0.398762\n",
       "2     0.123538\n",
       "3     0.115565\n",
       "4     0.097431\n",
       "5     0.148935\n",
       "6     0.478136\n",
       "7     0.602219\n",
       "8     0.446609\n",
       "9     0.061353\n",
       "10    0.180414\n",
       "11    0.348278\n",
       "12    0.520938\n",
       "13    0.398247\n",
       "14    0.945391\n",
       "15    0.504382\n",
       "16    0.923536\n",
       "17    0.619412\n",
       "18    0.939505\n",
       "19    0.618949\n",
       "20    0.702216\n",
       "21    0.021782\n",
       "22    0.350064\n",
       "23    0.732798\n",
       "24    0.820468\n",
       "25    0.193747\n",
       "26    0.654436\n",
       "27    0.683328\n",
       "28    0.790655\n",
       "29    0.704789\n",
       "dtype: float64"
      ]
     },
     "execution_count": 54,
     "metadata": {},
     "output_type": "execute_result"
    }
   ],
   "source": [
    "series1"
   ]
  },
  {
   "cell_type": "code",
   "execution_count": 55,
   "id": "e5e9ce8d",
   "metadata": {},
   "outputs": [
    {
     "data": {
      "text/plain": [
       "pandas.core.series.Series"
      ]
     },
     "execution_count": 55,
     "metadata": {},
     "output_type": "execute_result"
    }
   ],
   "source": [
    "type(series1)"
   ]
  },
  {
   "cell_type": "code",
   "execution_count": 56,
   "id": "79f949f5",
   "metadata": {},
   "outputs": [],
   "source": [
    "newDf = pd.DataFrame(np.random.rand(330,5))\n",
    "# newDf = pd.DataFrame(np.random.rand(330,5), index=np.arange(330))"
   ]
  },
  {
   "cell_type": "code",
   "execution_count": 57,
   "id": "444b2e6a",
   "metadata": {},
   "outputs": [
    {
     "data": {
      "text/plain": [
       "pandas.core.frame.DataFrame"
      ]
     },
     "execution_count": 57,
     "metadata": {},
     "output_type": "execute_result"
    }
   ],
   "source": [
    "type(newDf)"
   ]
  },
  {
   "cell_type": "code",
   "execution_count": 58,
   "id": "55b8ed35",
   "metadata": {},
   "outputs": [
    {
     "data": {
      "text/html": [
       "<div>\n",
       "<style scoped>\n",
       "    .dataframe tbody tr th:only-of-type {\n",
       "        vertical-align: middle;\n",
       "    }\n",
       "\n",
       "    .dataframe tbody tr th {\n",
       "        vertical-align: top;\n",
       "    }\n",
       "\n",
       "    .dataframe thead th {\n",
       "        text-align: right;\n",
       "    }\n",
       "</style>\n",
       "<table border=\"1\" class=\"dataframe\">\n",
       "  <thead>\n",
       "    <tr style=\"text-align: right;\">\n",
       "      <th></th>\n",
       "      <th>0</th>\n",
       "      <th>1</th>\n",
       "      <th>2</th>\n",
       "      <th>3</th>\n",
       "      <th>4</th>\n",
       "    </tr>\n",
       "  </thead>\n",
       "  <tbody>\n",
       "    <tr>\n",
       "      <th>0</th>\n",
       "      <td>0.416113</td>\n",
       "      <td>0.207910</td>\n",
       "      <td>0.164216</td>\n",
       "      <td>0.525284</td>\n",
       "      <td>0.768124</td>\n",
       "    </tr>\n",
       "    <tr>\n",
       "      <th>1</th>\n",
       "      <td>0.383548</td>\n",
       "      <td>0.168433</td>\n",
       "      <td>0.187929</td>\n",
       "      <td>0.613764</td>\n",
       "      <td>0.904613</td>\n",
       "    </tr>\n",
       "    <tr>\n",
       "      <th>2</th>\n",
       "      <td>0.257243</td>\n",
       "      <td>0.712012</td>\n",
       "      <td>0.088637</td>\n",
       "      <td>0.116315</td>\n",
       "      <td>0.298110</td>\n",
       "    </tr>\n",
       "    <tr>\n",
       "      <th>3</th>\n",
       "      <td>0.466084</td>\n",
       "      <td>0.323729</td>\n",
       "      <td>0.351574</td>\n",
       "      <td>0.456606</td>\n",
       "      <td>0.776034</td>\n",
       "    </tr>\n",
       "    <tr>\n",
       "      <th>4</th>\n",
       "      <td>0.467989</td>\n",
       "      <td>0.821382</td>\n",
       "      <td>0.451938</td>\n",
       "      <td>0.351626</td>\n",
       "      <td>0.534904</td>\n",
       "    </tr>\n",
       "    <tr>\n",
       "      <th>...</th>\n",
       "      <td>...</td>\n",
       "      <td>...</td>\n",
       "      <td>...</td>\n",
       "      <td>...</td>\n",
       "      <td>...</td>\n",
       "    </tr>\n",
       "    <tr>\n",
       "      <th>325</th>\n",
       "      <td>0.008772</td>\n",
       "      <td>0.059339</td>\n",
       "      <td>0.890778</td>\n",
       "      <td>0.699782</td>\n",
       "      <td>0.620969</td>\n",
       "    </tr>\n",
       "    <tr>\n",
       "      <th>326</th>\n",
       "      <td>0.920939</td>\n",
       "      <td>0.138594</td>\n",
       "      <td>0.511774</td>\n",
       "      <td>0.324026</td>\n",
       "      <td>0.346258</td>\n",
       "    </tr>\n",
       "    <tr>\n",
       "      <th>327</th>\n",
       "      <td>0.863215</td>\n",
       "      <td>0.125109</td>\n",
       "      <td>0.604982</td>\n",
       "      <td>0.110215</td>\n",
       "      <td>0.794862</td>\n",
       "    </tr>\n",
       "    <tr>\n",
       "      <th>328</th>\n",
       "      <td>0.616395</td>\n",
       "      <td>0.529457</td>\n",
       "      <td>0.084746</td>\n",
       "      <td>0.024979</td>\n",
       "      <td>0.110618</td>\n",
       "    </tr>\n",
       "    <tr>\n",
       "      <th>329</th>\n",
       "      <td>0.100672</td>\n",
       "      <td>0.315478</td>\n",
       "      <td>0.895678</td>\n",
       "      <td>0.639590</td>\n",
       "      <td>0.903344</td>\n",
       "    </tr>\n",
       "  </tbody>\n",
       "</table>\n",
       "<p>330 rows × 5 columns</p>\n",
       "</div>"
      ],
      "text/plain": [
       "            0         1         2         3         4\n",
       "0    0.416113  0.207910  0.164216  0.525284  0.768124\n",
       "1    0.383548  0.168433  0.187929  0.613764  0.904613\n",
       "2    0.257243  0.712012  0.088637  0.116315  0.298110\n",
       "3    0.466084  0.323729  0.351574  0.456606  0.776034\n",
       "4    0.467989  0.821382  0.451938  0.351626  0.534904\n",
       "..        ...       ...       ...       ...       ...\n",
       "325  0.008772  0.059339  0.890778  0.699782  0.620969\n",
       "326  0.920939  0.138594  0.511774  0.324026  0.346258\n",
       "327  0.863215  0.125109  0.604982  0.110215  0.794862\n",
       "328  0.616395  0.529457  0.084746  0.024979  0.110618\n",
       "329  0.100672  0.315478  0.895678  0.639590  0.903344\n",
       "\n",
       "[330 rows x 5 columns]"
      ]
     },
     "execution_count": 58,
     "metadata": {},
     "output_type": "execute_result"
    }
   ],
   "source": [
    "newDf"
   ]
  },
  {
   "cell_type": "code",
   "execution_count": 59,
   "id": "28b371fe",
   "metadata": {},
   "outputs": [
    {
     "data": {
      "text/html": [
       "<div>\n",
       "<style scoped>\n",
       "    .dataframe tbody tr th:only-of-type {\n",
       "        vertical-align: middle;\n",
       "    }\n",
       "\n",
       "    .dataframe tbody tr th {\n",
       "        vertical-align: top;\n",
       "    }\n",
       "\n",
       "    .dataframe thead th {\n",
       "        text-align: right;\n",
       "    }\n",
       "</style>\n",
       "<table border=\"1\" class=\"dataframe\">\n",
       "  <thead>\n",
       "    <tr style=\"text-align: right;\">\n",
       "      <th></th>\n",
       "      <th>0</th>\n",
       "      <th>1</th>\n",
       "      <th>2</th>\n",
       "      <th>3</th>\n",
       "      <th>4</th>\n",
       "    </tr>\n",
       "  </thead>\n",
       "  <tbody>\n",
       "    <tr>\n",
       "      <th>0</th>\n",
       "      <td>0.416113</td>\n",
       "      <td>0.207910</td>\n",
       "      <td>0.164216</td>\n",
       "      <td>0.525284</td>\n",
       "      <td>0.768124</td>\n",
       "    </tr>\n",
       "    <tr>\n",
       "      <th>1</th>\n",
       "      <td>0.383548</td>\n",
       "      <td>0.168433</td>\n",
       "      <td>0.187929</td>\n",
       "      <td>0.613764</td>\n",
       "      <td>0.904613</td>\n",
       "    </tr>\n",
       "  </tbody>\n",
       "</table>\n",
       "</div>"
      ],
      "text/plain": [
       "          0         1         2         3         4\n",
       "0  0.416113  0.207910  0.164216  0.525284  0.768124\n",
       "1  0.383548  0.168433  0.187929  0.613764  0.904613"
      ]
     },
     "execution_count": 59,
     "metadata": {},
     "output_type": "execute_result"
    }
   ],
   "source": [
    "newDf.head(2)"
   ]
  },
  {
   "cell_type": "code",
   "execution_count": 60,
   "id": "50d431a7",
   "metadata": {},
   "outputs": [
    {
     "data": {
      "text/plain": [
       "0    float64\n",
       "1    float64\n",
       "2    float64\n",
       "3    float64\n",
       "4    float64\n",
       "dtype: object"
      ]
     },
     "execution_count": 60,
     "metadata": {},
     "output_type": "execute_result"
    }
   ],
   "source": [
    "newDf.dtypes"
   ]
  },
  {
   "cell_type": "code",
   "execution_count": 61,
   "id": "7eb41a2e",
   "metadata": {},
   "outputs": [
    {
     "data": {
      "text/html": [
       "<div>\n",
       "<style scoped>\n",
       "    .dataframe tbody tr th:only-of-type {\n",
       "        vertical-align: middle;\n",
       "    }\n",
       "\n",
       "    .dataframe tbody tr th {\n",
       "        vertical-align: top;\n",
       "    }\n",
       "\n",
       "    .dataframe thead th {\n",
       "        text-align: right;\n",
       "    }\n",
       "</style>\n",
       "<table border=\"1\" class=\"dataframe\">\n",
       "  <thead>\n",
       "    <tr style=\"text-align: right;\">\n",
       "      <th></th>\n",
       "      <th>0</th>\n",
       "      <th>1</th>\n",
       "      <th>2</th>\n",
       "      <th>3</th>\n",
       "      <th>4</th>\n",
       "    </tr>\n",
       "  </thead>\n",
       "  <tbody>\n",
       "    <tr>\n",
       "      <th>328</th>\n",
       "      <td>0.616395</td>\n",
       "      <td>0.529457</td>\n",
       "      <td>0.084746</td>\n",
       "      <td>0.024979</td>\n",
       "      <td>0.110618</td>\n",
       "    </tr>\n",
       "    <tr>\n",
       "      <th>329</th>\n",
       "      <td>0.100672</td>\n",
       "      <td>0.315478</td>\n",
       "      <td>0.895678</td>\n",
       "      <td>0.639590</td>\n",
       "      <td>0.903344</td>\n",
       "    </tr>\n",
       "  </tbody>\n",
       "</table>\n",
       "</div>"
      ],
      "text/plain": [
       "            0         1         2         3         4\n",
       "328  0.616395  0.529457  0.084746  0.024979  0.110618\n",
       "329  0.100672  0.315478  0.895678  0.639590  0.903344"
      ]
     },
     "execution_count": 61,
     "metadata": {},
     "output_type": "execute_result"
    }
   ],
   "source": [
    "newDf.tail(2)"
   ]
  },
  {
   "cell_type": "code",
   "execution_count": 62,
   "id": "76d60e8e",
   "metadata": {},
   "outputs": [
    {
     "name": "stdout",
     "output_type": "stream",
     "text": [
      "<class 'pandas.core.frame.DataFrame'>\n",
      "RangeIndex: 330 entries, 0 to 329\n",
      "Data columns (total 5 columns):\n",
      " #   Column  Non-Null Count  Dtype  \n",
      "---  ------  --------------  -----  \n",
      " 0   0       330 non-null    float64\n",
      " 1   1       330 non-null    float64\n",
      " 2   2       330 non-null    float64\n",
      " 3   3       330 non-null    float64\n",
      " 4   4       330 non-null    float64\n",
      "dtypes: float64(5)\n",
      "memory usage: 13.0 KB\n"
     ]
    }
   ],
   "source": [
    "newDf.info()"
   ]
  },
  {
   "cell_type": "code",
   "execution_count": 63,
   "id": "223d5cec",
   "metadata": {},
   "outputs": [
    {
     "data": {
      "text/html": [
       "<div>\n",
       "<style scoped>\n",
       "    .dataframe tbody tr th:only-of-type {\n",
       "        vertical-align: middle;\n",
       "    }\n",
       "\n",
       "    .dataframe tbody tr th {\n",
       "        vertical-align: top;\n",
       "    }\n",
       "\n",
       "    .dataframe thead th {\n",
       "        text-align: right;\n",
       "    }\n",
       "</style>\n",
       "<table border=\"1\" class=\"dataframe\">\n",
       "  <thead>\n",
       "    <tr style=\"text-align: right;\">\n",
       "      <th></th>\n",
       "      <th>0</th>\n",
       "      <th>1</th>\n",
       "      <th>2</th>\n",
       "      <th>3</th>\n",
       "      <th>4</th>\n",
       "    </tr>\n",
       "  </thead>\n",
       "  <tbody>\n",
       "    <tr>\n",
       "      <th>count</th>\n",
       "      <td>330.000000</td>\n",
       "      <td>330.000000</td>\n",
       "      <td>330.000000</td>\n",
       "      <td>330.000000</td>\n",
       "      <td>330.000000</td>\n",
       "    </tr>\n",
       "    <tr>\n",
       "      <th>mean</th>\n",
       "      <td>0.499478</td>\n",
       "      <td>0.500667</td>\n",
       "      <td>0.496181</td>\n",
       "      <td>0.507516</td>\n",
       "      <td>0.484668</td>\n",
       "    </tr>\n",
       "    <tr>\n",
       "      <th>std</th>\n",
       "      <td>0.274520</td>\n",
       "      <td>0.294078</td>\n",
       "      <td>0.297368</td>\n",
       "      <td>0.294017</td>\n",
       "      <td>0.288240</td>\n",
       "    </tr>\n",
       "    <tr>\n",
       "      <th>min</th>\n",
       "      <td>0.001344</td>\n",
       "      <td>0.000414</td>\n",
       "      <td>0.001824</td>\n",
       "      <td>0.001258</td>\n",
       "      <td>0.000034</td>\n",
       "    </tr>\n",
       "    <tr>\n",
       "      <th>25%</th>\n",
       "      <td>0.289671</td>\n",
       "      <td>0.233124</td>\n",
       "      <td>0.221504</td>\n",
       "      <td>0.264879</td>\n",
       "      <td>0.238501</td>\n",
       "    </tr>\n",
       "    <tr>\n",
       "      <th>50%</th>\n",
       "      <td>0.508599</td>\n",
       "      <td>0.514419</td>\n",
       "      <td>0.494559</td>\n",
       "      <td>0.492676</td>\n",
       "      <td>0.509984</td>\n",
       "    </tr>\n",
       "    <tr>\n",
       "      <th>75%</th>\n",
       "      <td>0.711688</td>\n",
       "      <td>0.781960</td>\n",
       "      <td>0.775098</td>\n",
       "      <td>0.761938</td>\n",
       "      <td>0.726106</td>\n",
       "    </tr>\n",
       "    <tr>\n",
       "      <th>max</th>\n",
       "      <td>0.997549</td>\n",
       "      <td>0.996220</td>\n",
       "      <td>0.993320</td>\n",
       "      <td>0.999782</td>\n",
       "      <td>0.997420</td>\n",
       "    </tr>\n",
       "  </tbody>\n",
       "</table>\n",
       "</div>"
      ],
      "text/plain": [
       "                0           1           2           3           4\n",
       "count  330.000000  330.000000  330.000000  330.000000  330.000000\n",
       "mean     0.499478    0.500667    0.496181    0.507516    0.484668\n",
       "std      0.274520    0.294078    0.297368    0.294017    0.288240\n",
       "min      0.001344    0.000414    0.001824    0.001258    0.000034\n",
       "25%      0.289671    0.233124    0.221504    0.264879    0.238501\n",
       "50%      0.508599    0.514419    0.494559    0.492676    0.509984\n",
       "75%      0.711688    0.781960    0.775098    0.761938    0.726106\n",
       "max      0.997549    0.996220    0.993320    0.999782    0.997420"
      ]
     },
     "execution_count": 63,
     "metadata": {},
     "output_type": "execute_result"
    }
   ],
   "source": [
    "newDf.describe()"
   ]
  },
  {
   "cell_type": "code",
   "execution_count": 64,
   "id": "e61e795c",
   "metadata": {},
   "outputs": [
    {
     "data": {
      "text/plain": [
       "0    float64\n",
       "1    float64\n",
       "2    float64\n",
       "3    float64\n",
       "4    float64\n",
       "dtype: object"
      ]
     },
     "execution_count": 64,
     "metadata": {},
     "output_type": "execute_result"
    }
   ],
   "source": [
    "newDf.dtypes"
   ]
  },
  {
   "cell_type": "code",
   "execution_count": 65,
   "id": "2e3fd75d",
   "metadata": {},
   "outputs": [
    {
     "name": "stderr",
     "output_type": "stream",
     "text": [
      "C:\\Users\\swiss\\AppData\\Local\\Temp\\ipykernel_5680\\4095004716.py:1: FutureWarning: ChainedAssignmentError: behaviour will change in pandas 3.0!\n",
      "You are setting values through chained assignment. Currently this works in certain cases, but when using Copy-on-Write (which will become the default behaviour in pandas 3.0) this will never work to update the original DataFrame or Series, because the intermediate object on which we are setting values will behave as a copy.\n",
      "A typical example is when you are setting values in a column of a DataFrame, like:\n",
      "\n",
      "df[\"col\"][row_indexer] = value\n",
      "\n",
      "Use `df.loc[row_indexer, \"col\"] = values` instead, to perform the assignment in a single step and ensure this keeps updating the original `df`.\n",
      "\n",
      "See the caveats in the documentation: https://pandas.pydata.org/pandas-docs/stable/user_guide/indexing.html#returning-a-view-versus-a-copy\n",
      "\n",
      "  newDf[0][0]= \"Maaz Khan\"\n",
      "C:\\Users\\swiss\\AppData\\Local\\Temp\\ipykernel_5680\\4095004716.py:1: FutureWarning: Setting an item of incompatible dtype is deprecated and will raise an error in a future version of pandas. Value 'Maaz Khan' has dtype incompatible with float64, please explicitly cast to a compatible dtype first.\n",
      "  newDf[0][0]= \"Maaz Khan\"\n"
     ]
    }
   ],
   "source": [
    "newDf[0][0]= \"Maaz Khan\""
   ]
  },
  {
   "cell_type": "code",
   "execution_count": 66,
   "id": "ed64eec9",
   "metadata": {},
   "outputs": [
    {
     "data": {
      "text/plain": [
       "0     object\n",
       "1    float64\n",
       "2    float64\n",
       "3    float64\n",
       "4    float64\n",
       "dtype: object"
      ]
     },
     "execution_count": 66,
     "metadata": {},
     "output_type": "execute_result"
    }
   ],
   "source": [
    "newDf.dtypes"
   ]
  },
  {
   "cell_type": "code",
   "execution_count": 67,
   "id": "d7d21566",
   "metadata": {},
   "outputs": [
    {
     "data": {
      "text/html": [
       "<div>\n",
       "<style scoped>\n",
       "    .dataframe tbody tr th:only-of-type {\n",
       "        vertical-align: middle;\n",
       "    }\n",
       "\n",
       "    .dataframe tbody tr th {\n",
       "        vertical-align: top;\n",
       "    }\n",
       "\n",
       "    .dataframe thead th {\n",
       "        text-align: right;\n",
       "    }\n",
       "</style>\n",
       "<table border=\"1\" class=\"dataframe\">\n",
       "  <thead>\n",
       "    <tr style=\"text-align: right;\">\n",
       "      <th></th>\n",
       "      <th>0</th>\n",
       "      <th>1</th>\n",
       "      <th>2</th>\n",
       "      <th>3</th>\n",
       "      <th>4</th>\n",
       "    </tr>\n",
       "  </thead>\n",
       "  <tbody>\n",
       "    <tr>\n",
       "      <th>0</th>\n",
       "      <td>Maaz Khan</td>\n",
       "      <td>0.207910</td>\n",
       "      <td>0.164216</td>\n",
       "      <td>0.525284</td>\n",
       "      <td>0.768124</td>\n",
       "    </tr>\n",
       "    <tr>\n",
       "      <th>1</th>\n",
       "      <td>0.383548</td>\n",
       "      <td>0.168433</td>\n",
       "      <td>0.187929</td>\n",
       "      <td>0.613764</td>\n",
       "      <td>0.904613</td>\n",
       "    </tr>\n",
       "    <tr>\n",
       "      <th>2</th>\n",
       "      <td>0.257243</td>\n",
       "      <td>0.712012</td>\n",
       "      <td>0.088637</td>\n",
       "      <td>0.116315</td>\n",
       "      <td>0.298110</td>\n",
       "    </tr>\n",
       "    <tr>\n",
       "      <th>3</th>\n",
       "      <td>0.466084</td>\n",
       "      <td>0.323729</td>\n",
       "      <td>0.351574</td>\n",
       "      <td>0.456606</td>\n",
       "      <td>0.776034</td>\n",
       "    </tr>\n",
       "    <tr>\n",
       "      <th>4</th>\n",
       "      <td>0.467989</td>\n",
       "      <td>0.821382</td>\n",
       "      <td>0.451938</td>\n",
       "      <td>0.351626</td>\n",
       "      <td>0.534904</td>\n",
       "    </tr>\n",
       "    <tr>\n",
       "      <th>...</th>\n",
       "      <td>...</td>\n",
       "      <td>...</td>\n",
       "      <td>...</td>\n",
       "      <td>...</td>\n",
       "      <td>...</td>\n",
       "    </tr>\n",
       "    <tr>\n",
       "      <th>325</th>\n",
       "      <td>0.008772</td>\n",
       "      <td>0.059339</td>\n",
       "      <td>0.890778</td>\n",
       "      <td>0.699782</td>\n",
       "      <td>0.620969</td>\n",
       "    </tr>\n",
       "    <tr>\n",
       "      <th>326</th>\n",
       "      <td>0.920939</td>\n",
       "      <td>0.138594</td>\n",
       "      <td>0.511774</td>\n",
       "      <td>0.324026</td>\n",
       "      <td>0.346258</td>\n",
       "    </tr>\n",
       "    <tr>\n",
       "      <th>327</th>\n",
       "      <td>0.863215</td>\n",
       "      <td>0.125109</td>\n",
       "      <td>0.604982</td>\n",
       "      <td>0.110215</td>\n",
       "      <td>0.794862</td>\n",
       "    </tr>\n",
       "    <tr>\n",
       "      <th>328</th>\n",
       "      <td>0.616395</td>\n",
       "      <td>0.529457</td>\n",
       "      <td>0.084746</td>\n",
       "      <td>0.024979</td>\n",
       "      <td>0.110618</td>\n",
       "    </tr>\n",
       "    <tr>\n",
       "      <th>329</th>\n",
       "      <td>0.100672</td>\n",
       "      <td>0.315478</td>\n",
       "      <td>0.895678</td>\n",
       "      <td>0.639590</td>\n",
       "      <td>0.903344</td>\n",
       "    </tr>\n",
       "  </tbody>\n",
       "</table>\n",
       "<p>330 rows × 5 columns</p>\n",
       "</div>"
      ],
      "text/plain": [
       "             0         1         2         3         4\n",
       "0    Maaz Khan  0.207910  0.164216  0.525284  0.768124\n",
       "1     0.383548  0.168433  0.187929  0.613764  0.904613\n",
       "2     0.257243  0.712012  0.088637  0.116315  0.298110\n",
       "3     0.466084  0.323729  0.351574  0.456606  0.776034\n",
       "4     0.467989  0.821382  0.451938  0.351626  0.534904\n",
       "..         ...       ...       ...       ...       ...\n",
       "325   0.008772  0.059339  0.890778  0.699782  0.620969\n",
       "326   0.920939  0.138594  0.511774  0.324026  0.346258\n",
       "327   0.863215  0.125109  0.604982  0.110215  0.794862\n",
       "328   0.616395  0.529457  0.084746  0.024979  0.110618\n",
       "329   0.100672  0.315478  0.895678  0.639590  0.903344\n",
       "\n",
       "[330 rows x 5 columns]"
      ]
     },
     "execution_count": 67,
     "metadata": {},
     "output_type": "execute_result"
    }
   ],
   "source": [
    "newDf"
   ]
  },
  {
   "cell_type": "code",
   "execution_count": 68,
   "id": "c1c649c6",
   "metadata": {},
   "outputs": [
    {
     "data": {
      "text/plain": [
       "RangeIndex(start=0, stop=330, step=1)"
      ]
     },
     "execution_count": 68,
     "metadata": {},
     "output_type": "execute_result"
    }
   ],
   "source": [
    "newDf.index"
   ]
  },
  {
   "cell_type": "code",
   "execution_count": 69,
   "id": "2a6a01a0",
   "metadata": {},
   "outputs": [
    {
     "data": {
      "text/plain": [
       "RangeIndex(start=0, stop=5, step=1)"
      ]
     },
     "execution_count": 69,
     "metadata": {},
     "output_type": "execute_result"
    }
   ],
   "source": [
    "newDf.columns"
   ]
  },
  {
   "cell_type": "code",
   "execution_count": 70,
   "id": "0d0bbcdd",
   "metadata": {},
   "outputs": [
    {
     "data": {
      "text/plain": [
       "array([['Maaz Khan', 0.20790969099142276, 0.1642158621341845,\n",
       "        0.5252837849625631, 0.7681241920125469],\n",
       "       [0.3835481246107899, 0.16843292915159158, 0.1879290151826306,\n",
       "        0.6137638529091572, 0.904612859028157],\n",
       "       [0.257243470554547, 0.7120117934267048, 0.08863704055191413,\n",
       "        0.11631484527081648, 0.2981095842210938],\n",
       "       ...,\n",
       "       [0.8632150163653489, 0.125108547897684, 0.6049820511368761,\n",
       "        0.11021520670094742, 0.7948621564759553],\n",
       "       [0.6163946832978433, 0.5294567866154891, 0.08474639004709905,\n",
       "        0.024979394734548466, 0.11061819101236625],\n",
       "       [0.10067201885985255, 0.31547792256587215, 0.8956784942221794,\n",
       "        0.6395902152237299, 0.9033435189830274]], dtype=object)"
      ]
     },
     "execution_count": 70,
     "metadata": {},
     "output_type": "execute_result"
    }
   ],
   "source": [
    "newDf.to_numpy()"
   ]
  },
  {
   "cell_type": "code",
   "execution_count": 71,
   "id": "29e43e86",
   "metadata": {},
   "outputs": [],
   "source": [
    "newDf[0][0]=0.30"
   ]
  },
  {
   "cell_type": "code",
   "execution_count": 72,
   "id": "81c060ad",
   "metadata": {},
   "outputs": [
    {
     "data": {
      "text/html": [
       "<div>\n",
       "<style scoped>\n",
       "    .dataframe tbody tr th:only-of-type {\n",
       "        vertical-align: middle;\n",
       "    }\n",
       "\n",
       "    .dataframe tbody tr th {\n",
       "        vertical-align: top;\n",
       "    }\n",
       "\n",
       "    .dataframe thead th {\n",
       "        text-align: right;\n",
       "    }\n",
       "</style>\n",
       "<table border=\"1\" class=\"dataframe\">\n",
       "  <thead>\n",
       "    <tr style=\"text-align: right;\">\n",
       "      <th></th>\n",
       "      <th>0</th>\n",
       "      <th>1</th>\n",
       "      <th>2</th>\n",
       "      <th>3</th>\n",
       "      <th>4</th>\n",
       "    </tr>\n",
       "  </thead>\n",
       "  <tbody>\n",
       "    <tr>\n",
       "      <th>0</th>\n",
       "      <td>0.3</td>\n",
       "      <td>0.207910</td>\n",
       "      <td>0.164216</td>\n",
       "      <td>0.525284</td>\n",
       "      <td>0.768124</td>\n",
       "    </tr>\n",
       "    <tr>\n",
       "      <th>1</th>\n",
       "      <td>0.383548</td>\n",
       "      <td>0.168433</td>\n",
       "      <td>0.187929</td>\n",
       "      <td>0.613764</td>\n",
       "      <td>0.904613</td>\n",
       "    </tr>\n",
       "    <tr>\n",
       "      <th>2</th>\n",
       "      <td>0.257243</td>\n",
       "      <td>0.712012</td>\n",
       "      <td>0.088637</td>\n",
       "      <td>0.116315</td>\n",
       "      <td>0.298110</td>\n",
       "    </tr>\n",
       "    <tr>\n",
       "      <th>3</th>\n",
       "      <td>0.466084</td>\n",
       "      <td>0.323729</td>\n",
       "      <td>0.351574</td>\n",
       "      <td>0.456606</td>\n",
       "      <td>0.776034</td>\n",
       "    </tr>\n",
       "    <tr>\n",
       "      <th>4</th>\n",
       "      <td>0.467989</td>\n",
       "      <td>0.821382</td>\n",
       "      <td>0.451938</td>\n",
       "      <td>0.351626</td>\n",
       "      <td>0.534904</td>\n",
       "    </tr>\n",
       "  </tbody>\n",
       "</table>\n",
       "</div>"
      ],
      "text/plain": [
       "          0         1         2         3         4\n",
       "0       0.3  0.207910  0.164216  0.525284  0.768124\n",
       "1  0.383548  0.168433  0.187929  0.613764  0.904613\n",
       "2  0.257243  0.712012  0.088637  0.116315  0.298110\n",
       "3  0.466084  0.323729  0.351574  0.456606  0.776034\n",
       "4  0.467989  0.821382  0.451938  0.351626  0.534904"
      ]
     },
     "execution_count": 72,
     "metadata": {},
     "output_type": "execute_result"
    }
   ],
   "source": [
    "newDf.head()"
   ]
  },
  {
   "cell_type": "code",
   "execution_count": 73,
   "id": "c6b68242",
   "metadata": {},
   "outputs": [
    {
     "data": {
      "text/html": [
       "<div>\n",
       "<style scoped>\n",
       "    .dataframe tbody tr th:only-of-type {\n",
       "        vertical-align: middle;\n",
       "    }\n",
       "\n",
       "    .dataframe tbody tr th {\n",
       "        vertical-align: top;\n",
       "    }\n",
       "\n",
       "    .dataframe thead th {\n",
       "        text-align: right;\n",
       "    }\n",
       "</style>\n",
       "<table border=\"1\" class=\"dataframe\">\n",
       "  <thead>\n",
       "    <tr style=\"text-align: right;\">\n",
       "      <th></th>\n",
       "      <th>0</th>\n",
       "      <th>1</th>\n",
       "      <th>2</th>\n",
       "      <th>3</th>\n",
       "      <th>4</th>\n",
       "      <th>5</th>\n",
       "      <th>6</th>\n",
       "      <th>7</th>\n",
       "      <th>8</th>\n",
       "      <th>9</th>\n",
       "      <th>...</th>\n",
       "      <th>320</th>\n",
       "      <th>321</th>\n",
       "      <th>322</th>\n",
       "      <th>323</th>\n",
       "      <th>324</th>\n",
       "      <th>325</th>\n",
       "      <th>326</th>\n",
       "      <th>327</th>\n",
       "      <th>328</th>\n",
       "      <th>329</th>\n",
       "    </tr>\n",
       "  </thead>\n",
       "  <tbody>\n",
       "    <tr>\n",
       "      <th>0</th>\n",
       "      <td>0.3</td>\n",
       "      <td>0.383548</td>\n",
       "      <td>0.257243</td>\n",
       "      <td>0.466084</td>\n",
       "      <td>0.467989</td>\n",
       "      <td>0.545981</td>\n",
       "      <td>0.636379</td>\n",
       "      <td>0.859874</td>\n",
       "      <td>0.570144</td>\n",
       "      <td>0.543629</td>\n",
       "      <td>...</td>\n",
       "      <td>0.3002</td>\n",
       "      <td>0.394731</td>\n",
       "      <td>0.309194</td>\n",
       "      <td>0.17423</td>\n",
       "      <td>0.946632</td>\n",
       "      <td>0.008772</td>\n",
       "      <td>0.920939</td>\n",
       "      <td>0.863215</td>\n",
       "      <td>0.616395</td>\n",
       "      <td>0.100672</td>\n",
       "    </tr>\n",
       "    <tr>\n",
       "      <th>1</th>\n",
       "      <td>0.20791</td>\n",
       "      <td>0.168433</td>\n",
       "      <td>0.712012</td>\n",
       "      <td>0.323729</td>\n",
       "      <td>0.821382</td>\n",
       "      <td>0.342554</td>\n",
       "      <td>0.303175</td>\n",
       "      <td>0.801797</td>\n",
       "      <td>0.300642</td>\n",
       "      <td>0.711413</td>\n",
       "      <td>...</td>\n",
       "      <td>0.741938</td>\n",
       "      <td>0.134927</td>\n",
       "      <td>0.946611</td>\n",
       "      <td>0.546898</td>\n",
       "      <td>0.75591</td>\n",
       "      <td>0.059339</td>\n",
       "      <td>0.138594</td>\n",
       "      <td>0.125109</td>\n",
       "      <td>0.529457</td>\n",
       "      <td>0.315478</td>\n",
       "    </tr>\n",
       "    <tr>\n",
       "      <th>2</th>\n",
       "      <td>0.164216</td>\n",
       "      <td>0.187929</td>\n",
       "      <td>0.088637</td>\n",
       "      <td>0.351574</td>\n",
       "      <td>0.451938</td>\n",
       "      <td>0.709027</td>\n",
       "      <td>0.126545</td>\n",
       "      <td>0.060175</td>\n",
       "      <td>0.151497</td>\n",
       "      <td>0.913891</td>\n",
       "      <td>...</td>\n",
       "      <td>0.874529</td>\n",
       "      <td>0.943799</td>\n",
       "      <td>0.324221</td>\n",
       "      <td>0.171286</td>\n",
       "      <td>0.25228</td>\n",
       "      <td>0.890778</td>\n",
       "      <td>0.511774</td>\n",
       "      <td>0.604982</td>\n",
       "      <td>0.084746</td>\n",
       "      <td>0.895678</td>\n",
       "    </tr>\n",
       "    <tr>\n",
       "      <th>3</th>\n",
       "      <td>0.525284</td>\n",
       "      <td>0.613764</td>\n",
       "      <td>0.116315</td>\n",
       "      <td>0.456606</td>\n",
       "      <td>0.351626</td>\n",
       "      <td>0.160186</td>\n",
       "      <td>0.139598</td>\n",
       "      <td>0.758994</td>\n",
       "      <td>0.738735</td>\n",
       "      <td>0.177827</td>\n",
       "      <td>...</td>\n",
       "      <td>0.339621</td>\n",
       "      <td>0.944898</td>\n",
       "      <td>0.484923</td>\n",
       "      <td>0.973286</td>\n",
       "      <td>0.999782</td>\n",
       "      <td>0.699782</td>\n",
       "      <td>0.324026</td>\n",
       "      <td>0.110215</td>\n",
       "      <td>0.024979</td>\n",
       "      <td>0.63959</td>\n",
       "    </tr>\n",
       "    <tr>\n",
       "      <th>4</th>\n",
       "      <td>0.768124</td>\n",
       "      <td>0.904613</td>\n",
       "      <td>0.29811</td>\n",
       "      <td>0.776034</td>\n",
       "      <td>0.534904</td>\n",
       "      <td>0.468512</td>\n",
       "      <td>0.307593</td>\n",
       "      <td>0.17587</td>\n",
       "      <td>0.697985</td>\n",
       "      <td>0.682285</td>\n",
       "      <td>...</td>\n",
       "      <td>0.375189</td>\n",
       "      <td>0.188409</td>\n",
       "      <td>0.02614</td>\n",
       "      <td>0.552411</td>\n",
       "      <td>0.495656</td>\n",
       "      <td>0.620969</td>\n",
       "      <td>0.346258</td>\n",
       "      <td>0.794862</td>\n",
       "      <td>0.110618</td>\n",
       "      <td>0.903344</td>\n",
       "    </tr>\n",
       "  </tbody>\n",
       "</table>\n",
       "<p>5 rows × 330 columns</p>\n",
       "</div>"
      ],
      "text/plain": [
       "        0         1         2         3         4         5         6    \\\n",
       "0       0.3  0.383548  0.257243  0.466084  0.467989  0.545981  0.636379   \n",
       "1   0.20791  0.168433  0.712012  0.323729  0.821382  0.342554  0.303175   \n",
       "2  0.164216  0.187929  0.088637  0.351574  0.451938  0.709027  0.126545   \n",
       "3  0.525284  0.613764  0.116315  0.456606  0.351626  0.160186  0.139598   \n",
       "4  0.768124  0.904613   0.29811  0.776034  0.534904  0.468512  0.307593   \n",
       "\n",
       "        7         8         9    ...       320       321       322       323  \\\n",
       "0  0.859874  0.570144  0.543629  ...    0.3002  0.394731  0.309194   0.17423   \n",
       "1  0.801797  0.300642  0.711413  ...  0.741938  0.134927  0.946611  0.546898   \n",
       "2  0.060175  0.151497  0.913891  ...  0.874529  0.943799  0.324221  0.171286   \n",
       "3  0.758994  0.738735  0.177827  ...  0.339621  0.944898  0.484923  0.973286   \n",
       "4   0.17587  0.697985  0.682285  ...  0.375189  0.188409   0.02614  0.552411   \n",
       "\n",
       "        324       325       326       327       328       329  \n",
       "0  0.946632  0.008772  0.920939  0.863215  0.616395  0.100672  \n",
       "1   0.75591  0.059339  0.138594  0.125109  0.529457  0.315478  \n",
       "2   0.25228  0.890778  0.511774  0.604982  0.084746  0.895678  \n",
       "3  0.999782  0.699782  0.324026  0.110215  0.024979   0.63959  \n",
       "4  0.495656  0.620969  0.346258  0.794862  0.110618  0.903344  \n",
       "\n",
       "[5 rows x 330 columns]"
      ]
     },
     "execution_count": 73,
     "metadata": {},
     "output_type": "execute_result"
    }
   ],
   "source": [
    "newDf.T"
   ]
  },
  {
   "cell_type": "code",
   "execution_count": 74,
   "id": "4dc1d324",
   "metadata": {},
   "outputs": [
    {
     "data": {
      "text/html": [
       "<div>\n",
       "<style scoped>\n",
       "    .dataframe tbody tr th:only-of-type {\n",
       "        vertical-align: middle;\n",
       "    }\n",
       "\n",
       "    .dataframe tbody tr th {\n",
       "        vertical-align: top;\n",
       "    }\n",
       "\n",
       "    .dataframe thead th {\n",
       "        text-align: right;\n",
       "    }\n",
       "</style>\n",
       "<table border=\"1\" class=\"dataframe\">\n",
       "  <thead>\n",
       "    <tr style=\"text-align: right;\">\n",
       "      <th></th>\n",
       "      <th>0</th>\n",
       "      <th>1</th>\n",
       "      <th>2</th>\n",
       "      <th>3</th>\n",
       "      <th>4</th>\n",
       "    </tr>\n",
       "  </thead>\n",
       "  <tbody>\n",
       "    <tr>\n",
       "      <th>0</th>\n",
       "      <td>0.3</td>\n",
       "      <td>0.207910</td>\n",
       "      <td>0.164216</td>\n",
       "      <td>0.525284</td>\n",
       "      <td>0.768124</td>\n",
       "    </tr>\n",
       "    <tr>\n",
       "      <th>1</th>\n",
       "      <td>0.383548</td>\n",
       "      <td>0.168433</td>\n",
       "      <td>0.187929</td>\n",
       "      <td>0.613764</td>\n",
       "      <td>0.904613</td>\n",
       "    </tr>\n",
       "    <tr>\n",
       "      <th>2</th>\n",
       "      <td>0.257243</td>\n",
       "      <td>0.712012</td>\n",
       "      <td>0.088637</td>\n",
       "      <td>0.116315</td>\n",
       "      <td>0.298110</td>\n",
       "    </tr>\n",
       "    <tr>\n",
       "      <th>3</th>\n",
       "      <td>0.466084</td>\n",
       "      <td>0.323729</td>\n",
       "      <td>0.351574</td>\n",
       "      <td>0.456606</td>\n",
       "      <td>0.776034</td>\n",
       "    </tr>\n",
       "    <tr>\n",
       "      <th>4</th>\n",
       "      <td>0.467989</td>\n",
       "      <td>0.821382</td>\n",
       "      <td>0.451938</td>\n",
       "      <td>0.351626</td>\n",
       "      <td>0.534904</td>\n",
       "    </tr>\n",
       "    <tr>\n",
       "      <th>...</th>\n",
       "      <td>...</td>\n",
       "      <td>...</td>\n",
       "      <td>...</td>\n",
       "      <td>...</td>\n",
       "      <td>...</td>\n",
       "    </tr>\n",
       "    <tr>\n",
       "      <th>325</th>\n",
       "      <td>0.008772</td>\n",
       "      <td>0.059339</td>\n",
       "      <td>0.890778</td>\n",
       "      <td>0.699782</td>\n",
       "      <td>0.620969</td>\n",
       "    </tr>\n",
       "    <tr>\n",
       "      <th>326</th>\n",
       "      <td>0.920939</td>\n",
       "      <td>0.138594</td>\n",
       "      <td>0.511774</td>\n",
       "      <td>0.324026</td>\n",
       "      <td>0.346258</td>\n",
       "    </tr>\n",
       "    <tr>\n",
       "      <th>327</th>\n",
       "      <td>0.863215</td>\n",
       "      <td>0.125109</td>\n",
       "      <td>0.604982</td>\n",
       "      <td>0.110215</td>\n",
       "      <td>0.794862</td>\n",
       "    </tr>\n",
       "    <tr>\n",
       "      <th>328</th>\n",
       "      <td>0.616395</td>\n",
       "      <td>0.529457</td>\n",
       "      <td>0.084746</td>\n",
       "      <td>0.024979</td>\n",
       "      <td>0.110618</td>\n",
       "    </tr>\n",
       "    <tr>\n",
       "      <th>329</th>\n",
       "      <td>0.100672</td>\n",
       "      <td>0.315478</td>\n",
       "      <td>0.895678</td>\n",
       "      <td>0.639590</td>\n",
       "      <td>0.903344</td>\n",
       "    </tr>\n",
       "  </tbody>\n",
       "</table>\n",
       "<p>330 rows × 5 columns</p>\n",
       "</div>"
      ],
      "text/plain": [
       "            0         1         2         3         4\n",
       "0         0.3  0.207910  0.164216  0.525284  0.768124\n",
       "1    0.383548  0.168433  0.187929  0.613764  0.904613\n",
       "2    0.257243  0.712012  0.088637  0.116315  0.298110\n",
       "3    0.466084  0.323729  0.351574  0.456606  0.776034\n",
       "4    0.467989  0.821382  0.451938  0.351626  0.534904\n",
       "..        ...       ...       ...       ...       ...\n",
       "325  0.008772  0.059339  0.890778  0.699782  0.620969\n",
       "326  0.920939  0.138594  0.511774  0.324026  0.346258\n",
       "327  0.863215  0.125109  0.604982  0.110215  0.794862\n",
       "328  0.616395  0.529457  0.084746  0.024979  0.110618\n",
       "329  0.100672  0.315478  0.895678  0.639590  0.903344\n",
       "\n",
       "[330 rows x 5 columns]"
      ]
     },
     "execution_count": 74,
     "metadata": {},
     "output_type": "execute_result"
    }
   ],
   "source": [
    "newDf.sort_index(axis=0)"
   ]
  },
  {
   "cell_type": "code",
   "execution_count": 75,
   "id": "1c9c5df9",
   "metadata": {},
   "outputs": [
    {
     "data": {
      "text/html": [
       "<div>\n",
       "<style scoped>\n",
       "    .dataframe tbody tr th:only-of-type {\n",
       "        vertical-align: middle;\n",
       "    }\n",
       "\n",
       "    .dataframe tbody tr th {\n",
       "        vertical-align: top;\n",
       "    }\n",
       "\n",
       "    .dataframe thead th {\n",
       "        text-align: right;\n",
       "    }\n",
       "</style>\n",
       "<table border=\"1\" class=\"dataframe\">\n",
       "  <thead>\n",
       "    <tr style=\"text-align: right;\">\n",
       "      <th></th>\n",
       "      <th>0</th>\n",
       "      <th>1</th>\n",
       "      <th>2</th>\n",
       "      <th>3</th>\n",
       "      <th>4</th>\n",
       "    </tr>\n",
       "  </thead>\n",
       "  <tbody>\n",
       "    <tr>\n",
       "      <th>329</th>\n",
       "      <td>0.100672</td>\n",
       "      <td>0.315478</td>\n",
       "      <td>0.895678</td>\n",
       "      <td>0.639590</td>\n",
       "      <td>0.903344</td>\n",
       "    </tr>\n",
       "    <tr>\n",
       "      <th>328</th>\n",
       "      <td>0.616395</td>\n",
       "      <td>0.529457</td>\n",
       "      <td>0.084746</td>\n",
       "      <td>0.024979</td>\n",
       "      <td>0.110618</td>\n",
       "    </tr>\n",
       "    <tr>\n",
       "      <th>327</th>\n",
       "      <td>0.863215</td>\n",
       "      <td>0.125109</td>\n",
       "      <td>0.604982</td>\n",
       "      <td>0.110215</td>\n",
       "      <td>0.794862</td>\n",
       "    </tr>\n",
       "    <tr>\n",
       "      <th>326</th>\n",
       "      <td>0.920939</td>\n",
       "      <td>0.138594</td>\n",
       "      <td>0.511774</td>\n",
       "      <td>0.324026</td>\n",
       "      <td>0.346258</td>\n",
       "    </tr>\n",
       "    <tr>\n",
       "      <th>325</th>\n",
       "      <td>0.008772</td>\n",
       "      <td>0.059339</td>\n",
       "      <td>0.890778</td>\n",
       "      <td>0.699782</td>\n",
       "      <td>0.620969</td>\n",
       "    </tr>\n",
       "    <tr>\n",
       "      <th>...</th>\n",
       "      <td>...</td>\n",
       "      <td>...</td>\n",
       "      <td>...</td>\n",
       "      <td>...</td>\n",
       "      <td>...</td>\n",
       "    </tr>\n",
       "    <tr>\n",
       "      <th>4</th>\n",
       "      <td>0.467989</td>\n",
       "      <td>0.821382</td>\n",
       "      <td>0.451938</td>\n",
       "      <td>0.351626</td>\n",
       "      <td>0.534904</td>\n",
       "    </tr>\n",
       "    <tr>\n",
       "      <th>3</th>\n",
       "      <td>0.466084</td>\n",
       "      <td>0.323729</td>\n",
       "      <td>0.351574</td>\n",
       "      <td>0.456606</td>\n",
       "      <td>0.776034</td>\n",
       "    </tr>\n",
       "    <tr>\n",
       "      <th>2</th>\n",
       "      <td>0.257243</td>\n",
       "      <td>0.712012</td>\n",
       "      <td>0.088637</td>\n",
       "      <td>0.116315</td>\n",
       "      <td>0.298110</td>\n",
       "    </tr>\n",
       "    <tr>\n",
       "      <th>1</th>\n",
       "      <td>0.383548</td>\n",
       "      <td>0.168433</td>\n",
       "      <td>0.187929</td>\n",
       "      <td>0.613764</td>\n",
       "      <td>0.904613</td>\n",
       "    </tr>\n",
       "    <tr>\n",
       "      <th>0</th>\n",
       "      <td>0.3</td>\n",
       "      <td>0.207910</td>\n",
       "      <td>0.164216</td>\n",
       "      <td>0.525284</td>\n",
       "      <td>0.768124</td>\n",
       "    </tr>\n",
       "  </tbody>\n",
       "</table>\n",
       "<p>330 rows × 5 columns</p>\n",
       "</div>"
      ],
      "text/plain": [
       "            0         1         2         3         4\n",
       "329  0.100672  0.315478  0.895678  0.639590  0.903344\n",
       "328  0.616395  0.529457  0.084746  0.024979  0.110618\n",
       "327  0.863215  0.125109  0.604982  0.110215  0.794862\n",
       "326  0.920939  0.138594  0.511774  0.324026  0.346258\n",
       "325  0.008772  0.059339  0.890778  0.699782  0.620969\n",
       "..        ...       ...       ...       ...       ...\n",
       "4    0.467989  0.821382  0.451938  0.351626  0.534904\n",
       "3    0.466084  0.323729  0.351574  0.456606  0.776034\n",
       "2    0.257243  0.712012  0.088637  0.116315  0.298110\n",
       "1    0.383548  0.168433  0.187929  0.613764  0.904613\n",
       "0         0.3  0.207910  0.164216  0.525284  0.768124\n",
       "\n",
       "[330 rows x 5 columns]"
      ]
     },
     "execution_count": 75,
     "metadata": {},
     "output_type": "execute_result"
    }
   ],
   "source": [
    "newDf.sort_index(axis=0, ascending=False)"
   ]
  },
  {
   "cell_type": "code",
   "execution_count": 76,
   "id": "e0d9a5c5",
   "metadata": {},
   "outputs": [
    {
     "data": {
      "text/html": [
       "<div>\n",
       "<style scoped>\n",
       "    .dataframe tbody tr th:only-of-type {\n",
       "        vertical-align: middle;\n",
       "    }\n",
       "\n",
       "    .dataframe tbody tr th {\n",
       "        vertical-align: top;\n",
       "    }\n",
       "\n",
       "    .dataframe thead th {\n",
       "        text-align: right;\n",
       "    }\n",
       "</style>\n",
       "<table border=\"1\" class=\"dataframe\">\n",
       "  <thead>\n",
       "    <tr style=\"text-align: right;\">\n",
       "      <th></th>\n",
       "      <th>0</th>\n",
       "      <th>1</th>\n",
       "      <th>2</th>\n",
       "      <th>3</th>\n",
       "      <th>4</th>\n",
       "    </tr>\n",
       "  </thead>\n",
       "  <tbody>\n",
       "    <tr>\n",
       "      <th>0</th>\n",
       "      <td>0.3</td>\n",
       "      <td>0.207910</td>\n",
       "      <td>0.164216</td>\n",
       "      <td>0.525284</td>\n",
       "      <td>0.768124</td>\n",
       "    </tr>\n",
       "    <tr>\n",
       "      <th>1</th>\n",
       "      <td>0.383548</td>\n",
       "      <td>0.168433</td>\n",
       "      <td>0.187929</td>\n",
       "      <td>0.613764</td>\n",
       "      <td>0.904613</td>\n",
       "    </tr>\n",
       "    <tr>\n",
       "      <th>2</th>\n",
       "      <td>0.257243</td>\n",
       "      <td>0.712012</td>\n",
       "      <td>0.088637</td>\n",
       "      <td>0.116315</td>\n",
       "      <td>0.298110</td>\n",
       "    </tr>\n",
       "    <tr>\n",
       "      <th>3</th>\n",
       "      <td>0.466084</td>\n",
       "      <td>0.323729</td>\n",
       "      <td>0.351574</td>\n",
       "      <td>0.456606</td>\n",
       "      <td>0.776034</td>\n",
       "    </tr>\n",
       "    <tr>\n",
       "      <th>4</th>\n",
       "      <td>0.467989</td>\n",
       "      <td>0.821382</td>\n",
       "      <td>0.451938</td>\n",
       "      <td>0.351626</td>\n",
       "      <td>0.534904</td>\n",
       "    </tr>\n",
       "    <tr>\n",
       "      <th>...</th>\n",
       "      <td>...</td>\n",
       "      <td>...</td>\n",
       "      <td>...</td>\n",
       "      <td>...</td>\n",
       "      <td>...</td>\n",
       "    </tr>\n",
       "    <tr>\n",
       "      <th>325</th>\n",
       "      <td>0.008772</td>\n",
       "      <td>0.059339</td>\n",
       "      <td>0.890778</td>\n",
       "      <td>0.699782</td>\n",
       "      <td>0.620969</td>\n",
       "    </tr>\n",
       "    <tr>\n",
       "      <th>326</th>\n",
       "      <td>0.920939</td>\n",
       "      <td>0.138594</td>\n",
       "      <td>0.511774</td>\n",
       "      <td>0.324026</td>\n",
       "      <td>0.346258</td>\n",
       "    </tr>\n",
       "    <tr>\n",
       "      <th>327</th>\n",
       "      <td>0.863215</td>\n",
       "      <td>0.125109</td>\n",
       "      <td>0.604982</td>\n",
       "      <td>0.110215</td>\n",
       "      <td>0.794862</td>\n",
       "    </tr>\n",
       "    <tr>\n",
       "      <th>328</th>\n",
       "      <td>0.616395</td>\n",
       "      <td>0.529457</td>\n",
       "      <td>0.084746</td>\n",
       "      <td>0.024979</td>\n",
       "      <td>0.110618</td>\n",
       "    </tr>\n",
       "    <tr>\n",
       "      <th>329</th>\n",
       "      <td>0.100672</td>\n",
       "      <td>0.315478</td>\n",
       "      <td>0.895678</td>\n",
       "      <td>0.639590</td>\n",
       "      <td>0.903344</td>\n",
       "    </tr>\n",
       "  </tbody>\n",
       "</table>\n",
       "<p>330 rows × 5 columns</p>\n",
       "</div>"
      ],
      "text/plain": [
       "            0         1         2         3         4\n",
       "0         0.3  0.207910  0.164216  0.525284  0.768124\n",
       "1    0.383548  0.168433  0.187929  0.613764  0.904613\n",
       "2    0.257243  0.712012  0.088637  0.116315  0.298110\n",
       "3    0.466084  0.323729  0.351574  0.456606  0.776034\n",
       "4    0.467989  0.821382  0.451938  0.351626  0.534904\n",
       "..        ...       ...       ...       ...       ...\n",
       "325  0.008772  0.059339  0.890778  0.699782  0.620969\n",
       "326  0.920939  0.138594  0.511774  0.324026  0.346258\n",
       "327  0.863215  0.125109  0.604982  0.110215  0.794862\n",
       "328  0.616395  0.529457  0.084746  0.024979  0.110618\n",
       "329  0.100672  0.315478  0.895678  0.639590  0.903344\n",
       "\n",
       "[330 rows x 5 columns]"
      ]
     },
     "execution_count": 76,
     "metadata": {},
     "output_type": "execute_result"
    }
   ],
   "source": [
    "newDf.sort_index(axis=1)"
   ]
  },
  {
   "cell_type": "code",
   "execution_count": 77,
   "id": "2b302bb5",
   "metadata": {},
   "outputs": [
    {
     "data": {
      "text/html": [
       "<div>\n",
       "<style scoped>\n",
       "    .dataframe tbody tr th:only-of-type {\n",
       "        vertical-align: middle;\n",
       "    }\n",
       "\n",
       "    .dataframe tbody tr th {\n",
       "        vertical-align: top;\n",
       "    }\n",
       "\n",
       "    .dataframe thead th {\n",
       "        text-align: right;\n",
       "    }\n",
       "</style>\n",
       "<table border=\"1\" class=\"dataframe\">\n",
       "  <thead>\n",
       "    <tr style=\"text-align: right;\">\n",
       "      <th></th>\n",
       "      <th>4</th>\n",
       "      <th>3</th>\n",
       "      <th>2</th>\n",
       "      <th>1</th>\n",
       "      <th>0</th>\n",
       "    </tr>\n",
       "  </thead>\n",
       "  <tbody>\n",
       "    <tr>\n",
       "      <th>0</th>\n",
       "      <td>0.768124</td>\n",
       "      <td>0.525284</td>\n",
       "      <td>0.164216</td>\n",
       "      <td>0.207910</td>\n",
       "      <td>0.3</td>\n",
       "    </tr>\n",
       "    <tr>\n",
       "      <th>1</th>\n",
       "      <td>0.904613</td>\n",
       "      <td>0.613764</td>\n",
       "      <td>0.187929</td>\n",
       "      <td>0.168433</td>\n",
       "      <td>0.383548</td>\n",
       "    </tr>\n",
       "    <tr>\n",
       "      <th>2</th>\n",
       "      <td>0.298110</td>\n",
       "      <td>0.116315</td>\n",
       "      <td>0.088637</td>\n",
       "      <td>0.712012</td>\n",
       "      <td>0.257243</td>\n",
       "    </tr>\n",
       "    <tr>\n",
       "      <th>3</th>\n",
       "      <td>0.776034</td>\n",
       "      <td>0.456606</td>\n",
       "      <td>0.351574</td>\n",
       "      <td>0.323729</td>\n",
       "      <td>0.466084</td>\n",
       "    </tr>\n",
       "    <tr>\n",
       "      <th>4</th>\n",
       "      <td>0.534904</td>\n",
       "      <td>0.351626</td>\n",
       "      <td>0.451938</td>\n",
       "      <td>0.821382</td>\n",
       "      <td>0.467989</td>\n",
       "    </tr>\n",
       "    <tr>\n",
       "      <th>...</th>\n",
       "      <td>...</td>\n",
       "      <td>...</td>\n",
       "      <td>...</td>\n",
       "      <td>...</td>\n",
       "      <td>...</td>\n",
       "    </tr>\n",
       "    <tr>\n",
       "      <th>325</th>\n",
       "      <td>0.620969</td>\n",
       "      <td>0.699782</td>\n",
       "      <td>0.890778</td>\n",
       "      <td>0.059339</td>\n",
       "      <td>0.008772</td>\n",
       "    </tr>\n",
       "    <tr>\n",
       "      <th>326</th>\n",
       "      <td>0.346258</td>\n",
       "      <td>0.324026</td>\n",
       "      <td>0.511774</td>\n",
       "      <td>0.138594</td>\n",
       "      <td>0.920939</td>\n",
       "    </tr>\n",
       "    <tr>\n",
       "      <th>327</th>\n",
       "      <td>0.794862</td>\n",
       "      <td>0.110215</td>\n",
       "      <td>0.604982</td>\n",
       "      <td>0.125109</td>\n",
       "      <td>0.863215</td>\n",
       "    </tr>\n",
       "    <tr>\n",
       "      <th>328</th>\n",
       "      <td>0.110618</td>\n",
       "      <td>0.024979</td>\n",
       "      <td>0.084746</td>\n",
       "      <td>0.529457</td>\n",
       "      <td>0.616395</td>\n",
       "    </tr>\n",
       "    <tr>\n",
       "      <th>329</th>\n",
       "      <td>0.903344</td>\n",
       "      <td>0.639590</td>\n",
       "      <td>0.895678</td>\n",
       "      <td>0.315478</td>\n",
       "      <td>0.100672</td>\n",
       "    </tr>\n",
       "  </tbody>\n",
       "</table>\n",
       "<p>330 rows × 5 columns</p>\n",
       "</div>"
      ],
      "text/plain": [
       "            4         3         2         1         0\n",
       "0    0.768124  0.525284  0.164216  0.207910       0.3\n",
       "1    0.904613  0.613764  0.187929  0.168433  0.383548\n",
       "2    0.298110  0.116315  0.088637  0.712012  0.257243\n",
       "3    0.776034  0.456606  0.351574  0.323729  0.466084\n",
       "4    0.534904  0.351626  0.451938  0.821382  0.467989\n",
       "..        ...       ...       ...       ...       ...\n",
       "325  0.620969  0.699782  0.890778  0.059339  0.008772\n",
       "326  0.346258  0.324026  0.511774  0.138594  0.920939\n",
       "327  0.794862  0.110215  0.604982  0.125109  0.863215\n",
       "328  0.110618  0.024979  0.084746  0.529457  0.616395\n",
       "329  0.903344  0.639590  0.895678  0.315478  0.100672\n",
       "\n",
       "[330 rows x 5 columns]"
      ]
     },
     "execution_count": 77,
     "metadata": {},
     "output_type": "execute_result"
    }
   ],
   "source": [
    "newDf.sort_index(axis=1, ascending=False)"
   ]
  },
  {
   "cell_type": "code",
   "execution_count": 78,
   "id": "e12a990f",
   "metadata": {},
   "outputs": [
    {
     "data": {
      "text/html": [
       "<div>\n",
       "<style scoped>\n",
       "    .dataframe tbody tr th:only-of-type {\n",
       "        vertical-align: middle;\n",
       "    }\n",
       "\n",
       "    .dataframe tbody tr th {\n",
       "        vertical-align: top;\n",
       "    }\n",
       "\n",
       "    .dataframe thead th {\n",
       "        text-align: right;\n",
       "    }\n",
       "</style>\n",
       "<table border=\"1\" class=\"dataframe\">\n",
       "  <thead>\n",
       "    <tr style=\"text-align: right;\">\n",
       "      <th></th>\n",
       "      <th>0</th>\n",
       "      <th>1</th>\n",
       "      <th>2</th>\n",
       "      <th>3</th>\n",
       "      <th>4</th>\n",
       "    </tr>\n",
       "  </thead>\n",
       "  <tbody>\n",
       "    <tr>\n",
       "      <th>0</th>\n",
       "      <td>0.3</td>\n",
       "      <td>0.207910</td>\n",
       "      <td>0.164216</td>\n",
       "      <td>0.525284</td>\n",
       "      <td>0.768124</td>\n",
       "    </tr>\n",
       "    <tr>\n",
       "      <th>1</th>\n",
       "      <td>0.383548</td>\n",
       "      <td>0.168433</td>\n",
       "      <td>0.187929</td>\n",
       "      <td>0.613764</td>\n",
       "      <td>0.904613</td>\n",
       "    </tr>\n",
       "    <tr>\n",
       "      <th>2</th>\n",
       "      <td>0.257243</td>\n",
       "      <td>0.712012</td>\n",
       "      <td>0.088637</td>\n",
       "      <td>0.116315</td>\n",
       "      <td>0.298110</td>\n",
       "    </tr>\n",
       "    <tr>\n",
       "      <th>3</th>\n",
       "      <td>0.466084</td>\n",
       "      <td>0.323729</td>\n",
       "      <td>0.351574</td>\n",
       "      <td>0.456606</td>\n",
       "      <td>0.776034</td>\n",
       "    </tr>\n",
       "    <tr>\n",
       "      <th>4</th>\n",
       "      <td>0.467989</td>\n",
       "      <td>0.821382</td>\n",
       "      <td>0.451938</td>\n",
       "      <td>0.351626</td>\n",
       "      <td>0.534904</td>\n",
       "    </tr>\n",
       "  </tbody>\n",
       "</table>\n",
       "</div>"
      ],
      "text/plain": [
       "          0         1         2         3         4\n",
       "0       0.3  0.207910  0.164216  0.525284  0.768124\n",
       "1  0.383548  0.168433  0.187929  0.613764  0.904613\n",
       "2  0.257243  0.712012  0.088637  0.116315  0.298110\n",
       "3  0.466084  0.323729  0.351574  0.456606  0.776034\n",
       "4  0.467989  0.821382  0.451938  0.351626  0.534904"
      ]
     },
     "execution_count": 78,
     "metadata": {},
     "output_type": "execute_result"
    }
   ],
   "source": [
    "newDf.head()"
   ]
  },
  {
   "cell_type": "code",
   "execution_count": 79,
   "id": "95d17814",
   "metadata": {},
   "outputs": [
    {
     "data": {
      "text/plain": [
       "0.3835481246107899"
      ]
     },
     "execution_count": 79,
     "metadata": {},
     "output_type": "execute_result"
    }
   ],
   "source": [
    "newDf[0][1]"
   ]
  },
  {
   "cell_type": "code",
   "execution_count": 80,
   "id": "b212755c",
   "metadata": {},
   "outputs": [
    {
     "data": {
      "text/plain": [
       "pandas.core.series.Series"
      ]
     },
     "execution_count": 80,
     "metadata": {},
     "output_type": "execute_result"
    }
   ],
   "source": [
    "type(newDf[0])"
   ]
  },
  {
   "cell_type": "code",
   "execution_count": 81,
   "id": "d3b1fb50",
   "metadata": {},
   "outputs": [
    {
     "data": {
      "text/html": [
       "<div>\n",
       "<style scoped>\n",
       "    .dataframe tbody tr th:only-of-type {\n",
       "        vertical-align: middle;\n",
       "    }\n",
       "\n",
       "    .dataframe tbody tr th {\n",
       "        vertical-align: top;\n",
       "    }\n",
       "\n",
       "    .dataframe thead th {\n",
       "        text-align: right;\n",
       "    }\n",
       "</style>\n",
       "<table border=\"1\" class=\"dataframe\">\n",
       "  <thead>\n",
       "    <tr style=\"text-align: right;\">\n",
       "      <th></th>\n",
       "      <th>0</th>\n",
       "      <th>1</th>\n",
       "      <th>2</th>\n",
       "      <th>3</th>\n",
       "      <th>4</th>\n",
       "    </tr>\n",
       "  </thead>\n",
       "  <tbody>\n",
       "    <tr>\n",
       "      <th>0</th>\n",
       "      <td>0.3</td>\n",
       "      <td>0.207910</td>\n",
       "      <td>0.164216</td>\n",
       "      <td>0.525284</td>\n",
       "      <td>0.768124</td>\n",
       "    </tr>\n",
       "    <tr>\n",
       "      <th>1</th>\n",
       "      <td>0.383548</td>\n",
       "      <td>0.168433</td>\n",
       "      <td>0.187929</td>\n",
       "      <td>0.613764</td>\n",
       "      <td>0.904613</td>\n",
       "    </tr>\n",
       "    <tr>\n",
       "      <th>2</th>\n",
       "      <td>0.257243</td>\n",
       "      <td>0.712012</td>\n",
       "      <td>0.088637</td>\n",
       "      <td>0.116315</td>\n",
       "      <td>0.298110</td>\n",
       "    </tr>\n",
       "    <tr>\n",
       "      <th>3</th>\n",
       "      <td>0.466084</td>\n",
       "      <td>0.323729</td>\n",
       "      <td>0.351574</td>\n",
       "      <td>0.456606</td>\n",
       "      <td>0.776034</td>\n",
       "    </tr>\n",
       "    <tr>\n",
       "      <th>4</th>\n",
       "      <td>0.467989</td>\n",
       "      <td>0.821382</td>\n",
       "      <td>0.451938</td>\n",
       "      <td>0.351626</td>\n",
       "      <td>0.534904</td>\n",
       "    </tr>\n",
       "    <tr>\n",
       "      <th>...</th>\n",
       "      <td>...</td>\n",
       "      <td>...</td>\n",
       "      <td>...</td>\n",
       "      <td>...</td>\n",
       "      <td>...</td>\n",
       "    </tr>\n",
       "    <tr>\n",
       "      <th>325</th>\n",
       "      <td>0.008772</td>\n",
       "      <td>0.059339</td>\n",
       "      <td>0.890778</td>\n",
       "      <td>0.699782</td>\n",
       "      <td>0.620969</td>\n",
       "    </tr>\n",
       "    <tr>\n",
       "      <th>326</th>\n",
       "      <td>0.920939</td>\n",
       "      <td>0.138594</td>\n",
       "      <td>0.511774</td>\n",
       "      <td>0.324026</td>\n",
       "      <td>0.346258</td>\n",
       "    </tr>\n",
       "    <tr>\n",
       "      <th>327</th>\n",
       "      <td>0.863215</td>\n",
       "      <td>0.125109</td>\n",
       "      <td>0.604982</td>\n",
       "      <td>0.110215</td>\n",
       "      <td>0.794862</td>\n",
       "    </tr>\n",
       "    <tr>\n",
       "      <th>328</th>\n",
       "      <td>0.616395</td>\n",
       "      <td>0.529457</td>\n",
       "      <td>0.084746</td>\n",
       "      <td>0.024979</td>\n",
       "      <td>0.110618</td>\n",
       "    </tr>\n",
       "    <tr>\n",
       "      <th>329</th>\n",
       "      <td>0.100672</td>\n",
       "      <td>0.315478</td>\n",
       "      <td>0.895678</td>\n",
       "      <td>0.639590</td>\n",
       "      <td>0.903344</td>\n",
       "    </tr>\n",
       "  </tbody>\n",
       "</table>\n",
       "<p>330 rows × 5 columns</p>\n",
       "</div>"
      ],
      "text/plain": [
       "            0         1         2         3         4\n",
       "0         0.3  0.207910  0.164216  0.525284  0.768124\n",
       "1    0.383548  0.168433  0.187929  0.613764  0.904613\n",
       "2    0.257243  0.712012  0.088637  0.116315  0.298110\n",
       "3    0.466084  0.323729  0.351574  0.456606  0.776034\n",
       "4    0.467989  0.821382  0.451938  0.351626  0.534904\n",
       "..        ...       ...       ...       ...       ...\n",
       "325  0.008772  0.059339  0.890778  0.699782  0.620969\n",
       "326  0.920939  0.138594  0.511774  0.324026  0.346258\n",
       "327  0.863215  0.125109  0.604982  0.110215  0.794862\n",
       "328  0.616395  0.529457  0.084746  0.024979  0.110618\n",
       "329  0.100672  0.315478  0.895678  0.639590  0.903344\n",
       "\n",
       "[330 rows x 5 columns]"
      ]
     },
     "execution_count": 81,
     "metadata": {},
     "output_type": "execute_result"
    }
   ],
   "source": [
    "newDf"
   ]
  },
  {
   "cell_type": "markdown",
   "id": "d3f3dc62",
   "metadata": {},
   "source": [
    "## view"
   ]
  },
  {
   "cell_type": "code",
   "execution_count": 82,
   "id": "c8a11492",
   "metadata": {},
   "outputs": [],
   "source": [
    "newDfView=newDf"
   ]
  },
  {
   "cell_type": "code",
   "execution_count": 83,
   "id": "afc8f72f",
   "metadata": {},
   "outputs": [
    {
     "data": {
      "text/html": [
       "<div>\n",
       "<style scoped>\n",
       "    .dataframe tbody tr th:only-of-type {\n",
       "        vertical-align: middle;\n",
       "    }\n",
       "\n",
       "    .dataframe tbody tr th {\n",
       "        vertical-align: top;\n",
       "    }\n",
       "\n",
       "    .dataframe thead th {\n",
       "        text-align: right;\n",
       "    }\n",
       "</style>\n",
       "<table border=\"1\" class=\"dataframe\">\n",
       "  <thead>\n",
       "    <tr style=\"text-align: right;\">\n",
       "      <th></th>\n",
       "      <th>0</th>\n",
       "      <th>1</th>\n",
       "      <th>2</th>\n",
       "      <th>3</th>\n",
       "      <th>4</th>\n",
       "    </tr>\n",
       "  </thead>\n",
       "  <tbody>\n",
       "    <tr>\n",
       "      <th>0</th>\n",
       "      <td>0.3</td>\n",
       "      <td>0.207910</td>\n",
       "      <td>0.164216</td>\n",
       "      <td>0.525284</td>\n",
       "      <td>0.768124</td>\n",
       "    </tr>\n",
       "    <tr>\n",
       "      <th>1</th>\n",
       "      <td>0.383548</td>\n",
       "      <td>0.168433</td>\n",
       "      <td>0.187929</td>\n",
       "      <td>0.613764</td>\n",
       "      <td>0.904613</td>\n",
       "    </tr>\n",
       "    <tr>\n",
       "      <th>2</th>\n",
       "      <td>0.257243</td>\n",
       "      <td>0.712012</td>\n",
       "      <td>0.088637</td>\n",
       "      <td>0.116315</td>\n",
       "      <td>0.298110</td>\n",
       "    </tr>\n",
       "    <tr>\n",
       "      <th>3</th>\n",
       "      <td>0.466084</td>\n",
       "      <td>0.323729</td>\n",
       "      <td>0.351574</td>\n",
       "      <td>0.456606</td>\n",
       "      <td>0.776034</td>\n",
       "    </tr>\n",
       "    <tr>\n",
       "      <th>4</th>\n",
       "      <td>0.467989</td>\n",
       "      <td>0.821382</td>\n",
       "      <td>0.451938</td>\n",
       "      <td>0.351626</td>\n",
       "      <td>0.534904</td>\n",
       "    </tr>\n",
       "    <tr>\n",
       "      <th>...</th>\n",
       "      <td>...</td>\n",
       "      <td>...</td>\n",
       "      <td>...</td>\n",
       "      <td>...</td>\n",
       "      <td>...</td>\n",
       "    </tr>\n",
       "    <tr>\n",
       "      <th>325</th>\n",
       "      <td>0.008772</td>\n",
       "      <td>0.059339</td>\n",
       "      <td>0.890778</td>\n",
       "      <td>0.699782</td>\n",
       "      <td>0.620969</td>\n",
       "    </tr>\n",
       "    <tr>\n",
       "      <th>326</th>\n",
       "      <td>0.920939</td>\n",
       "      <td>0.138594</td>\n",
       "      <td>0.511774</td>\n",
       "      <td>0.324026</td>\n",
       "      <td>0.346258</td>\n",
       "    </tr>\n",
       "    <tr>\n",
       "      <th>327</th>\n",
       "      <td>0.863215</td>\n",
       "      <td>0.125109</td>\n",
       "      <td>0.604982</td>\n",
       "      <td>0.110215</td>\n",
       "      <td>0.794862</td>\n",
       "    </tr>\n",
       "    <tr>\n",
       "      <th>328</th>\n",
       "      <td>0.616395</td>\n",
       "      <td>0.529457</td>\n",
       "      <td>0.084746</td>\n",
       "      <td>0.024979</td>\n",
       "      <td>0.110618</td>\n",
       "    </tr>\n",
       "    <tr>\n",
       "      <th>329</th>\n",
       "      <td>0.100672</td>\n",
       "      <td>0.315478</td>\n",
       "      <td>0.895678</td>\n",
       "      <td>0.639590</td>\n",
       "      <td>0.903344</td>\n",
       "    </tr>\n",
       "  </tbody>\n",
       "</table>\n",
       "<p>330 rows × 5 columns</p>\n",
       "</div>"
      ],
      "text/plain": [
       "            0         1         2         3         4\n",
       "0         0.3  0.207910  0.164216  0.525284  0.768124\n",
       "1    0.383548  0.168433  0.187929  0.613764  0.904613\n",
       "2    0.257243  0.712012  0.088637  0.116315  0.298110\n",
       "3    0.466084  0.323729  0.351574  0.456606  0.776034\n",
       "4    0.467989  0.821382  0.451938  0.351626  0.534904\n",
       "..        ...       ...       ...       ...       ...\n",
       "325  0.008772  0.059339  0.890778  0.699782  0.620969\n",
       "326  0.920939  0.138594  0.511774  0.324026  0.346258\n",
       "327  0.863215  0.125109  0.604982  0.110215  0.794862\n",
       "328  0.616395  0.529457  0.084746  0.024979  0.110618\n",
       "329  0.100672  0.315478  0.895678  0.639590  0.903344\n",
       "\n",
       "[330 rows x 5 columns]"
      ]
     },
     "execution_count": 83,
     "metadata": {},
     "output_type": "execute_result"
    }
   ],
   "source": [
    "newDfView"
   ]
  },
  {
   "cell_type": "code",
   "execution_count": 84,
   "id": "32a705a6",
   "metadata": {},
   "outputs": [
    {
     "name": "stderr",
     "output_type": "stream",
     "text": [
      "C:\\Users\\swiss\\AppData\\Local\\Temp\\ipykernel_5680\\4063526219.py:1: FutureWarning: ChainedAssignmentError: behaviour will change in pandas 3.0!\n",
      "You are setting values through chained assignment. Currently this works in certain cases, but when using Copy-on-Write (which will become the default behaviour in pandas 3.0) this will never work to update the original DataFrame or Series, because the intermediate object on which we are setting values will behave as a copy.\n",
      "A typical example is when you are setting values in a column of a DataFrame, like:\n",
      "\n",
      "df[\"col\"][row_indexer] = value\n",
      "\n",
      "Use `df.loc[row_indexer, \"col\"] = values` instead, to perform the assignment in a single step and ensure this keeps updating the original `df`.\n",
      "\n",
      "See the caveats in the documentation: https://pandas.pydata.org/pandas-docs/stable/user_guide/indexing.html#returning-a-view-versus-a-copy\n",
      "\n",
      "  newDfView[0][0]=765\n",
      "C:\\Users\\swiss\\AppData\\Local\\Temp\\ipykernel_5680\\4063526219.py:1: SettingWithCopyWarning: \n",
      "A value is trying to be set on a copy of a slice from a DataFrame\n",
      "\n",
      "See the caveats in the documentation: https://pandas.pydata.org/pandas-docs/stable/user_guide/indexing.html#returning-a-view-versus-a-copy\n",
      "  newDfView[0][0]=765\n"
     ]
    }
   ],
   "source": [
    "newDfView[0][0]=765"
   ]
  },
  {
   "cell_type": "code",
   "execution_count": 85,
   "id": "984f3e06",
   "metadata": {},
   "outputs": [
    {
     "data": {
      "text/html": [
       "<div>\n",
       "<style scoped>\n",
       "    .dataframe tbody tr th:only-of-type {\n",
       "        vertical-align: middle;\n",
       "    }\n",
       "\n",
       "    .dataframe tbody tr th {\n",
       "        vertical-align: top;\n",
       "    }\n",
       "\n",
       "    .dataframe thead th {\n",
       "        text-align: right;\n",
       "    }\n",
       "</style>\n",
       "<table border=\"1\" class=\"dataframe\">\n",
       "  <thead>\n",
       "    <tr style=\"text-align: right;\">\n",
       "      <th></th>\n",
       "      <th>0</th>\n",
       "      <th>1</th>\n",
       "      <th>2</th>\n",
       "      <th>3</th>\n",
       "      <th>4</th>\n",
       "    </tr>\n",
       "  </thead>\n",
       "  <tbody>\n",
       "    <tr>\n",
       "      <th>0</th>\n",
       "      <td>765</td>\n",
       "      <td>0.207910</td>\n",
       "      <td>0.164216</td>\n",
       "      <td>0.525284</td>\n",
       "      <td>0.768124</td>\n",
       "    </tr>\n",
       "    <tr>\n",
       "      <th>1</th>\n",
       "      <td>0.383548</td>\n",
       "      <td>0.168433</td>\n",
       "      <td>0.187929</td>\n",
       "      <td>0.613764</td>\n",
       "      <td>0.904613</td>\n",
       "    </tr>\n",
       "    <tr>\n",
       "      <th>2</th>\n",
       "      <td>0.257243</td>\n",
       "      <td>0.712012</td>\n",
       "      <td>0.088637</td>\n",
       "      <td>0.116315</td>\n",
       "      <td>0.298110</td>\n",
       "    </tr>\n",
       "    <tr>\n",
       "      <th>3</th>\n",
       "      <td>0.466084</td>\n",
       "      <td>0.323729</td>\n",
       "      <td>0.351574</td>\n",
       "      <td>0.456606</td>\n",
       "      <td>0.776034</td>\n",
       "    </tr>\n",
       "    <tr>\n",
       "      <th>4</th>\n",
       "      <td>0.467989</td>\n",
       "      <td>0.821382</td>\n",
       "      <td>0.451938</td>\n",
       "      <td>0.351626</td>\n",
       "      <td>0.534904</td>\n",
       "    </tr>\n",
       "  </tbody>\n",
       "</table>\n",
       "</div>"
      ],
      "text/plain": [
       "          0         1         2         3         4\n",
       "0       765  0.207910  0.164216  0.525284  0.768124\n",
       "1  0.383548  0.168433  0.187929  0.613764  0.904613\n",
       "2  0.257243  0.712012  0.088637  0.116315  0.298110\n",
       "3  0.466084  0.323729  0.351574  0.456606  0.776034\n",
       "4  0.467989  0.821382  0.451938  0.351626  0.534904"
      ]
     },
     "execution_count": 85,
     "metadata": {},
     "output_type": "execute_result"
    }
   ],
   "source": [
    "newDf.head()"
   ]
  },
  {
   "cell_type": "code",
   "execution_count": 86,
   "id": "ed958ba1",
   "metadata": {},
   "outputs": [
    {
     "data": {
      "text/html": [
       "<div>\n",
       "<style scoped>\n",
       "    .dataframe tbody tr th:only-of-type {\n",
       "        vertical-align: middle;\n",
       "    }\n",
       "\n",
       "    .dataframe tbody tr th {\n",
       "        vertical-align: top;\n",
       "    }\n",
       "\n",
       "    .dataframe thead th {\n",
       "        text-align: right;\n",
       "    }\n",
       "</style>\n",
       "<table border=\"1\" class=\"dataframe\">\n",
       "  <thead>\n",
       "    <tr style=\"text-align: right;\">\n",
       "      <th></th>\n",
       "      <th>0</th>\n",
       "      <th>1</th>\n",
       "      <th>2</th>\n",
       "      <th>3</th>\n",
       "      <th>4</th>\n",
       "    </tr>\n",
       "  </thead>\n",
       "  <tbody>\n",
       "    <tr>\n",
       "      <th>0</th>\n",
       "      <td>765</td>\n",
       "      <td>0.207910</td>\n",
       "      <td>0.164216</td>\n",
       "      <td>0.525284</td>\n",
       "      <td>0.768124</td>\n",
       "    </tr>\n",
       "    <tr>\n",
       "      <th>1</th>\n",
       "      <td>0.383548</td>\n",
       "      <td>0.168433</td>\n",
       "      <td>0.187929</td>\n",
       "      <td>0.613764</td>\n",
       "      <td>0.904613</td>\n",
       "    </tr>\n",
       "    <tr>\n",
       "      <th>2</th>\n",
       "      <td>0.257243</td>\n",
       "      <td>0.712012</td>\n",
       "      <td>0.088637</td>\n",
       "      <td>0.116315</td>\n",
       "      <td>0.298110</td>\n",
       "    </tr>\n",
       "    <tr>\n",
       "      <th>3</th>\n",
       "      <td>0.466084</td>\n",
       "      <td>0.323729</td>\n",
       "      <td>0.351574</td>\n",
       "      <td>0.456606</td>\n",
       "      <td>0.776034</td>\n",
       "    </tr>\n",
       "    <tr>\n",
       "      <th>4</th>\n",
       "      <td>0.467989</td>\n",
       "      <td>0.821382</td>\n",
       "      <td>0.451938</td>\n",
       "      <td>0.351626</td>\n",
       "      <td>0.534904</td>\n",
       "    </tr>\n",
       "  </tbody>\n",
       "</table>\n",
       "</div>"
      ],
      "text/plain": [
       "          0         1         2         3         4\n",
       "0       765  0.207910  0.164216  0.525284  0.768124\n",
       "1  0.383548  0.168433  0.187929  0.613764  0.904613\n",
       "2  0.257243  0.712012  0.088637  0.116315  0.298110\n",
       "3  0.466084  0.323729  0.351574  0.456606  0.776034\n",
       "4  0.467989  0.821382  0.451938  0.351626  0.534904"
      ]
     },
     "execution_count": 86,
     "metadata": {},
     "output_type": "execute_result"
    }
   ],
   "source": [
    "newDfView.head()"
   ]
  },
  {
   "cell_type": "code",
   "execution_count": 87,
   "id": "8a4db7d6",
   "metadata": {},
   "outputs": [],
   "source": [
    "newDfCopy=newDf.copy()"
   ]
  },
  {
   "cell_type": "code",
   "execution_count": 88,
   "id": "3d02023a",
   "metadata": {},
   "outputs": [
    {
     "name": "stderr",
     "output_type": "stream",
     "text": [
      "C:\\Users\\swiss\\AppData\\Local\\Temp\\ipykernel_5680\\2532441962.py:1: FutureWarning: ChainedAssignmentError: behaviour will change in pandas 3.0!\n",
      "You are setting values through chained assignment. Currently this works in certain cases, but when using Copy-on-Write (which will become the default behaviour in pandas 3.0) this will never work to update the original DataFrame or Series, because the intermediate object on which we are setting values will behave as a copy.\n",
      "A typical example is when you are setting values in a column of a DataFrame, like:\n",
      "\n",
      "df[\"col\"][row_indexer] = value\n",
      "\n",
      "Use `df.loc[row_indexer, \"col\"] = values` instead, to perform the assignment in a single step and ensure this keeps updating the original `df`.\n",
      "\n",
      "See the caveats in the documentation: https://pandas.pydata.org/pandas-docs/stable/user_guide/indexing.html#returning-a-view-versus-a-copy\n",
      "\n",
      "  newDfCopy[0][0]=656\n",
      "C:\\Users\\swiss\\AppData\\Local\\Temp\\ipykernel_5680\\2532441962.py:1: SettingWithCopyWarning: \n",
      "A value is trying to be set on a copy of a slice from a DataFrame\n",
      "\n",
      "See the caveats in the documentation: https://pandas.pydata.org/pandas-docs/stable/user_guide/indexing.html#returning-a-view-versus-a-copy\n",
      "  newDfCopy[0][0]=656\n"
     ]
    }
   ],
   "source": [
    "newDfCopy[0][0]=656"
   ]
  },
  {
   "cell_type": "code",
   "execution_count": 89,
   "id": "9f7309c6",
   "metadata": {},
   "outputs": [
    {
     "data": {
      "text/html": [
       "<div>\n",
       "<style scoped>\n",
       "    .dataframe tbody tr th:only-of-type {\n",
       "        vertical-align: middle;\n",
       "    }\n",
       "\n",
       "    .dataframe tbody tr th {\n",
       "        vertical-align: top;\n",
       "    }\n",
       "\n",
       "    .dataframe thead th {\n",
       "        text-align: right;\n",
       "    }\n",
       "</style>\n",
       "<table border=\"1\" class=\"dataframe\">\n",
       "  <thead>\n",
       "    <tr style=\"text-align: right;\">\n",
       "      <th></th>\n",
       "      <th>0</th>\n",
       "      <th>1</th>\n",
       "      <th>2</th>\n",
       "      <th>3</th>\n",
       "      <th>4</th>\n",
       "    </tr>\n",
       "  </thead>\n",
       "  <tbody>\n",
       "    <tr>\n",
       "      <th>0</th>\n",
       "      <td>765</td>\n",
       "      <td>0.207910</td>\n",
       "      <td>0.164216</td>\n",
       "      <td>0.525284</td>\n",
       "      <td>0.768124</td>\n",
       "    </tr>\n",
       "    <tr>\n",
       "      <th>1</th>\n",
       "      <td>0.383548</td>\n",
       "      <td>0.168433</td>\n",
       "      <td>0.187929</td>\n",
       "      <td>0.613764</td>\n",
       "      <td>0.904613</td>\n",
       "    </tr>\n",
       "    <tr>\n",
       "      <th>2</th>\n",
       "      <td>0.257243</td>\n",
       "      <td>0.712012</td>\n",
       "      <td>0.088637</td>\n",
       "      <td>0.116315</td>\n",
       "      <td>0.298110</td>\n",
       "    </tr>\n",
       "    <tr>\n",
       "      <th>3</th>\n",
       "      <td>0.466084</td>\n",
       "      <td>0.323729</td>\n",
       "      <td>0.351574</td>\n",
       "      <td>0.456606</td>\n",
       "      <td>0.776034</td>\n",
       "    </tr>\n",
       "    <tr>\n",
       "      <th>4</th>\n",
       "      <td>0.467989</td>\n",
       "      <td>0.821382</td>\n",
       "      <td>0.451938</td>\n",
       "      <td>0.351626</td>\n",
       "      <td>0.534904</td>\n",
       "    </tr>\n",
       "  </tbody>\n",
       "</table>\n",
       "</div>"
      ],
      "text/plain": [
       "          0         1         2         3         4\n",
       "0       765  0.207910  0.164216  0.525284  0.768124\n",
       "1  0.383548  0.168433  0.187929  0.613764  0.904613\n",
       "2  0.257243  0.712012  0.088637  0.116315  0.298110\n",
       "3  0.466084  0.323729  0.351574  0.456606  0.776034\n",
       "4  0.467989  0.821382  0.451938  0.351626  0.534904"
      ]
     },
     "execution_count": 89,
     "metadata": {},
     "output_type": "execute_result"
    }
   ],
   "source": [
    "newDf.head()"
   ]
  },
  {
   "cell_type": "code",
   "execution_count": 90,
   "id": "847240a3",
   "metadata": {},
   "outputs": [
    {
     "data": {
      "text/html": [
       "<div>\n",
       "<style scoped>\n",
       "    .dataframe tbody tr th:only-of-type {\n",
       "        vertical-align: middle;\n",
       "    }\n",
       "\n",
       "    .dataframe tbody tr th {\n",
       "        vertical-align: top;\n",
       "    }\n",
       "\n",
       "    .dataframe thead th {\n",
       "        text-align: right;\n",
       "    }\n",
       "</style>\n",
       "<table border=\"1\" class=\"dataframe\">\n",
       "  <thead>\n",
       "    <tr style=\"text-align: right;\">\n",
       "      <th></th>\n",
       "      <th>0</th>\n",
       "      <th>1</th>\n",
       "      <th>2</th>\n",
       "      <th>3</th>\n",
       "      <th>4</th>\n",
       "    </tr>\n",
       "  </thead>\n",
       "  <tbody>\n",
       "    <tr>\n",
       "      <th>0</th>\n",
       "      <td>656</td>\n",
       "      <td>0.207910</td>\n",
       "      <td>0.164216</td>\n",
       "      <td>0.525284</td>\n",
       "      <td>0.768124</td>\n",
       "    </tr>\n",
       "    <tr>\n",
       "      <th>1</th>\n",
       "      <td>0.383548</td>\n",
       "      <td>0.168433</td>\n",
       "      <td>0.187929</td>\n",
       "      <td>0.613764</td>\n",
       "      <td>0.904613</td>\n",
       "    </tr>\n",
       "    <tr>\n",
       "      <th>2</th>\n",
       "      <td>0.257243</td>\n",
       "      <td>0.712012</td>\n",
       "      <td>0.088637</td>\n",
       "      <td>0.116315</td>\n",
       "      <td>0.298110</td>\n",
       "    </tr>\n",
       "    <tr>\n",
       "      <th>3</th>\n",
       "      <td>0.466084</td>\n",
       "      <td>0.323729</td>\n",
       "      <td>0.351574</td>\n",
       "      <td>0.456606</td>\n",
       "      <td>0.776034</td>\n",
       "    </tr>\n",
       "    <tr>\n",
       "      <th>4</th>\n",
       "      <td>0.467989</td>\n",
       "      <td>0.821382</td>\n",
       "      <td>0.451938</td>\n",
       "      <td>0.351626</td>\n",
       "      <td>0.534904</td>\n",
       "    </tr>\n",
       "  </tbody>\n",
       "</table>\n",
       "</div>"
      ],
      "text/plain": [
       "          0         1         2         3         4\n",
       "0       656  0.207910  0.164216  0.525284  0.768124\n",
       "1  0.383548  0.168433  0.187929  0.613764  0.904613\n",
       "2  0.257243  0.712012  0.088637  0.116315  0.298110\n",
       "3  0.466084  0.323729  0.351574  0.456606  0.776034\n",
       "4  0.467989  0.821382  0.451938  0.351626  0.534904"
      ]
     },
     "execution_count": 90,
     "metadata": {},
     "output_type": "execute_result"
    }
   ],
   "source": [
    "newDfCopy.head()"
   ]
  },
  {
   "cell_type": "markdown",
   "id": "c4b27c61",
   "metadata": {},
   "source": [
    "## loc"
   ]
  },
  {
   "cell_type": "code",
   "execution_count": 91,
   "id": "d8e70dfb",
   "metadata": {},
   "outputs": [
    {
     "data": {
      "text/html": [
       "<div>\n",
       "<style scoped>\n",
       "    .dataframe tbody tr th:only-of-type {\n",
       "        vertical-align: middle;\n",
       "    }\n",
       "\n",
       "    .dataframe tbody tr th {\n",
       "        vertical-align: top;\n",
       "    }\n",
       "\n",
       "    .dataframe thead th {\n",
       "        text-align: right;\n",
       "    }\n",
       "</style>\n",
       "<table border=\"1\" class=\"dataframe\">\n",
       "  <thead>\n",
       "    <tr style=\"text-align: right;\">\n",
       "      <th></th>\n",
       "      <th>0</th>\n",
       "      <th>1</th>\n",
       "      <th>2</th>\n",
       "      <th>3</th>\n",
       "      <th>4</th>\n",
       "    </tr>\n",
       "  </thead>\n",
       "  <tbody>\n",
       "    <tr>\n",
       "      <th>0</th>\n",
       "      <td>765</td>\n",
       "      <td>0.207910</td>\n",
       "      <td>0.164216</td>\n",
       "      <td>0.525284</td>\n",
       "      <td>0.768124</td>\n",
       "    </tr>\n",
       "    <tr>\n",
       "      <th>1</th>\n",
       "      <td>0.383548</td>\n",
       "      <td>0.168433</td>\n",
       "      <td>0.187929</td>\n",
       "      <td>0.613764</td>\n",
       "      <td>0.904613</td>\n",
       "    </tr>\n",
       "  </tbody>\n",
       "</table>\n",
       "</div>"
      ],
      "text/plain": [
       "          0         1         2         3         4\n",
       "0       765  0.207910  0.164216  0.525284  0.768124\n",
       "1  0.383548  0.168433  0.187929  0.613764  0.904613"
      ]
     },
     "execution_count": 91,
     "metadata": {},
     "output_type": "execute_result"
    }
   ],
   "source": [
    "newDf.head(2)"
   ]
  },
  {
   "cell_type": "code",
   "execution_count": 92,
   "id": "d68dbaa6",
   "metadata": {},
   "outputs": [
    {
     "data": {
      "text/plain": [
       "765"
      ]
     },
     "execution_count": 92,
     "metadata": {},
     "output_type": "execute_result"
    }
   ],
   "source": [
    "newDf.loc[0,0]"
   ]
  },
  {
   "cell_type": "code",
   "execution_count": 93,
   "id": "ffdddeae",
   "metadata": {},
   "outputs": [],
   "source": [
    "newDf.loc[0,0]=5678"
   ]
  },
  {
   "cell_type": "code",
   "execution_count": 94,
   "id": "79abae20",
   "metadata": {},
   "outputs": [
    {
     "data": {
      "text/html": [
       "<div>\n",
       "<style scoped>\n",
       "    .dataframe tbody tr th:only-of-type {\n",
       "        vertical-align: middle;\n",
       "    }\n",
       "\n",
       "    .dataframe tbody tr th {\n",
       "        vertical-align: top;\n",
       "    }\n",
       "\n",
       "    .dataframe thead th {\n",
       "        text-align: right;\n",
       "    }\n",
       "</style>\n",
       "<table border=\"1\" class=\"dataframe\">\n",
       "  <thead>\n",
       "    <tr style=\"text-align: right;\">\n",
       "      <th></th>\n",
       "      <th>0</th>\n",
       "      <th>1</th>\n",
       "      <th>2</th>\n",
       "      <th>3</th>\n",
       "      <th>4</th>\n",
       "    </tr>\n",
       "  </thead>\n",
       "  <tbody>\n",
       "    <tr>\n",
       "      <th>0</th>\n",
       "      <td>5678</td>\n",
       "      <td>0.207910</td>\n",
       "      <td>0.164216</td>\n",
       "      <td>0.525284</td>\n",
       "      <td>0.768124</td>\n",
       "    </tr>\n",
       "    <tr>\n",
       "      <th>1</th>\n",
       "      <td>0.383548</td>\n",
       "      <td>0.168433</td>\n",
       "      <td>0.187929</td>\n",
       "      <td>0.613764</td>\n",
       "      <td>0.904613</td>\n",
       "    </tr>\n",
       "  </tbody>\n",
       "</table>\n",
       "</div>"
      ],
      "text/plain": [
       "          0         1         2         3         4\n",
       "0      5678  0.207910  0.164216  0.525284  0.768124\n",
       "1  0.383548  0.168433  0.187929  0.613764  0.904613"
      ]
     },
     "execution_count": 94,
     "metadata": {},
     "output_type": "execute_result"
    }
   ],
   "source": [
    "newDf.head(2)"
   ]
  },
  {
   "cell_type": "code",
   "execution_count": 95,
   "id": "365d11dd",
   "metadata": {},
   "outputs": [
    {
     "data": {
      "text/plain": [
       "np.float64(0.7681241920125469)"
      ]
     },
     "execution_count": 95,
     "metadata": {},
     "output_type": "execute_result"
    }
   ],
   "source": [
    "newDf.loc[0,4]"
   ]
  },
  {
   "cell_type": "code",
   "execution_count": 96,
   "id": "691e63fb",
   "metadata": {},
   "outputs": [
    {
     "data": {
      "text/plain": [
       "np.float64(0.05933886007960465)"
      ]
     },
     "execution_count": 96,
     "metadata": {},
     "output_type": "execute_result"
    }
   ],
   "source": [
    "newDf.loc[325,1]"
   ]
  },
  {
   "cell_type": "code",
   "execution_count": 97,
   "id": "59d5b12e",
   "metadata": {},
   "outputs": [],
   "source": [
    "newDf.loc[0,0]=9875"
   ]
  },
  {
   "cell_type": "code",
   "execution_count": 98,
   "id": "38793742",
   "metadata": {},
   "outputs": [
    {
     "data": {
      "text/html": [
       "<div>\n",
       "<style scoped>\n",
       "    .dataframe tbody tr th:only-of-type {\n",
       "        vertical-align: middle;\n",
       "    }\n",
       "\n",
       "    .dataframe tbody tr th {\n",
       "        vertical-align: top;\n",
       "    }\n",
       "\n",
       "    .dataframe thead th {\n",
       "        text-align: right;\n",
       "    }\n",
       "</style>\n",
       "<table border=\"1\" class=\"dataframe\">\n",
       "  <thead>\n",
       "    <tr style=\"text-align: right;\">\n",
       "      <th></th>\n",
       "      <th>0</th>\n",
       "      <th>1</th>\n",
       "      <th>2</th>\n",
       "      <th>3</th>\n",
       "      <th>4</th>\n",
       "    </tr>\n",
       "  </thead>\n",
       "  <tbody>\n",
       "    <tr>\n",
       "      <th>0</th>\n",
       "      <td>9875</td>\n",
       "      <td>0.207910</td>\n",
       "      <td>0.164216</td>\n",
       "      <td>0.525284</td>\n",
       "      <td>0.768124</td>\n",
       "    </tr>\n",
       "    <tr>\n",
       "      <th>1</th>\n",
       "      <td>0.383548</td>\n",
       "      <td>0.168433</td>\n",
       "      <td>0.187929</td>\n",
       "      <td>0.613764</td>\n",
       "      <td>0.904613</td>\n",
       "    </tr>\n",
       "  </tbody>\n",
       "</table>\n",
       "</div>"
      ],
      "text/plain": [
       "          0         1         2         3         4\n",
       "0      9875  0.207910  0.164216  0.525284  0.768124\n",
       "1  0.383548  0.168433  0.187929  0.613764  0.904613"
      ]
     },
     "execution_count": 98,
     "metadata": {},
     "output_type": "execute_result"
    }
   ],
   "source": [
    "newDf.head(2)"
   ]
  },
  {
   "cell_type": "code",
   "execution_count": 99,
   "id": "af9d496c",
   "metadata": {},
   "outputs": [],
   "source": [
    "newDf.columns=list(\"ABCDE\")"
   ]
  },
  {
   "cell_type": "code",
   "execution_count": 100,
   "id": "3108ef47",
   "metadata": {},
   "outputs": [
    {
     "data": {
      "text/html": [
       "<div>\n",
       "<style scoped>\n",
       "    .dataframe tbody tr th:only-of-type {\n",
       "        vertical-align: middle;\n",
       "    }\n",
       "\n",
       "    .dataframe tbody tr th {\n",
       "        vertical-align: top;\n",
       "    }\n",
       "\n",
       "    .dataframe thead th {\n",
       "        text-align: right;\n",
       "    }\n",
       "</style>\n",
       "<table border=\"1\" class=\"dataframe\">\n",
       "  <thead>\n",
       "    <tr style=\"text-align: right;\">\n",
       "      <th></th>\n",
       "      <th>A</th>\n",
       "      <th>B</th>\n",
       "      <th>C</th>\n",
       "      <th>D</th>\n",
       "      <th>E</th>\n",
       "    </tr>\n",
       "  </thead>\n",
       "  <tbody>\n",
       "    <tr>\n",
       "      <th>0</th>\n",
       "      <td>9875</td>\n",
       "      <td>0.207910</td>\n",
       "      <td>0.164216</td>\n",
       "      <td>0.525284</td>\n",
       "      <td>0.768124</td>\n",
       "    </tr>\n",
       "    <tr>\n",
       "      <th>1</th>\n",
       "      <td>0.383548</td>\n",
       "      <td>0.168433</td>\n",
       "      <td>0.187929</td>\n",
       "      <td>0.613764</td>\n",
       "      <td>0.904613</td>\n",
       "    </tr>\n",
       "    <tr>\n",
       "      <th>2</th>\n",
       "      <td>0.257243</td>\n",
       "      <td>0.712012</td>\n",
       "      <td>0.088637</td>\n",
       "      <td>0.116315</td>\n",
       "      <td>0.298110</td>\n",
       "    </tr>\n",
       "  </tbody>\n",
       "</table>\n",
       "</div>"
      ],
      "text/plain": [
       "          A         B         C         D         E\n",
       "0      9875  0.207910  0.164216  0.525284  0.768124\n",
       "1  0.383548  0.168433  0.187929  0.613764  0.904613\n",
       "2  0.257243  0.712012  0.088637  0.116315  0.298110"
      ]
     },
     "execution_count": 100,
     "metadata": {},
     "output_type": "execute_result"
    }
   ],
   "source": [
    "newDf.head(3)"
   ]
  },
  {
   "cell_type": "code",
   "execution_count": 101,
   "id": "e88d3c68",
   "metadata": {},
   "outputs": [
    {
     "data": {
      "text/plain": [
       "9875"
      ]
     },
     "execution_count": 101,
     "metadata": {},
     "output_type": "execute_result"
    }
   ],
   "source": [
    "newDf.loc[0, \"A\"]"
   ]
  },
  {
   "cell_type": "code",
   "execution_count": 102,
   "id": "b81116b9",
   "metadata": {},
   "outputs": [],
   "source": [
    "newDf.loc[0,\"A\"]=65"
   ]
  },
  {
   "cell_type": "code",
   "execution_count": 103,
   "id": "55f459c8",
   "metadata": {},
   "outputs": [
    {
     "data": {
      "text/html": [
       "<div>\n",
       "<style scoped>\n",
       "    .dataframe tbody tr th:only-of-type {\n",
       "        vertical-align: middle;\n",
       "    }\n",
       "\n",
       "    .dataframe tbody tr th {\n",
       "        vertical-align: top;\n",
       "    }\n",
       "\n",
       "    .dataframe thead th {\n",
       "        text-align: right;\n",
       "    }\n",
       "</style>\n",
       "<table border=\"1\" class=\"dataframe\">\n",
       "  <thead>\n",
       "    <tr style=\"text-align: right;\">\n",
       "      <th></th>\n",
       "      <th>A</th>\n",
       "      <th>B</th>\n",
       "      <th>C</th>\n",
       "      <th>D</th>\n",
       "      <th>E</th>\n",
       "    </tr>\n",
       "  </thead>\n",
       "  <tbody>\n",
       "    <tr>\n",
       "      <th>0</th>\n",
       "      <td>65</td>\n",
       "      <td>0.207910</td>\n",
       "      <td>0.164216</td>\n",
       "      <td>0.525284</td>\n",
       "      <td>0.768124</td>\n",
       "    </tr>\n",
       "    <tr>\n",
       "      <th>1</th>\n",
       "      <td>0.383548</td>\n",
       "      <td>0.168433</td>\n",
       "      <td>0.187929</td>\n",
       "      <td>0.613764</td>\n",
       "      <td>0.904613</td>\n",
       "    </tr>\n",
       "    <tr>\n",
       "      <th>2</th>\n",
       "      <td>0.257243</td>\n",
       "      <td>0.712012</td>\n",
       "      <td>0.088637</td>\n",
       "      <td>0.116315</td>\n",
       "      <td>0.298110</td>\n",
       "    </tr>\n",
       "  </tbody>\n",
       "</table>\n",
       "</div>"
      ],
      "text/plain": [
       "          A         B         C         D         E\n",
       "0        65  0.207910  0.164216  0.525284  0.768124\n",
       "1  0.383548  0.168433  0.187929  0.613764  0.904613\n",
       "2  0.257243  0.712012  0.088637  0.116315  0.298110"
      ]
     },
     "execution_count": 103,
     "metadata": {},
     "output_type": "execute_result"
    }
   ],
   "source": [
    "newDf.head(3)"
   ]
  },
  {
   "cell_type": "code",
   "execution_count": 104,
   "id": "ab8cb077",
   "metadata": {},
   "outputs": [
    {
     "data": {
      "text/plain": [
       "0.32214759964349227"
      ]
     },
     "execution_count": 104,
     "metadata": {},
     "output_type": "execute_result"
    }
   ],
   "source": [
    "newDf.loc[35,\"A\"]"
   ]
  },
  {
   "cell_type": "code",
   "execution_count": 105,
   "id": "2f5d394a",
   "metadata": {},
   "outputs": [
    {
     "data": {
      "text/html": [
       "<div>\n",
       "<style scoped>\n",
       "    .dataframe tbody tr th:only-of-type {\n",
       "        vertical-align: middle;\n",
       "    }\n",
       "\n",
       "    .dataframe tbody tr th {\n",
       "        vertical-align: top;\n",
       "    }\n",
       "\n",
       "    .dataframe thead th {\n",
       "        text-align: right;\n",
       "    }\n",
       "</style>\n",
       "<table border=\"1\" class=\"dataframe\">\n",
       "  <thead>\n",
       "    <tr style=\"text-align: right;\">\n",
       "      <th></th>\n",
       "      <th>A</th>\n",
       "      <th>B</th>\n",
       "      <th>C</th>\n",
       "      <th>D</th>\n",
       "      <th>E</th>\n",
       "    </tr>\n",
       "  </thead>\n",
       "  <tbody>\n",
       "    <tr>\n",
       "      <th>1</th>\n",
       "      <td>0.383548</td>\n",
       "      <td>0.168433</td>\n",
       "      <td>0.187929</td>\n",
       "      <td>0.613764</td>\n",
       "      <td>0.904613</td>\n",
       "    </tr>\n",
       "    <tr>\n",
       "      <th>2</th>\n",
       "      <td>0.257243</td>\n",
       "      <td>0.712012</td>\n",
       "      <td>0.088637</td>\n",
       "      <td>0.116315</td>\n",
       "      <td>0.298110</td>\n",
       "    </tr>\n",
       "    <tr>\n",
       "      <th>3</th>\n",
       "      <td>0.466084</td>\n",
       "      <td>0.323729</td>\n",
       "      <td>0.351574</td>\n",
       "      <td>0.456606</td>\n",
       "      <td>0.776034</td>\n",
       "    </tr>\n",
       "  </tbody>\n",
       "</table>\n",
       "</div>"
      ],
      "text/plain": [
       "          A         B         C         D         E\n",
       "1  0.383548  0.168433  0.187929  0.613764  0.904613\n",
       "2  0.257243  0.712012  0.088637  0.116315  0.298110\n",
       "3  0.466084  0.323729  0.351574  0.456606  0.776034"
      ]
     },
     "execution_count": 105,
     "metadata": {},
     "output_type": "execute_result"
    }
   ],
   "source": [
    "newDf.drop(0, axis=0).head(3)"
   ]
  },
  {
   "cell_type": "code",
   "execution_count": 106,
   "id": "70aaad33",
   "metadata": {},
   "outputs": [
    {
     "data": {
      "text/html": [
       "<div>\n",
       "<style scoped>\n",
       "    .dataframe tbody tr th:only-of-type {\n",
       "        vertical-align: middle;\n",
       "    }\n",
       "\n",
       "    .dataframe tbody tr th {\n",
       "        vertical-align: top;\n",
       "    }\n",
       "\n",
       "    .dataframe thead th {\n",
       "        text-align: right;\n",
       "    }\n",
       "</style>\n",
       "<table border=\"1\" class=\"dataframe\">\n",
       "  <thead>\n",
       "    <tr style=\"text-align: right;\">\n",
       "      <th></th>\n",
       "      <th>B</th>\n",
       "      <th>C</th>\n",
       "      <th>D</th>\n",
       "      <th>E</th>\n",
       "    </tr>\n",
       "  </thead>\n",
       "  <tbody>\n",
       "    <tr>\n",
       "      <th>0</th>\n",
       "      <td>0.207910</td>\n",
       "      <td>0.164216</td>\n",
       "      <td>0.525284</td>\n",
       "      <td>0.768124</td>\n",
       "    </tr>\n",
       "    <tr>\n",
       "      <th>1</th>\n",
       "      <td>0.168433</td>\n",
       "      <td>0.187929</td>\n",
       "      <td>0.613764</td>\n",
       "      <td>0.904613</td>\n",
       "    </tr>\n",
       "    <tr>\n",
       "      <th>2</th>\n",
       "      <td>0.712012</td>\n",
       "      <td>0.088637</td>\n",
       "      <td>0.116315</td>\n",
       "      <td>0.298110</td>\n",
       "    </tr>\n",
       "  </tbody>\n",
       "</table>\n",
       "</div>"
      ],
      "text/plain": [
       "          B         C         D         E\n",
       "0  0.207910  0.164216  0.525284  0.768124\n",
       "1  0.168433  0.187929  0.613764  0.904613\n",
       "2  0.712012  0.088637  0.116315  0.298110"
      ]
     },
     "execution_count": 106,
     "metadata": {},
     "output_type": "execute_result"
    }
   ],
   "source": [
    "newDf.drop(\"A\", axis=1).head(3)"
   ]
  },
  {
   "cell_type": "code",
   "execution_count": 107,
   "id": "32e550e5",
   "metadata": {},
   "outputs": [
    {
     "data": {
      "text/html": [
       "<div>\n",
       "<style scoped>\n",
       "    .dataframe tbody tr th:only-of-type {\n",
       "        vertical-align: middle;\n",
       "    }\n",
       "\n",
       "    .dataframe tbody tr th {\n",
       "        vertical-align: top;\n",
       "    }\n",
       "\n",
       "    .dataframe thead th {\n",
       "        text-align: right;\n",
       "    }\n",
       "</style>\n",
       "<table border=\"1\" class=\"dataframe\">\n",
       "  <thead>\n",
       "    <tr style=\"text-align: right;\">\n",
       "      <th></th>\n",
       "      <th>A</th>\n",
       "      <th>B</th>\n",
       "      <th>C</th>\n",
       "      <th>D</th>\n",
       "      <th>E</th>\n",
       "    </tr>\n",
       "  </thead>\n",
       "  <tbody>\n",
       "    <tr>\n",
       "      <th>0</th>\n",
       "      <td>65</td>\n",
       "      <td>0.207910</td>\n",
       "      <td>0.164216</td>\n",
       "      <td>0.525284</td>\n",
       "      <td>0.768124</td>\n",
       "    </tr>\n",
       "    <tr>\n",
       "      <th>1</th>\n",
       "      <td>0.383548</td>\n",
       "      <td>0.168433</td>\n",
       "      <td>0.187929</td>\n",
       "      <td>0.613764</td>\n",
       "      <td>0.904613</td>\n",
       "    </tr>\n",
       "    <tr>\n",
       "      <th>2</th>\n",
       "      <td>0.257243</td>\n",
       "      <td>0.712012</td>\n",
       "      <td>0.088637</td>\n",
       "      <td>0.116315</td>\n",
       "      <td>0.298110</td>\n",
       "    </tr>\n",
       "  </tbody>\n",
       "</table>\n",
       "</div>"
      ],
      "text/plain": [
       "          A         B         C         D         E\n",
       "0        65  0.207910  0.164216  0.525284  0.768124\n",
       "1  0.383548  0.168433  0.187929  0.613764  0.904613\n",
       "2  0.257243  0.712012  0.088637  0.116315  0.298110"
      ]
     },
     "execution_count": 107,
     "metadata": {},
     "output_type": "execute_result"
    }
   ],
   "source": [
    "newDf.head(3)"
   ]
  },
  {
   "cell_type": "code",
   "execution_count": 108,
   "id": "64c80c34",
   "metadata": {},
   "outputs": [],
   "source": [
    "newDf = newDf.drop(\"A\", axis=1)"
   ]
  },
  {
   "cell_type": "code",
   "execution_count": 109,
   "id": "a6da5d77",
   "metadata": {},
   "outputs": [
    {
     "data": {
      "text/html": [
       "<div>\n",
       "<style scoped>\n",
       "    .dataframe tbody tr th:only-of-type {\n",
       "        vertical-align: middle;\n",
       "    }\n",
       "\n",
       "    .dataframe tbody tr th {\n",
       "        vertical-align: top;\n",
       "    }\n",
       "\n",
       "    .dataframe thead th {\n",
       "        text-align: right;\n",
       "    }\n",
       "</style>\n",
       "<table border=\"1\" class=\"dataframe\">\n",
       "  <thead>\n",
       "    <tr style=\"text-align: right;\">\n",
       "      <th></th>\n",
       "      <th>B</th>\n",
       "      <th>C</th>\n",
       "      <th>D</th>\n",
       "      <th>E</th>\n",
       "    </tr>\n",
       "  </thead>\n",
       "  <tbody>\n",
       "    <tr>\n",
       "      <th>0</th>\n",
       "      <td>0.207910</td>\n",
       "      <td>0.164216</td>\n",
       "      <td>0.525284</td>\n",
       "      <td>0.768124</td>\n",
       "    </tr>\n",
       "    <tr>\n",
       "      <th>1</th>\n",
       "      <td>0.168433</td>\n",
       "      <td>0.187929</td>\n",
       "      <td>0.613764</td>\n",
       "      <td>0.904613</td>\n",
       "    </tr>\n",
       "    <tr>\n",
       "      <th>2</th>\n",
       "      <td>0.712012</td>\n",
       "      <td>0.088637</td>\n",
       "      <td>0.116315</td>\n",
       "      <td>0.298110</td>\n",
       "    </tr>\n",
       "  </tbody>\n",
       "</table>\n",
       "</div>"
      ],
      "text/plain": [
       "          B         C         D         E\n",
       "0  0.207910  0.164216  0.525284  0.768124\n",
       "1  0.168433  0.187929  0.613764  0.904613\n",
       "2  0.712012  0.088637  0.116315  0.298110"
      ]
     },
     "execution_count": 109,
     "metadata": {},
     "output_type": "execute_result"
    }
   ],
   "source": [
    "newDf.head(3)"
   ]
  },
  {
   "cell_type": "code",
   "execution_count": 110,
   "id": "c9e744c9",
   "metadata": {},
   "outputs": [
    {
     "data": {
      "text/html": [
       "<div>\n",
       "<style scoped>\n",
       "    .dataframe tbody tr th:only-of-type {\n",
       "        vertical-align: middle;\n",
       "    }\n",
       "\n",
       "    .dataframe tbody tr th {\n",
       "        vertical-align: top;\n",
       "    }\n",
       "\n",
       "    .dataframe thead th {\n",
       "        text-align: right;\n",
       "    }\n",
       "</style>\n",
       "<table border=\"1\" class=\"dataframe\">\n",
       "  <thead>\n",
       "    <tr style=\"text-align: right;\">\n",
       "      <th></th>\n",
       "      <th>C</th>\n",
       "      <th>D</th>\n",
       "    </tr>\n",
       "  </thead>\n",
       "  <tbody>\n",
       "    <tr>\n",
       "      <th>1</th>\n",
       "      <td>0.187929</td>\n",
       "      <td>0.613764</td>\n",
       "    </tr>\n",
       "    <tr>\n",
       "      <th>2</th>\n",
       "      <td>0.088637</td>\n",
       "      <td>0.116315</td>\n",
       "    </tr>\n",
       "  </tbody>\n",
       "</table>\n",
       "</div>"
      ],
      "text/plain": [
       "          C         D\n",
       "1  0.187929  0.613764\n",
       "2  0.088637  0.116315"
      ]
     },
     "execution_count": 110,
     "metadata": {},
     "output_type": "execute_result"
    }
   ],
   "source": [
    "newDf.loc[[1,2],[\"C\",\"D\"]]"
   ]
  },
  {
   "cell_type": "code",
   "execution_count": 111,
   "id": "271d2c5f",
   "metadata": {},
   "outputs": [
    {
     "data": {
      "text/html": [
       "<div>\n",
       "<style scoped>\n",
       "    .dataframe tbody tr th:only-of-type {\n",
       "        vertical-align: middle;\n",
       "    }\n",
       "\n",
       "    .dataframe tbody tr th {\n",
       "        vertical-align: top;\n",
       "    }\n",
       "\n",
       "    .dataframe thead th {\n",
       "        text-align: right;\n",
       "    }\n",
       "</style>\n",
       "<table border=\"1\" class=\"dataframe\">\n",
       "  <thead>\n",
       "    <tr style=\"text-align: right;\">\n",
       "      <th></th>\n",
       "      <th>B</th>\n",
       "      <th>C</th>\n",
       "      <th>D</th>\n",
       "      <th>E</th>\n",
       "    </tr>\n",
       "  </thead>\n",
       "  <tbody>\n",
       "    <tr>\n",
       "      <th>0</th>\n",
       "      <td>0.207910</td>\n",
       "      <td>0.164216</td>\n",
       "      <td>0.525284</td>\n",
       "      <td>0.768124</td>\n",
       "    </tr>\n",
       "    <tr>\n",
       "      <th>1</th>\n",
       "      <td>0.168433</td>\n",
       "      <td>0.187929</td>\n",
       "      <td>0.613764</td>\n",
       "      <td>0.904613</td>\n",
       "    </tr>\n",
       "    <tr>\n",
       "      <th>2</th>\n",
       "      <td>0.712012</td>\n",
       "      <td>0.088637</td>\n",
       "      <td>0.116315</td>\n",
       "      <td>0.298110</td>\n",
       "    </tr>\n",
       "  </tbody>\n",
       "</table>\n",
       "</div>"
      ],
      "text/plain": [
       "          B         C         D         E\n",
       "0  0.207910  0.164216  0.525284  0.768124\n",
       "1  0.168433  0.187929  0.613764  0.904613\n",
       "2  0.712012  0.088637  0.116315  0.298110"
      ]
     },
     "execution_count": 111,
     "metadata": {},
     "output_type": "execute_result"
    }
   ],
   "source": [
    "newDf.head(3)"
   ]
  },
  {
   "cell_type": "code",
   "execution_count": 112,
   "id": "a79acb5b",
   "metadata": {},
   "outputs": [
    {
     "data": {
      "text/html": [
       "<div>\n",
       "<style scoped>\n",
       "    .dataframe tbody tr th:only-of-type {\n",
       "        vertical-align: middle;\n",
       "    }\n",
       "\n",
       "    .dataframe tbody tr th {\n",
       "        vertical-align: top;\n",
       "    }\n",
       "\n",
       "    .dataframe thead th {\n",
       "        text-align: right;\n",
       "    }\n",
       "</style>\n",
       "<table border=\"1\" class=\"dataframe\">\n",
       "  <thead>\n",
       "    <tr style=\"text-align: right;\">\n",
       "      <th></th>\n",
       "      <th>C</th>\n",
       "      <th>D</th>\n",
       "    </tr>\n",
       "  </thead>\n",
       "  <tbody>\n",
       "    <tr>\n",
       "      <th>0</th>\n",
       "      <td>0.164216</td>\n",
       "      <td>0.525284</td>\n",
       "    </tr>\n",
       "    <tr>\n",
       "      <th>1</th>\n",
       "      <td>0.187929</td>\n",
       "      <td>0.613764</td>\n",
       "    </tr>\n",
       "    <tr>\n",
       "      <th>2</th>\n",
       "      <td>0.088637</td>\n",
       "      <td>0.116315</td>\n",
       "    </tr>\n",
       "    <tr>\n",
       "      <th>3</th>\n",
       "      <td>0.351574</td>\n",
       "      <td>0.456606</td>\n",
       "    </tr>\n",
       "    <tr>\n",
       "      <th>4</th>\n",
       "      <td>0.451938</td>\n",
       "      <td>0.351626</td>\n",
       "    </tr>\n",
       "    <tr>\n",
       "      <th>...</th>\n",
       "      <td>...</td>\n",
       "      <td>...</td>\n",
       "    </tr>\n",
       "    <tr>\n",
       "      <th>325</th>\n",
       "      <td>0.890778</td>\n",
       "      <td>0.699782</td>\n",
       "    </tr>\n",
       "    <tr>\n",
       "      <th>326</th>\n",
       "      <td>0.511774</td>\n",
       "      <td>0.324026</td>\n",
       "    </tr>\n",
       "    <tr>\n",
       "      <th>327</th>\n",
       "      <td>0.604982</td>\n",
       "      <td>0.110215</td>\n",
       "    </tr>\n",
       "    <tr>\n",
       "      <th>328</th>\n",
       "      <td>0.084746</td>\n",
       "      <td>0.024979</td>\n",
       "    </tr>\n",
       "    <tr>\n",
       "      <th>329</th>\n",
       "      <td>0.895678</td>\n",
       "      <td>0.639590</td>\n",
       "    </tr>\n",
       "  </tbody>\n",
       "</table>\n",
       "<p>330 rows × 2 columns</p>\n",
       "</div>"
      ],
      "text/plain": [
       "            C         D\n",
       "0    0.164216  0.525284\n",
       "1    0.187929  0.613764\n",
       "2    0.088637  0.116315\n",
       "3    0.351574  0.456606\n",
       "4    0.451938  0.351626\n",
       "..        ...       ...\n",
       "325  0.890778  0.699782\n",
       "326  0.511774  0.324026\n",
       "327  0.604982  0.110215\n",
       "328  0.084746  0.024979\n",
       "329  0.895678  0.639590\n",
       "\n",
       "[330 rows x 2 columns]"
      ]
     },
     "execution_count": 112,
     "metadata": {},
     "output_type": "execute_result"
    }
   ],
   "source": [
    "newDf.loc[:,[\"C\",\"D\"]]"
   ]
  },
  {
   "cell_type": "code",
   "execution_count": 113,
   "id": "c9ea4f63",
   "metadata": {},
   "outputs": [
    {
     "data": {
      "text/html": [
       "<div>\n",
       "<style scoped>\n",
       "    .dataframe tbody tr th:only-of-type {\n",
       "        vertical-align: middle;\n",
       "    }\n",
       "\n",
       "    .dataframe tbody tr th {\n",
       "        vertical-align: top;\n",
       "    }\n",
       "\n",
       "    .dataframe thead th {\n",
       "        text-align: right;\n",
       "    }\n",
       "</style>\n",
       "<table border=\"1\" class=\"dataframe\">\n",
       "  <thead>\n",
       "    <tr style=\"text-align: right;\">\n",
       "      <th></th>\n",
       "      <th>B</th>\n",
       "      <th>C</th>\n",
       "      <th>D</th>\n",
       "      <th>E</th>\n",
       "    </tr>\n",
       "  </thead>\n",
       "  <tbody>\n",
       "    <tr>\n",
       "      <th>1</th>\n",
       "      <td>0.168433</td>\n",
       "      <td>0.187929</td>\n",
       "      <td>0.613764</td>\n",
       "      <td>0.904613</td>\n",
       "    </tr>\n",
       "    <tr>\n",
       "      <th>2</th>\n",
       "      <td>0.712012</td>\n",
       "      <td>0.088637</td>\n",
       "      <td>0.116315</td>\n",
       "      <td>0.298110</td>\n",
       "    </tr>\n",
       "  </tbody>\n",
       "</table>\n",
       "</div>"
      ],
      "text/plain": [
       "          B         C         D         E\n",
       "1  0.168433  0.187929  0.613764  0.904613\n",
       "2  0.712012  0.088637  0.116315  0.298110"
      ]
     },
     "execution_count": 113,
     "metadata": {},
     "output_type": "execute_result"
    }
   ],
   "source": [
    "newDf.loc[[1,2],:]"
   ]
  },
  {
   "cell_type": "code",
   "execution_count": 114,
   "id": "bb39e71e",
   "metadata": {},
   "outputs": [
    {
     "data": {
      "text/html": [
       "<div>\n",
       "<style scoped>\n",
       "    .dataframe tbody tr th:only-of-type {\n",
       "        vertical-align: middle;\n",
       "    }\n",
       "\n",
       "    .dataframe tbody tr th {\n",
       "        vertical-align: top;\n",
       "    }\n",
       "\n",
       "    .dataframe thead th {\n",
       "        text-align: right;\n",
       "    }\n",
       "</style>\n",
       "<table border=\"1\" class=\"dataframe\">\n",
       "  <thead>\n",
       "    <tr style=\"text-align: right;\">\n",
       "      <th></th>\n",
       "      <th>C</th>\n",
       "      <th>D</th>\n",
       "    </tr>\n",
       "  </thead>\n",
       "  <tbody>\n",
       "    <tr>\n",
       "      <th>0</th>\n",
       "      <td>0.164216</td>\n",
       "      <td>0.525284</td>\n",
       "    </tr>\n",
       "    <tr>\n",
       "      <th>1</th>\n",
       "      <td>0.187929</td>\n",
       "      <td>0.613764</td>\n",
       "    </tr>\n",
       "    <tr>\n",
       "      <th>2</th>\n",
       "      <td>0.088637</td>\n",
       "      <td>0.116315</td>\n",
       "    </tr>\n",
       "    <tr>\n",
       "      <th>3</th>\n",
       "      <td>0.351574</td>\n",
       "      <td>0.456606</td>\n",
       "    </tr>\n",
       "    <tr>\n",
       "      <th>4</th>\n",
       "      <td>0.451938</td>\n",
       "      <td>0.351626</td>\n",
       "    </tr>\n",
       "    <tr>\n",
       "      <th>5</th>\n",
       "      <td>0.709027</td>\n",
       "      <td>0.160186</td>\n",
       "    </tr>\n",
       "  </tbody>\n",
       "</table>\n",
       "</div>"
      ],
      "text/plain": [
       "          C         D\n",
       "0  0.164216  0.525284\n",
       "1  0.187929  0.613764\n",
       "2  0.088637  0.116315\n",
       "3  0.351574  0.456606\n",
       "4  0.451938  0.351626\n",
       "5  0.709027  0.160186"
      ]
     },
     "execution_count": 114,
     "metadata": {},
     "output_type": "execute_result"
    }
   ],
   "source": [
    "newDf.loc[:5,[\"C\",\"D\"]]"
   ]
  },
  {
   "cell_type": "code",
   "execution_count": 115,
   "id": "d9d9ff21",
   "metadata": {},
   "outputs": [
    {
     "data": {
      "text/html": [
       "<div>\n",
       "<style scoped>\n",
       "    .dataframe tbody tr th:only-of-type {\n",
       "        vertical-align: middle;\n",
       "    }\n",
       "\n",
       "    .dataframe tbody tr th {\n",
       "        vertical-align: top;\n",
       "    }\n",
       "\n",
       "    .dataframe thead th {\n",
       "        text-align: right;\n",
       "    }\n",
       "</style>\n",
       "<table border=\"1\" class=\"dataframe\">\n",
       "  <thead>\n",
       "    <tr style=\"text-align: right;\">\n",
       "      <th></th>\n",
       "      <th>B</th>\n",
       "      <th>C</th>\n",
       "      <th>D</th>\n",
       "    </tr>\n",
       "  </thead>\n",
       "  <tbody>\n",
       "    <tr>\n",
       "      <th>1</th>\n",
       "      <td>0.168433</td>\n",
       "      <td>0.187929</td>\n",
       "      <td>0.613764</td>\n",
       "    </tr>\n",
       "    <tr>\n",
       "      <th>2</th>\n",
       "      <td>0.712012</td>\n",
       "      <td>0.088637</td>\n",
       "      <td>0.116315</td>\n",
       "    </tr>\n",
       "  </tbody>\n",
       "</table>\n",
       "</div>"
      ],
      "text/plain": [
       "          B         C         D\n",
       "1  0.168433  0.187929  0.613764\n",
       "2  0.712012  0.088637  0.116315"
      ]
     },
     "execution_count": 115,
     "metadata": {},
     "output_type": "execute_result"
    }
   ],
   "source": [
    "newDf.loc[[1,2],:\"D\"]"
   ]
  },
  {
   "cell_type": "code",
   "execution_count": 116,
   "id": "54ca80c5",
   "metadata": {},
   "outputs": [
    {
     "data": {
      "text/html": [
       "<div>\n",
       "<style scoped>\n",
       "    .dataframe tbody tr th:only-of-type {\n",
       "        vertical-align: middle;\n",
       "    }\n",
       "\n",
       "    .dataframe tbody tr th {\n",
       "        vertical-align: top;\n",
       "    }\n",
       "\n",
       "    .dataframe thead th {\n",
       "        text-align: right;\n",
       "    }\n",
       "</style>\n",
       "<table border=\"1\" class=\"dataframe\">\n",
       "  <thead>\n",
       "    <tr style=\"text-align: right;\">\n",
       "      <th></th>\n",
       "      <th>B</th>\n",
       "      <th>C</th>\n",
       "      <th>D</th>\n",
       "      <th>E</th>\n",
       "    </tr>\n",
       "  </thead>\n",
       "  <tbody>\n",
       "    <tr>\n",
       "      <th>0</th>\n",
       "      <td>0.207910</td>\n",
       "      <td>0.164216</td>\n",
       "      <td>0.525284</td>\n",
       "      <td>0.768124</td>\n",
       "    </tr>\n",
       "    <tr>\n",
       "      <th>1</th>\n",
       "      <td>0.168433</td>\n",
       "      <td>0.187929</td>\n",
       "      <td>0.613764</td>\n",
       "      <td>0.904613</td>\n",
       "    </tr>\n",
       "    <tr>\n",
       "      <th>14</th>\n",
       "      <td>0.150547</td>\n",
       "      <td>0.585167</td>\n",
       "      <td>0.556624</td>\n",
       "      <td>0.554513</td>\n",
       "    </tr>\n",
       "    <tr>\n",
       "      <th>16</th>\n",
       "      <td>0.189116</td>\n",
       "      <td>0.009838</td>\n",
       "      <td>0.489246</td>\n",
       "      <td>0.704820</td>\n",
       "    </tr>\n",
       "    <tr>\n",
       "      <th>17</th>\n",
       "      <td>0.011874</td>\n",
       "      <td>0.700029</td>\n",
       "      <td>0.079509</td>\n",
       "      <td>0.748722</td>\n",
       "    </tr>\n",
       "    <tr>\n",
       "      <th>...</th>\n",
       "      <td>...</td>\n",
       "      <td>...</td>\n",
       "      <td>...</td>\n",
       "      <td>...</td>\n",
       "    </tr>\n",
       "    <tr>\n",
       "      <th>319</th>\n",
       "      <td>0.094443</td>\n",
       "      <td>0.789406</td>\n",
       "      <td>0.740047</td>\n",
       "      <td>0.334593</td>\n",
       "    </tr>\n",
       "    <tr>\n",
       "      <th>321</th>\n",
       "      <td>0.134927</td>\n",
       "      <td>0.943799</td>\n",
       "      <td>0.944898</td>\n",
       "      <td>0.188409</td>\n",
       "    </tr>\n",
       "    <tr>\n",
       "      <th>325</th>\n",
       "      <td>0.059339</td>\n",
       "      <td>0.890778</td>\n",
       "      <td>0.699782</td>\n",
       "      <td>0.620969</td>\n",
       "    </tr>\n",
       "    <tr>\n",
       "      <th>326</th>\n",
       "      <td>0.138594</td>\n",
       "      <td>0.511774</td>\n",
       "      <td>0.324026</td>\n",
       "      <td>0.346258</td>\n",
       "    </tr>\n",
       "    <tr>\n",
       "      <th>327</th>\n",
       "      <td>0.125109</td>\n",
       "      <td>0.604982</td>\n",
       "      <td>0.110215</td>\n",
       "      <td>0.794862</td>\n",
       "    </tr>\n",
       "  </tbody>\n",
       "</table>\n",
       "<p>102 rows × 4 columns</p>\n",
       "</div>"
      ],
      "text/plain": [
       "            B         C         D         E\n",
       "0    0.207910  0.164216  0.525284  0.768124\n",
       "1    0.168433  0.187929  0.613764  0.904613\n",
       "14   0.150547  0.585167  0.556624  0.554513\n",
       "16   0.189116  0.009838  0.489246  0.704820\n",
       "17   0.011874  0.700029  0.079509  0.748722\n",
       "..        ...       ...       ...       ...\n",
       "319  0.094443  0.789406  0.740047  0.334593\n",
       "321  0.134927  0.943799  0.944898  0.188409\n",
       "325  0.059339  0.890778  0.699782  0.620969\n",
       "326  0.138594  0.511774  0.324026  0.346258\n",
       "327  0.125109  0.604982  0.110215  0.794862\n",
       "\n",
       "[102 rows x 4 columns]"
      ]
     },
     "execution_count": 116,
     "metadata": {},
     "output_type": "execute_result"
    }
   ],
   "source": [
    "newDf.loc[(newDf[\"B\"]<0.3)]"
   ]
  },
  {
   "cell_type": "code",
   "execution_count": 117,
   "id": "df74d10b",
   "metadata": {},
   "outputs": [
    {
     "data": {
      "text/html": [
       "<div>\n",
       "<style scoped>\n",
       "    .dataframe tbody tr th:only-of-type {\n",
       "        vertical-align: middle;\n",
       "    }\n",
       "\n",
       "    .dataframe tbody tr th {\n",
       "        vertical-align: top;\n",
       "    }\n",
       "\n",
       "    .dataframe thead th {\n",
       "        text-align: right;\n",
       "    }\n",
       "</style>\n",
       "<table border=\"1\" class=\"dataframe\">\n",
       "  <thead>\n",
       "    <tr style=\"text-align: right;\">\n",
       "      <th></th>\n",
       "      <th>B</th>\n",
       "      <th>C</th>\n",
       "      <th>D</th>\n",
       "      <th>E</th>\n",
       "    </tr>\n",
       "  </thead>\n",
       "  <tbody>\n",
       "    <tr>\n",
       "      <th>0</th>\n",
       "      <td>0.207910</td>\n",
       "      <td>0.164216</td>\n",
       "      <td>0.525284</td>\n",
       "      <td>0.768124</td>\n",
       "    </tr>\n",
       "    <tr>\n",
       "      <th>1</th>\n",
       "      <td>0.168433</td>\n",
       "      <td>0.187929</td>\n",
       "      <td>0.613764</td>\n",
       "      <td>0.904613</td>\n",
       "    </tr>\n",
       "    <tr>\n",
       "      <th>14</th>\n",
       "      <td>0.150547</td>\n",
       "      <td>0.585167</td>\n",
       "      <td>0.556624</td>\n",
       "      <td>0.554513</td>\n",
       "    </tr>\n",
       "    <tr>\n",
       "      <th>16</th>\n",
       "      <td>0.189116</td>\n",
       "      <td>0.009838</td>\n",
       "      <td>0.489246</td>\n",
       "      <td>0.704820</td>\n",
       "    </tr>\n",
       "    <tr>\n",
       "      <th>21</th>\n",
       "      <td>0.241007</td>\n",
       "      <td>0.059917</td>\n",
       "      <td>0.852624</td>\n",
       "      <td>0.904780</td>\n",
       "    </tr>\n",
       "    <tr>\n",
       "      <th>...</th>\n",
       "      <td>...</td>\n",
       "      <td>...</td>\n",
       "      <td>...</td>\n",
       "      <td>...</td>\n",
       "    </tr>\n",
       "    <tr>\n",
       "      <th>317</th>\n",
       "      <td>0.139290</td>\n",
       "      <td>0.455397</td>\n",
       "      <td>0.806489</td>\n",
       "      <td>0.292461</td>\n",
       "    </tr>\n",
       "    <tr>\n",
       "      <th>319</th>\n",
       "      <td>0.094443</td>\n",
       "      <td>0.789406</td>\n",
       "      <td>0.740047</td>\n",
       "      <td>0.334593</td>\n",
       "    </tr>\n",
       "    <tr>\n",
       "      <th>321</th>\n",
       "      <td>0.134927</td>\n",
       "      <td>0.943799</td>\n",
       "      <td>0.944898</td>\n",
       "      <td>0.188409</td>\n",
       "    </tr>\n",
       "    <tr>\n",
       "      <th>325</th>\n",
       "      <td>0.059339</td>\n",
       "      <td>0.890778</td>\n",
       "      <td>0.699782</td>\n",
       "      <td>0.620969</td>\n",
       "    </tr>\n",
       "    <tr>\n",
       "      <th>326</th>\n",
       "      <td>0.138594</td>\n",
       "      <td>0.511774</td>\n",
       "      <td>0.324026</td>\n",
       "      <td>0.346258</td>\n",
       "    </tr>\n",
       "  </tbody>\n",
       "</table>\n",
       "<p>81 rows × 4 columns</p>\n",
       "</div>"
      ],
      "text/plain": [
       "            B         C         D         E\n",
       "0    0.207910  0.164216  0.525284  0.768124\n",
       "1    0.168433  0.187929  0.613764  0.904613\n",
       "14   0.150547  0.585167  0.556624  0.554513\n",
       "16   0.189116  0.009838  0.489246  0.704820\n",
       "21   0.241007  0.059917  0.852624  0.904780\n",
       "..        ...       ...       ...       ...\n",
       "317  0.139290  0.455397  0.806489  0.292461\n",
       "319  0.094443  0.789406  0.740047  0.334593\n",
       "321  0.134927  0.943799  0.944898  0.188409\n",
       "325  0.059339  0.890778  0.699782  0.620969\n",
       "326  0.138594  0.511774  0.324026  0.346258\n",
       "\n",
       "[81 rows x 4 columns]"
      ]
     },
     "execution_count": 117,
     "metadata": {},
     "output_type": "execute_result"
    }
   ],
   "source": [
    "newDf.loc[(newDf[\"B\"]<0.3) & (newDf[\"D\"]>0.2)]"
   ]
  },
  {
   "cell_type": "code",
   "execution_count": 118,
   "id": "641f8296",
   "metadata": {},
   "outputs": [
    {
     "data": {
      "text/html": [
       "<div>\n",
       "<style scoped>\n",
       "    .dataframe tbody tr th:only-of-type {\n",
       "        vertical-align: middle;\n",
       "    }\n",
       "\n",
       "    .dataframe tbody tr th {\n",
       "        vertical-align: top;\n",
       "    }\n",
       "\n",
       "    .dataframe thead th {\n",
       "        text-align: right;\n",
       "    }\n",
       "</style>\n",
       "<table border=\"1\" class=\"dataframe\">\n",
       "  <thead>\n",
       "    <tr style=\"text-align: right;\">\n",
       "      <th></th>\n",
       "      <th>B</th>\n",
       "      <th>C</th>\n",
       "      <th>D</th>\n",
       "      <th>E</th>\n",
       "    </tr>\n",
       "  </thead>\n",
       "  <tbody>\n",
       "    <tr>\n",
       "      <th>0</th>\n",
       "      <td>0.207910</td>\n",
       "      <td>0.164216</td>\n",
       "      <td>0.525284</td>\n",
       "      <td>0.768124</td>\n",
       "    </tr>\n",
       "    <tr>\n",
       "      <th>1</th>\n",
       "      <td>0.168433</td>\n",
       "      <td>0.187929</td>\n",
       "      <td>0.613764</td>\n",
       "      <td>0.904613</td>\n",
       "    </tr>\n",
       "    <tr>\n",
       "      <th>2</th>\n",
       "      <td>0.712012</td>\n",
       "      <td>0.088637</td>\n",
       "      <td>0.116315</td>\n",
       "      <td>0.298110</td>\n",
       "    </tr>\n",
       "  </tbody>\n",
       "</table>\n",
       "</div>"
      ],
      "text/plain": [
       "          B         C         D         E\n",
       "0  0.207910  0.164216  0.525284  0.768124\n",
       "1  0.168433  0.187929  0.613764  0.904613\n",
       "2  0.712012  0.088637  0.116315  0.298110"
      ]
     },
     "execution_count": 118,
     "metadata": {},
     "output_type": "execute_result"
    }
   ],
   "source": [
    "newDf.head(3)"
   ]
  },
  {
   "cell_type": "markdown",
   "id": "ff624342",
   "metadata": {},
   "source": [
    "## iloc"
   ]
  },
  {
   "cell_type": "code",
   "execution_count": 119,
   "id": "7576255c",
   "metadata": {},
   "outputs": [
    {
     "data": {
      "text/plain": [
       "np.float64(0.20790969099142276)"
      ]
     },
     "execution_count": 119,
     "metadata": {},
     "output_type": "execute_result"
    }
   ],
   "source": [
    "newDf.iloc[0,0]"
   ]
  },
  {
   "cell_type": "code",
   "execution_count": 120,
   "id": "7480b0eb",
   "metadata": {},
   "outputs": [],
   "source": [
    "newDf.iloc[0,0]=555"
   ]
  },
  {
   "cell_type": "code",
   "execution_count": 121,
   "id": "88f438c5",
   "metadata": {},
   "outputs": [
    {
     "data": {
      "text/html": [
       "<div>\n",
       "<style scoped>\n",
       "    .dataframe tbody tr th:only-of-type {\n",
       "        vertical-align: middle;\n",
       "    }\n",
       "\n",
       "    .dataframe tbody tr th {\n",
       "        vertical-align: top;\n",
       "    }\n",
       "\n",
       "    .dataframe thead th {\n",
       "        text-align: right;\n",
       "    }\n",
       "</style>\n",
       "<table border=\"1\" class=\"dataframe\">\n",
       "  <thead>\n",
       "    <tr style=\"text-align: right;\">\n",
       "      <th></th>\n",
       "      <th>B</th>\n",
       "      <th>C</th>\n",
       "      <th>D</th>\n",
       "      <th>E</th>\n",
       "    </tr>\n",
       "  </thead>\n",
       "  <tbody>\n",
       "    <tr>\n",
       "      <th>0</th>\n",
       "      <td>555.000000</td>\n",
       "      <td>0.164216</td>\n",
       "      <td>0.525284</td>\n",
       "      <td>0.768124</td>\n",
       "    </tr>\n",
       "    <tr>\n",
       "      <th>1</th>\n",
       "      <td>0.168433</td>\n",
       "      <td>0.187929</td>\n",
       "      <td>0.613764</td>\n",
       "      <td>0.904613</td>\n",
       "    </tr>\n",
       "    <tr>\n",
       "      <th>2</th>\n",
       "      <td>0.712012</td>\n",
       "      <td>0.088637</td>\n",
       "      <td>0.116315</td>\n",
       "      <td>0.298110</td>\n",
       "    </tr>\n",
       "    <tr>\n",
       "      <th>3</th>\n",
       "      <td>0.323729</td>\n",
       "      <td>0.351574</td>\n",
       "      <td>0.456606</td>\n",
       "      <td>0.776034</td>\n",
       "    </tr>\n",
       "    <tr>\n",
       "      <th>4</th>\n",
       "      <td>0.821382</td>\n",
       "      <td>0.451938</td>\n",
       "      <td>0.351626</td>\n",
       "      <td>0.534904</td>\n",
       "    </tr>\n",
       "  </tbody>\n",
       "</table>\n",
       "</div>"
      ],
      "text/plain": [
       "            B         C         D         E\n",
       "0  555.000000  0.164216  0.525284  0.768124\n",
       "1    0.168433  0.187929  0.613764  0.904613\n",
       "2    0.712012  0.088637  0.116315  0.298110\n",
       "3    0.323729  0.351574  0.456606  0.776034\n",
       "4    0.821382  0.451938  0.351626  0.534904"
      ]
     },
     "execution_count": 121,
     "metadata": {},
     "output_type": "execute_result"
    }
   ],
   "source": [
    "newDf.head()"
   ]
  },
  {
   "cell_type": "code",
   "execution_count": 122,
   "id": "eb0e9ae2",
   "metadata": {},
   "outputs": [
    {
     "data": {
      "text/html": [
       "<div>\n",
       "<style scoped>\n",
       "    .dataframe tbody tr th:only-of-type {\n",
       "        vertical-align: middle;\n",
       "    }\n",
       "\n",
       "    .dataframe tbody tr th {\n",
       "        vertical-align: top;\n",
       "    }\n",
       "\n",
       "    .dataframe thead th {\n",
       "        text-align: right;\n",
       "    }\n",
       "</style>\n",
       "<table border=\"1\" class=\"dataframe\">\n",
       "  <thead>\n",
       "    <tr style=\"text-align: right;\">\n",
       "      <th></th>\n",
       "      <th>C</th>\n",
       "      <th>E</th>\n",
       "    </tr>\n",
       "  </thead>\n",
       "  <tbody>\n",
       "    <tr>\n",
       "      <th>0</th>\n",
       "      <td>0.164216</td>\n",
       "      <td>0.768124</td>\n",
       "    </tr>\n",
       "    <tr>\n",
       "      <th>4</th>\n",
       "      <td>0.451938</td>\n",
       "      <td>0.534904</td>\n",
       "    </tr>\n",
       "  </tbody>\n",
       "</table>\n",
       "</div>"
      ],
      "text/plain": [
       "          C         E\n",
       "0  0.164216  0.768124\n",
       "4  0.451938  0.534904"
      ]
     },
     "execution_count": 122,
     "metadata": {},
     "output_type": "execute_result"
    }
   ],
   "source": [
    "newDf.iloc[[0,4],[1,3]]"
   ]
  },
  {
   "cell_type": "code",
   "execution_count": 123,
   "id": "118e433d",
   "metadata": {},
   "outputs": [
    {
     "data": {
      "text/html": [
       "<div>\n",
       "<style scoped>\n",
       "    .dataframe tbody tr th:only-of-type {\n",
       "        vertical-align: middle;\n",
       "    }\n",
       "\n",
       "    .dataframe tbody tr th {\n",
       "        vertical-align: top;\n",
       "    }\n",
       "\n",
       "    .dataframe thead th {\n",
       "        text-align: right;\n",
       "    }\n",
       "</style>\n",
       "<table border=\"1\" class=\"dataframe\">\n",
       "  <thead>\n",
       "    <tr style=\"text-align: right;\">\n",
       "      <th></th>\n",
       "      <th>B</th>\n",
       "      <th>C</th>\n",
       "      <th>D</th>\n",
       "      <th>E</th>\n",
       "    </tr>\n",
       "  </thead>\n",
       "  <tbody>\n",
       "    <tr>\n",
       "      <th>0</th>\n",
       "      <td>555.000000</td>\n",
       "      <td>0.164216</td>\n",
       "      <td>0.525284</td>\n",
       "      <td>0.768124</td>\n",
       "    </tr>\n",
       "    <tr>\n",
       "      <th>1</th>\n",
       "      <td>0.168433</td>\n",
       "      <td>0.187929</td>\n",
       "      <td>0.613764</td>\n",
       "      <td>0.904613</td>\n",
       "    </tr>\n",
       "    <tr>\n",
       "      <th>2</th>\n",
       "      <td>0.712012</td>\n",
       "      <td>0.088637</td>\n",
       "      <td>0.116315</td>\n",
       "      <td>0.298110</td>\n",
       "    </tr>\n",
       "    <tr>\n",
       "      <th>3</th>\n",
       "      <td>0.323729</td>\n",
       "      <td>0.351574</td>\n",
       "      <td>0.456606</td>\n",
       "      <td>0.776034</td>\n",
       "    </tr>\n",
       "  </tbody>\n",
       "</table>\n",
       "</div>"
      ],
      "text/plain": [
       "            B         C         D         E\n",
       "0  555.000000  0.164216  0.525284  0.768124\n",
       "1    0.168433  0.187929  0.613764  0.904613\n",
       "2    0.712012  0.088637  0.116315  0.298110\n",
       "3    0.323729  0.351574  0.456606  0.776034"
      ]
     },
     "execution_count": 123,
     "metadata": {},
     "output_type": "execute_result"
    }
   ],
   "source": [
    "newDf.head(4)"
   ]
  },
  {
   "cell_type": "code",
   "execution_count": 124,
   "id": "71ed9437",
   "metadata": {},
   "outputs": [
    {
     "data": {
      "text/html": [
       "<div>\n",
       "<style scoped>\n",
       "    .dataframe tbody tr th:only-of-type {\n",
       "        vertical-align: middle;\n",
       "    }\n",
       "\n",
       "    .dataframe tbody tr th {\n",
       "        vertical-align: top;\n",
       "    }\n",
       "\n",
       "    .dataframe thead th {\n",
       "        text-align: right;\n",
       "    }\n",
       "</style>\n",
       "<table border=\"1\" class=\"dataframe\">\n",
       "  <thead>\n",
       "    <tr style=\"text-align: right;\">\n",
       "      <th></th>\n",
       "      <th>B</th>\n",
       "      <th>C</th>\n",
       "      <th>D</th>\n",
       "      <th>E</th>\n",
       "    </tr>\n",
       "  </thead>\n",
       "  <tbody>\n",
       "    <tr>\n",
       "      <th>1</th>\n",
       "      <td>0.168433</td>\n",
       "      <td>0.187929</td>\n",
       "      <td>0.613764</td>\n",
       "      <td>0.904613</td>\n",
       "    </tr>\n",
       "    <tr>\n",
       "      <th>2</th>\n",
       "      <td>0.712012</td>\n",
       "      <td>0.088637</td>\n",
       "      <td>0.116315</td>\n",
       "      <td>0.298110</td>\n",
       "    </tr>\n",
       "    <tr>\n",
       "      <th>3</th>\n",
       "      <td>0.323729</td>\n",
       "      <td>0.351574</td>\n",
       "      <td>0.456606</td>\n",
       "      <td>0.776034</td>\n",
       "    </tr>\n",
       "    <tr>\n",
       "      <th>4</th>\n",
       "      <td>0.821382</td>\n",
       "      <td>0.451938</td>\n",
       "      <td>0.351626</td>\n",
       "      <td>0.534904</td>\n",
       "    </tr>\n",
       "    <tr>\n",
       "      <th>5</th>\n",
       "      <td>0.342554</td>\n",
       "      <td>0.709027</td>\n",
       "      <td>0.160186</td>\n",
       "      <td>0.468512</td>\n",
       "    </tr>\n",
       "  </tbody>\n",
       "</table>\n",
       "</div>"
      ],
      "text/plain": [
       "          B         C         D         E\n",
       "1  0.168433  0.187929  0.613764  0.904613\n",
       "2  0.712012  0.088637  0.116315  0.298110\n",
       "3  0.323729  0.351574  0.456606  0.776034\n",
       "4  0.821382  0.451938  0.351626  0.534904\n",
       "5  0.342554  0.709027  0.160186  0.468512"
      ]
     },
     "execution_count": 124,
     "metadata": {},
     "output_type": "execute_result"
    }
   ],
   "source": [
    "newDf.drop(0).head()"
   ]
  },
  {
   "cell_type": "code",
   "execution_count": 125,
   "id": "005bba18",
   "metadata": {},
   "outputs": [],
   "source": [
    "# newDf.drop(0, axis=1)"
   ]
  },
  {
   "cell_type": "code",
   "execution_count": 126,
   "id": "01ee438f",
   "metadata": {},
   "outputs": [],
   "source": [
    "# newDf.drop(\"B\", axis=1).head()"
   ]
  },
  {
   "cell_type": "code",
   "execution_count": 127,
   "id": "8970efaf",
   "metadata": {},
   "outputs": [
    {
     "data": {
      "text/html": [
       "<div>\n",
       "<style scoped>\n",
       "    .dataframe tbody tr th:only-of-type {\n",
       "        vertical-align: middle;\n",
       "    }\n",
       "\n",
       "    .dataframe tbody tr th {\n",
       "        vertical-align: top;\n",
       "    }\n",
       "\n",
       "    .dataframe thead th {\n",
       "        text-align: right;\n",
       "    }\n",
       "</style>\n",
       "<table border=\"1\" class=\"dataframe\">\n",
       "  <thead>\n",
       "    <tr style=\"text-align: right;\">\n",
       "      <th></th>\n",
       "      <th>B</th>\n",
       "      <th>E</th>\n",
       "    </tr>\n",
       "  </thead>\n",
       "  <tbody>\n",
       "    <tr>\n",
       "      <th>0</th>\n",
       "      <td>555.000000</td>\n",
       "      <td>0.768124</td>\n",
       "    </tr>\n",
       "    <tr>\n",
       "      <th>1</th>\n",
       "      <td>0.168433</td>\n",
       "      <td>0.904613</td>\n",
       "    </tr>\n",
       "    <tr>\n",
       "      <th>2</th>\n",
       "      <td>0.712012</td>\n",
       "      <td>0.298110</td>\n",
       "    </tr>\n",
       "    <tr>\n",
       "      <th>3</th>\n",
       "      <td>0.323729</td>\n",
       "      <td>0.776034</td>\n",
       "    </tr>\n",
       "    <tr>\n",
       "      <th>4</th>\n",
       "      <td>0.821382</td>\n",
       "      <td>0.534904</td>\n",
       "    </tr>\n",
       "  </tbody>\n",
       "</table>\n",
       "</div>"
      ],
      "text/plain": [
       "            B         E\n",
       "0  555.000000  0.768124\n",
       "1    0.168433  0.904613\n",
       "2    0.712012  0.298110\n",
       "3    0.323729  0.776034\n",
       "4    0.821382  0.534904"
      ]
     },
     "execution_count": 127,
     "metadata": {},
     "output_type": "execute_result"
    }
   ],
   "source": [
    "newDf.drop([\"C\", \"D\"], axis=1).head()"
   ]
  },
  {
   "cell_type": "code",
   "execution_count": 128,
   "id": "6f8ebaec",
   "metadata": {},
   "outputs": [
    {
     "data": {
      "text/html": [
       "<div>\n",
       "<style scoped>\n",
       "    .dataframe tbody tr th:only-of-type {\n",
       "        vertical-align: middle;\n",
       "    }\n",
       "\n",
       "    .dataframe tbody tr th {\n",
       "        vertical-align: top;\n",
       "    }\n",
       "\n",
       "    .dataframe thead th {\n",
       "        text-align: right;\n",
       "    }\n",
       "</style>\n",
       "<table border=\"1\" class=\"dataframe\">\n",
       "  <thead>\n",
       "    <tr style=\"text-align: right;\">\n",
       "      <th></th>\n",
       "      <th>B</th>\n",
       "      <th>C</th>\n",
       "      <th>D</th>\n",
       "      <th>E</th>\n",
       "    </tr>\n",
       "  </thead>\n",
       "  <tbody>\n",
       "    <tr>\n",
       "      <th>0</th>\n",
       "      <td>555.000000</td>\n",
       "      <td>0.164216</td>\n",
       "      <td>0.525284</td>\n",
       "      <td>0.768124</td>\n",
       "    </tr>\n",
       "    <tr>\n",
       "      <th>1</th>\n",
       "      <td>0.168433</td>\n",
       "      <td>0.187929</td>\n",
       "      <td>0.613764</td>\n",
       "      <td>0.904613</td>\n",
       "    </tr>\n",
       "    <tr>\n",
       "      <th>2</th>\n",
       "      <td>0.712012</td>\n",
       "      <td>0.088637</td>\n",
       "      <td>0.116315</td>\n",
       "      <td>0.298110</td>\n",
       "    </tr>\n",
       "    <tr>\n",
       "      <th>3</th>\n",
       "      <td>0.323729</td>\n",
       "      <td>0.351574</td>\n",
       "      <td>0.456606</td>\n",
       "      <td>0.776034</td>\n",
       "    </tr>\n",
       "    <tr>\n",
       "      <th>4</th>\n",
       "      <td>0.821382</td>\n",
       "      <td>0.451938</td>\n",
       "      <td>0.351626</td>\n",
       "      <td>0.534904</td>\n",
       "    </tr>\n",
       "  </tbody>\n",
       "</table>\n",
       "</div>"
      ],
      "text/plain": [
       "            B         C         D         E\n",
       "0  555.000000  0.164216  0.525284  0.768124\n",
       "1    0.168433  0.187929  0.613764  0.904613\n",
       "2    0.712012  0.088637  0.116315  0.298110\n",
       "3    0.323729  0.351574  0.456606  0.776034\n",
       "4    0.821382  0.451938  0.351626  0.534904"
      ]
     },
     "execution_count": 128,
     "metadata": {},
     "output_type": "execute_result"
    }
   ],
   "source": [
    "newDf.head()"
   ]
  },
  {
   "cell_type": "code",
   "execution_count": 129,
   "id": "499f3c14",
   "metadata": {},
   "outputs": [],
   "source": [
    "newDf.drop(['B', 'D'], axis=1, inplace=True)"
   ]
  },
  {
   "cell_type": "code",
   "execution_count": 130,
   "id": "d244b30c",
   "metadata": {},
   "outputs": [
    {
     "data": {
      "text/html": [
       "<div>\n",
       "<style scoped>\n",
       "    .dataframe tbody tr th:only-of-type {\n",
       "        vertical-align: middle;\n",
       "    }\n",
       "\n",
       "    .dataframe tbody tr th {\n",
       "        vertical-align: top;\n",
       "    }\n",
       "\n",
       "    .dataframe thead th {\n",
       "        text-align: right;\n",
       "    }\n",
       "</style>\n",
       "<table border=\"1\" class=\"dataframe\">\n",
       "  <thead>\n",
       "    <tr style=\"text-align: right;\">\n",
       "      <th></th>\n",
       "      <th>C</th>\n",
       "      <th>E</th>\n",
       "    </tr>\n",
       "  </thead>\n",
       "  <tbody>\n",
       "    <tr>\n",
       "      <th>0</th>\n",
       "      <td>0.164216</td>\n",
       "      <td>0.768124</td>\n",
       "    </tr>\n",
       "    <tr>\n",
       "      <th>1</th>\n",
       "      <td>0.187929</td>\n",
       "      <td>0.904613</td>\n",
       "    </tr>\n",
       "    <tr>\n",
       "      <th>2</th>\n",
       "      <td>0.088637</td>\n",
       "      <td>0.298110</td>\n",
       "    </tr>\n",
       "    <tr>\n",
       "      <th>3</th>\n",
       "      <td>0.351574</td>\n",
       "      <td>0.776034</td>\n",
       "    </tr>\n",
       "    <tr>\n",
       "      <th>4</th>\n",
       "      <td>0.451938</td>\n",
       "      <td>0.534904</td>\n",
       "    </tr>\n",
       "  </tbody>\n",
       "</table>\n",
       "</div>"
      ],
      "text/plain": [
       "          C         E\n",
       "0  0.164216  0.768124\n",
       "1  0.187929  0.904613\n",
       "2  0.088637  0.298110\n",
       "3  0.351574  0.776034\n",
       "4  0.451938  0.534904"
      ]
     },
     "execution_count": 130,
     "metadata": {},
     "output_type": "execute_result"
    }
   ],
   "source": [
    "newDf.head()"
   ]
  },
  {
   "cell_type": "code",
   "execution_count": 131,
   "id": "19724ab8",
   "metadata": {},
   "outputs": [
    {
     "data": {
      "text/html": [
       "<div>\n",
       "<style scoped>\n",
       "    .dataframe tbody tr th:only-of-type {\n",
       "        vertical-align: middle;\n",
       "    }\n",
       "\n",
       "    .dataframe tbody tr th {\n",
       "        vertical-align: top;\n",
       "    }\n",
       "\n",
       "    .dataframe thead th {\n",
       "        text-align: right;\n",
       "    }\n",
       "</style>\n",
       "<table border=\"1\" class=\"dataframe\">\n",
       "  <thead>\n",
       "    <tr style=\"text-align: right;\">\n",
       "      <th></th>\n",
       "      <th>index</th>\n",
       "      <th>C</th>\n",
       "      <th>E</th>\n",
       "    </tr>\n",
       "  </thead>\n",
       "  <tbody>\n",
       "    <tr>\n",
       "      <th>0</th>\n",
       "      <td>0</td>\n",
       "      <td>0.164216</td>\n",
       "      <td>0.768124</td>\n",
       "    </tr>\n",
       "    <tr>\n",
       "      <th>1</th>\n",
       "      <td>1</td>\n",
       "      <td>0.187929</td>\n",
       "      <td>0.904613</td>\n",
       "    </tr>\n",
       "    <tr>\n",
       "      <th>2</th>\n",
       "      <td>2</td>\n",
       "      <td>0.088637</td>\n",
       "      <td>0.298110</td>\n",
       "    </tr>\n",
       "    <tr>\n",
       "      <th>3</th>\n",
       "      <td>3</td>\n",
       "      <td>0.351574</td>\n",
       "      <td>0.776034</td>\n",
       "    </tr>\n",
       "    <tr>\n",
       "      <th>4</th>\n",
       "      <td>4</td>\n",
       "      <td>0.451938</td>\n",
       "      <td>0.534904</td>\n",
       "    </tr>\n",
       "  </tbody>\n",
       "</table>\n",
       "</div>"
      ],
      "text/plain": [
       "   index         C         E\n",
       "0      0  0.164216  0.768124\n",
       "1      1  0.187929  0.904613\n",
       "2      2  0.088637  0.298110\n",
       "3      3  0.351574  0.776034\n",
       "4      4  0.451938  0.534904"
      ]
     },
     "execution_count": 131,
     "metadata": {},
     "output_type": "execute_result"
    }
   ],
   "source": [
    "newDf.reset_index().head()"
   ]
  },
  {
   "cell_type": "code",
   "execution_count": 132,
   "id": "d3f8806e",
   "metadata": {},
   "outputs": [
    {
     "data": {
      "text/html": [
       "<div>\n",
       "<style scoped>\n",
       "    .dataframe tbody tr th:only-of-type {\n",
       "        vertical-align: middle;\n",
       "    }\n",
       "\n",
       "    .dataframe tbody tr th {\n",
       "        vertical-align: top;\n",
       "    }\n",
       "\n",
       "    .dataframe thead th {\n",
       "        text-align: right;\n",
       "    }\n",
       "</style>\n",
       "<table border=\"1\" class=\"dataframe\">\n",
       "  <thead>\n",
       "    <tr style=\"text-align: right;\">\n",
       "      <th></th>\n",
       "      <th>C</th>\n",
       "      <th>E</th>\n",
       "    </tr>\n",
       "  </thead>\n",
       "  <tbody>\n",
       "    <tr>\n",
       "      <th>0</th>\n",
       "      <td>0.164216</td>\n",
       "      <td>0.768124</td>\n",
       "    </tr>\n",
       "    <tr>\n",
       "      <th>1</th>\n",
       "      <td>0.187929</td>\n",
       "      <td>0.904613</td>\n",
       "    </tr>\n",
       "    <tr>\n",
       "      <th>2</th>\n",
       "      <td>0.088637</td>\n",
       "      <td>0.298110</td>\n",
       "    </tr>\n",
       "    <tr>\n",
       "      <th>3</th>\n",
       "      <td>0.351574</td>\n",
       "      <td>0.776034</td>\n",
       "    </tr>\n",
       "    <tr>\n",
       "      <th>4</th>\n",
       "      <td>0.451938</td>\n",
       "      <td>0.534904</td>\n",
       "    </tr>\n",
       "  </tbody>\n",
       "</table>\n",
       "</div>"
      ],
      "text/plain": [
       "          C         E\n",
       "0  0.164216  0.768124\n",
       "1  0.187929  0.904613\n",
       "2  0.088637  0.298110\n",
       "3  0.351574  0.776034\n",
       "4  0.451938  0.534904"
      ]
     },
     "execution_count": 132,
     "metadata": {},
     "output_type": "execute_result"
    }
   ],
   "source": [
    "newDf.reset_index(drop=True).head()"
   ]
  },
  {
   "cell_type": "code",
   "execution_count": 133,
   "id": "1eb2fb2c",
   "metadata": {},
   "outputs": [
    {
     "data": {
      "text/html": [
       "<div>\n",
       "<style scoped>\n",
       "    .dataframe tbody tr th:only-of-type {\n",
       "        vertical-align: middle;\n",
       "    }\n",
       "\n",
       "    .dataframe tbody tr th {\n",
       "        vertical-align: top;\n",
       "    }\n",
       "\n",
       "    .dataframe thead th {\n",
       "        text-align: right;\n",
       "    }\n",
       "</style>\n",
       "<table border=\"1\" class=\"dataframe\">\n",
       "  <thead>\n",
       "    <tr style=\"text-align: right;\">\n",
       "      <th></th>\n",
       "      <th>C</th>\n",
       "      <th>E</th>\n",
       "    </tr>\n",
       "  </thead>\n",
       "  <tbody>\n",
       "    <tr>\n",
       "      <th>0</th>\n",
       "      <td>0.164216</td>\n",
       "      <td>0.768124</td>\n",
       "    </tr>\n",
       "    <tr>\n",
       "      <th>1</th>\n",
       "      <td>0.187929</td>\n",
       "      <td>0.904613</td>\n",
       "    </tr>\n",
       "    <tr>\n",
       "      <th>2</th>\n",
       "      <td>0.088637</td>\n",
       "      <td>0.298110</td>\n",
       "    </tr>\n",
       "    <tr>\n",
       "      <th>3</th>\n",
       "      <td>0.351574</td>\n",
       "      <td>0.776034</td>\n",
       "    </tr>\n",
       "    <tr>\n",
       "      <th>4</th>\n",
       "      <td>0.451938</td>\n",
       "      <td>0.534904</td>\n",
       "    </tr>\n",
       "  </tbody>\n",
       "</table>\n",
       "</div>"
      ],
      "text/plain": [
       "          C         E\n",
       "0  0.164216  0.768124\n",
       "1  0.187929  0.904613\n",
       "2  0.088637  0.298110\n",
       "3  0.351574  0.776034\n",
       "4  0.451938  0.534904"
      ]
     },
     "execution_count": 133,
     "metadata": {},
     "output_type": "execute_result"
    }
   ],
   "source": [
    "newDf.head()"
   ]
  },
  {
   "cell_type": "code",
   "execution_count": 134,
   "id": "426b76d6",
   "metadata": {},
   "outputs": [],
   "source": [
    "newDf.reset_index(drop=True, inplace=True)"
   ]
  },
  {
   "cell_type": "code",
   "execution_count": 135,
   "id": "478ae7d5",
   "metadata": {},
   "outputs": [
    {
     "data": {
      "text/html": [
       "<div>\n",
       "<style scoped>\n",
       "    .dataframe tbody tr th:only-of-type {\n",
       "        vertical-align: middle;\n",
       "    }\n",
       "\n",
       "    .dataframe tbody tr th {\n",
       "        vertical-align: top;\n",
       "    }\n",
       "\n",
       "    .dataframe thead th {\n",
       "        text-align: right;\n",
       "    }\n",
       "</style>\n",
       "<table border=\"1\" class=\"dataframe\">\n",
       "  <thead>\n",
       "    <tr style=\"text-align: right;\">\n",
       "      <th></th>\n",
       "      <th>C</th>\n",
       "      <th>E</th>\n",
       "    </tr>\n",
       "  </thead>\n",
       "  <tbody>\n",
       "    <tr>\n",
       "      <th>0</th>\n",
       "      <td>0.164216</td>\n",
       "      <td>0.768124</td>\n",
       "    </tr>\n",
       "    <tr>\n",
       "      <th>1</th>\n",
       "      <td>0.187929</td>\n",
       "      <td>0.904613</td>\n",
       "    </tr>\n",
       "    <tr>\n",
       "      <th>2</th>\n",
       "      <td>0.088637</td>\n",
       "      <td>0.298110</td>\n",
       "    </tr>\n",
       "    <tr>\n",
       "      <th>3</th>\n",
       "      <td>0.351574</td>\n",
       "      <td>0.776034</td>\n",
       "    </tr>\n",
       "    <tr>\n",
       "      <th>4</th>\n",
       "      <td>0.451938</td>\n",
       "      <td>0.534904</td>\n",
       "    </tr>\n",
       "  </tbody>\n",
       "</table>\n",
       "</div>"
      ],
      "text/plain": [
       "          C         E\n",
       "0  0.164216  0.768124\n",
       "1  0.187929  0.904613\n",
       "2  0.088637  0.298110\n",
       "3  0.351574  0.776034\n",
       "4  0.451938  0.534904"
      ]
     },
     "execution_count": 135,
     "metadata": {},
     "output_type": "execute_result"
    }
   ],
   "source": [
    "newDf.head()"
   ]
  },
  {
   "cell_type": "markdown",
   "id": "45d17cd2-5567-4474-a2ec-ceb2984670ff",
   "metadata": {},
   "source": [
    "# Groupby\n",
    "The groupby method allows you to group rows of data together and call aggregate functions\n",
    "\n",
    "​\n",
    "​"
   ]
  },
  {
   "cell_type": "code",
   "execution_count": 136,
   "id": "321a8e7b",
   "metadata": {},
   "outputs": [],
   "source": [
    "data = {'Company':['GOOG','GOOG','MSFT','MSFT','FB','FB'],\n",
    "       'Person':['Sam','Charlie','Amy','Vanessa','Carl','Sarah'],\n",
    "       'Sales':[200,120,340,124,243,350]}"
   ]
  },
  {
   "cell_type": "code",
   "execution_count": 137,
   "id": "29c08d6a-6192-425e-b9a3-83801a5fa519",
   "metadata": {},
   "outputs": [],
   "source": [
    "df = pd.DataFrame(data)"
   ]
  },
  {
   "cell_type": "code",
   "execution_count": 138,
   "id": "afa78917-5b28-4d6d-b6f7-d782bce047b7",
   "metadata": {},
   "outputs": [
    {
     "data": {
      "text/html": [
       "<div>\n",
       "<style scoped>\n",
       "    .dataframe tbody tr th:only-of-type {\n",
       "        vertical-align: middle;\n",
       "    }\n",
       "\n",
       "    .dataframe tbody tr th {\n",
       "        vertical-align: top;\n",
       "    }\n",
       "\n",
       "    .dataframe thead th {\n",
       "        text-align: right;\n",
       "    }\n",
       "</style>\n",
       "<table border=\"1\" class=\"dataframe\">\n",
       "  <thead>\n",
       "    <tr style=\"text-align: right;\">\n",
       "      <th></th>\n",
       "      <th>Company</th>\n",
       "      <th>Person</th>\n",
       "      <th>Sales</th>\n",
       "    </tr>\n",
       "  </thead>\n",
       "  <tbody>\n",
       "    <tr>\n",
       "      <th>0</th>\n",
       "      <td>GOOG</td>\n",
       "      <td>Sam</td>\n",
       "      <td>200</td>\n",
       "    </tr>\n",
       "    <tr>\n",
       "      <th>1</th>\n",
       "      <td>GOOG</td>\n",
       "      <td>Charlie</td>\n",
       "      <td>120</td>\n",
       "    </tr>\n",
       "    <tr>\n",
       "      <th>2</th>\n",
       "      <td>MSFT</td>\n",
       "      <td>Amy</td>\n",
       "      <td>340</td>\n",
       "    </tr>\n",
       "    <tr>\n",
       "      <th>3</th>\n",
       "      <td>MSFT</td>\n",
       "      <td>Vanessa</td>\n",
       "      <td>124</td>\n",
       "    </tr>\n",
       "    <tr>\n",
       "      <th>4</th>\n",
       "      <td>FB</td>\n",
       "      <td>Carl</td>\n",
       "      <td>243</td>\n",
       "    </tr>\n",
       "    <tr>\n",
       "      <th>5</th>\n",
       "      <td>FB</td>\n",
       "      <td>Sarah</td>\n",
       "      <td>350</td>\n",
       "    </tr>\n",
       "  </tbody>\n",
       "</table>\n",
       "</div>"
      ],
      "text/plain": [
       "  Company   Person  Sales\n",
       "0    GOOG      Sam    200\n",
       "1    GOOG  Charlie    120\n",
       "2    MSFT      Amy    340\n",
       "3    MSFT  Vanessa    124\n",
       "4      FB     Carl    243\n",
       "5      FB    Sarah    350"
      ]
     },
     "execution_count": 138,
     "metadata": {},
     "output_type": "execute_result"
    }
   ],
   "source": [
    "df"
   ]
  },
  {
   "cell_type": "markdown",
   "id": "c9fa6ecd-3687-49c0-92cc-260f6fa64c8b",
   "metadata": {},
   "source": [
    "### Now you can use the .groupby() method to group rows together based off of a column name.\n",
    "For instance let's group based off of Company. This will create a DataFrameGroupBy object:"
   ]
  },
  {
   "cell_type": "code",
   "execution_count": 139,
   "id": "82a87de3-6f8c-4e78-a337-067df0eacadb",
   "metadata": {},
   "outputs": [
    {
     "data": {
      "text/plain": [
       "<pandas.core.groupby.generic.DataFrameGroupBy object at 0x000001D6416FB190>"
      ]
     },
     "execution_count": 139,
     "metadata": {},
     "output_type": "execute_result"
    }
   ],
   "source": [
    "df.groupby('Company')"
   ]
  },
  {
   "cell_type": "markdown",
   "id": "79e87860-497b-4421-b073-57f8c635f9e2",
   "metadata": {},
   "source": [
    "##### You can save this object as a new variable:"
   ]
  },
  {
   "cell_type": "code",
   "execution_count": 140,
   "id": "bc653e03-6843-40cc-9ef7-ada128e011f2",
   "metadata": {},
   "outputs": [
    {
     "data": {
      "text/plain": [
       "pandas.core.groupby.generic.DataFrameGroupBy"
      ]
     },
     "execution_count": 140,
     "metadata": {},
     "output_type": "execute_result"
    }
   ],
   "source": [
    "by_comp = df.groupby(\"Company\")\n",
    "type(by_comp)"
   ]
  },
  {
   "cell_type": "markdown",
   "id": "6722c7d4-1fcb-47bd-a82d-5f417aa06668",
   "metadata": {},
   "source": [
    "#### And then call aggregate methods of the object:"
   ]
  },
  {
   "cell_type": "code",
   "execution_count": 142,
   "id": "f9542a6e-71fd-458c-8c35-56255b20a4f8",
   "metadata": {},
   "outputs": [
    {
     "data": {
      "text/html": [
       "<div>\n",
       "<style scoped>\n",
       "    .dataframe tbody tr th:only-of-type {\n",
       "        vertical-align: middle;\n",
       "    }\n",
       "\n",
       "    .dataframe tbody tr th {\n",
       "        vertical-align: top;\n",
       "    }\n",
       "\n",
       "    .dataframe thead th {\n",
       "        text-align: right;\n",
       "    }\n",
       "</style>\n",
       "<table border=\"1\" class=\"dataframe\">\n",
       "  <thead>\n",
       "    <tr style=\"text-align: right;\">\n",
       "      <th></th>\n",
       "      <th>Sales</th>\n",
       "    </tr>\n",
       "    <tr>\n",
       "      <th>Company</th>\n",
       "      <th></th>\n",
       "    </tr>\n",
       "  </thead>\n",
       "  <tbody>\n",
       "    <tr>\n",
       "      <th>FB</th>\n",
       "      <td>296.5</td>\n",
       "    </tr>\n",
       "    <tr>\n",
       "      <th>GOOG</th>\n",
       "      <td>160.0</td>\n",
       "    </tr>\n",
       "    <tr>\n",
       "      <th>MSFT</th>\n",
       "      <td>232.0</td>\n",
       "    </tr>\n",
       "  </tbody>\n",
       "</table>\n",
       "</div>"
      ],
      "text/plain": [
       "         Sales\n",
       "Company       \n",
       "FB       296.5\n",
       "GOOG     160.0\n",
       "MSFT     232.0"
      ]
     },
     "execution_count": 142,
     "metadata": {},
     "output_type": "execute_result"
    }
   ],
   "source": [
    "by_comp.mean(\"Company\")"
   ]
  },
  {
   "cell_type": "code",
   "execution_count": 144,
   "id": "43a7e580-2f64-4f58-8dcf-226b9008f9fd",
   "metadata": {},
   "outputs": [
    {
     "data": {
      "text/html": [
       "<div>\n",
       "<style scoped>\n",
       "    .dataframe tbody tr th:only-of-type {\n",
       "        vertical-align: middle;\n",
       "    }\n",
       "\n",
       "    .dataframe tbody tr th {\n",
       "        vertical-align: top;\n",
       "    }\n",
       "\n",
       "    .dataframe thead th {\n",
       "        text-align: right;\n",
       "    }\n",
       "</style>\n",
       "<table border=\"1\" class=\"dataframe\">\n",
       "  <thead>\n",
       "    <tr style=\"text-align: right;\">\n",
       "      <th></th>\n",
       "      <th>Sales</th>\n",
       "    </tr>\n",
       "    <tr>\n",
       "      <th>Company</th>\n",
       "      <th></th>\n",
       "    </tr>\n",
       "  </thead>\n",
       "  <tbody>\n",
       "    <tr>\n",
       "      <th>FB</th>\n",
       "      <td>296.5</td>\n",
       "    </tr>\n",
       "    <tr>\n",
       "      <th>GOOG</th>\n",
       "      <td>160.0</td>\n",
       "    </tr>\n",
       "    <tr>\n",
       "      <th>MSFT</th>\n",
       "      <td>232.0</td>\n",
       "    </tr>\n",
       "  </tbody>\n",
       "</table>\n",
       "</div>"
      ],
      "text/plain": [
       "         Sales\n",
       "Company       \n",
       "FB       296.5\n",
       "GOOG     160.0\n",
       "MSFT     232.0"
      ]
     },
     "execution_count": 144,
     "metadata": {},
     "output_type": "execute_result"
    }
   ],
   "source": [
    "df.groupby('Company').mean(\"Company\")"
   ]
  },
  {
   "cell_type": "code",
   "execution_count": 149,
   "id": "099a0ec6-2d70-4c7b-b6d3-78408d22b86d",
   "metadata": {},
   "outputs": [
    {
     "data": {
      "text/html": [
       "<div>\n",
       "<style scoped>\n",
       "    .dataframe tbody tr th:only-of-type {\n",
       "        vertical-align: middle;\n",
       "    }\n",
       "\n",
       "    .dataframe tbody tr th {\n",
       "        vertical-align: top;\n",
       "    }\n",
       "\n",
       "    .dataframe thead th {\n",
       "        text-align: right;\n",
       "    }\n",
       "</style>\n",
       "<table border=\"1\" class=\"dataframe\">\n",
       "  <thead>\n",
       "    <tr style=\"text-align: right;\">\n",
       "      <th></th>\n",
       "      <th>Sales</th>\n",
       "    </tr>\n",
       "    <tr>\n",
       "      <th>Company</th>\n",
       "      <th></th>\n",
       "    </tr>\n",
       "  </thead>\n",
       "  <tbody>\n",
       "    <tr>\n",
       "      <th>FB</th>\n",
       "      <td>243</td>\n",
       "    </tr>\n",
       "    <tr>\n",
       "      <th>GOOG</th>\n",
       "      <td>120</td>\n",
       "    </tr>\n",
       "    <tr>\n",
       "      <th>MSFT</th>\n",
       "      <td>124</td>\n",
       "    </tr>\n",
       "  </tbody>\n",
       "</table>\n",
       "</div>"
      ],
      "text/plain": [
       "         Sales\n",
       "Company       \n",
       "FB         243\n",
       "GOOG       120\n",
       "MSFT       124"
      ]
     },
     "execution_count": 149,
     "metadata": {},
     "output_type": "execute_result"
    }
   ],
   "source": [
    "by_comp.min(\"Company\")"
   ]
  },
  {
   "cell_type": "code",
   "execution_count": 150,
   "id": "de064240-1551-44b2-a5e2-6aa59b59cfed",
   "metadata": {},
   "outputs": [
    {
     "data": {
      "text/html": [
       "<div>\n",
       "<style scoped>\n",
       "    .dataframe tbody tr th:only-of-type {\n",
       "        vertical-align: middle;\n",
       "    }\n",
       "\n",
       "    .dataframe tbody tr th {\n",
       "        vertical-align: top;\n",
       "    }\n",
       "\n",
       "    .dataframe thead th {\n",
       "        text-align: right;\n",
       "    }\n",
       "</style>\n",
       "<table border=\"1\" class=\"dataframe\">\n",
       "  <thead>\n",
       "    <tr style=\"text-align: right;\">\n",
       "      <th></th>\n",
       "      <th>Sales</th>\n",
       "    </tr>\n",
       "    <tr>\n",
       "      <th>Company</th>\n",
       "      <th></th>\n",
       "    </tr>\n",
       "  </thead>\n",
       "  <tbody>\n",
       "    <tr>\n",
       "      <th>FB</th>\n",
       "      <td>350</td>\n",
       "    </tr>\n",
       "    <tr>\n",
       "      <th>GOOG</th>\n",
       "      <td>200</td>\n",
       "    </tr>\n",
       "    <tr>\n",
       "      <th>MSFT</th>\n",
       "      <td>340</td>\n",
       "    </tr>\n",
       "  </tbody>\n",
       "</table>\n",
       "</div>"
      ],
      "text/plain": [
       "         Sales\n",
       "Company       \n",
       "FB         350\n",
       "GOOG       200\n",
       "MSFT       340"
      ]
     },
     "execution_count": 150,
     "metadata": {},
     "output_type": "execute_result"
    }
   ],
   "source": [
    "by_comp.max(\"Company\")"
   ]
  },
  {
   "cell_type": "code",
   "execution_count": 153,
   "id": "0f2eaad7-ee3b-4664-80cf-3cdbd81a2d94",
   "metadata": {},
   "outputs": [
    {
     "data": {
      "text/html": [
       "<div>\n",
       "<style scoped>\n",
       "    .dataframe tbody tr th:only-of-type {\n",
       "        vertical-align: middle;\n",
       "    }\n",
       "\n",
       "    .dataframe tbody tr th {\n",
       "        vertical-align: top;\n",
       "    }\n",
       "\n",
       "    .dataframe thead th {\n",
       "        text-align: right;\n",
       "    }\n",
       "</style>\n",
       "<table border=\"1\" class=\"dataframe\">\n",
       "  <thead>\n",
       "    <tr style=\"text-align: right;\">\n",
       "      <th></th>\n",
       "      <th>Person</th>\n",
       "      <th>Sales</th>\n",
       "    </tr>\n",
       "    <tr>\n",
       "      <th>Company</th>\n",
       "      <th></th>\n",
       "      <th></th>\n",
       "    </tr>\n",
       "  </thead>\n",
       "  <tbody>\n",
       "    <tr>\n",
       "      <th>FB</th>\n",
       "      <td>2</td>\n",
       "      <td>2</td>\n",
       "    </tr>\n",
       "    <tr>\n",
       "      <th>GOOG</th>\n",
       "      <td>2</td>\n",
       "      <td>2</td>\n",
       "    </tr>\n",
       "    <tr>\n",
       "      <th>MSFT</th>\n",
       "      <td>2</td>\n",
       "      <td>2</td>\n",
       "    </tr>\n",
       "  </tbody>\n",
       "</table>\n",
       "</div>"
      ],
      "text/plain": [
       "         Person  Sales\n",
       "Company               \n",
       "FB            2      2\n",
       "GOOG          2      2\n",
       "MSFT          2      2"
      ]
     },
     "execution_count": 153,
     "metadata": {},
     "output_type": "execute_result"
    }
   ],
   "source": [
    "by_comp.count()"
   ]
  },
  {
   "cell_type": "code",
   "execution_count": 152,
   "id": "67f5bea3-09bd-45d4-8d41-7a5f1a4c18e8",
   "metadata": {},
   "outputs": [
    {
     "data": {
      "text/html": [
       "<div>\n",
       "<style scoped>\n",
       "    .dataframe tbody tr th:only-of-type {\n",
       "        vertical-align: middle;\n",
       "    }\n",
       "\n",
       "    .dataframe tbody tr th {\n",
       "        vertical-align: top;\n",
       "    }\n",
       "\n",
       "    .dataframe thead tr th {\n",
       "        text-align: left;\n",
       "    }\n",
       "\n",
       "    .dataframe thead tr:last-of-type th {\n",
       "        text-align: right;\n",
       "    }\n",
       "</style>\n",
       "<table border=\"1\" class=\"dataframe\">\n",
       "  <thead>\n",
       "    <tr>\n",
       "      <th></th>\n",
       "      <th colspan=\"8\" halign=\"left\">Sales</th>\n",
       "    </tr>\n",
       "    <tr>\n",
       "      <th></th>\n",
       "      <th>count</th>\n",
       "      <th>mean</th>\n",
       "      <th>std</th>\n",
       "      <th>min</th>\n",
       "      <th>25%</th>\n",
       "      <th>50%</th>\n",
       "      <th>75%</th>\n",
       "      <th>max</th>\n",
       "    </tr>\n",
       "    <tr>\n",
       "      <th>Company</th>\n",
       "      <th></th>\n",
       "      <th></th>\n",
       "      <th></th>\n",
       "      <th></th>\n",
       "      <th></th>\n",
       "      <th></th>\n",
       "      <th></th>\n",
       "      <th></th>\n",
       "    </tr>\n",
       "  </thead>\n",
       "  <tbody>\n",
       "    <tr>\n",
       "      <th>FB</th>\n",
       "      <td>2.0</td>\n",
       "      <td>296.5</td>\n",
       "      <td>75.660426</td>\n",
       "      <td>243.0</td>\n",
       "      <td>269.75</td>\n",
       "      <td>296.5</td>\n",
       "      <td>323.25</td>\n",
       "      <td>350.0</td>\n",
       "    </tr>\n",
       "    <tr>\n",
       "      <th>GOOG</th>\n",
       "      <td>2.0</td>\n",
       "      <td>160.0</td>\n",
       "      <td>56.568542</td>\n",
       "      <td>120.0</td>\n",
       "      <td>140.00</td>\n",
       "      <td>160.0</td>\n",
       "      <td>180.00</td>\n",
       "      <td>200.0</td>\n",
       "    </tr>\n",
       "    <tr>\n",
       "      <th>MSFT</th>\n",
       "      <td>2.0</td>\n",
       "      <td>232.0</td>\n",
       "      <td>152.735065</td>\n",
       "      <td>124.0</td>\n",
       "      <td>178.00</td>\n",
       "      <td>232.0</td>\n",
       "      <td>286.00</td>\n",
       "      <td>340.0</td>\n",
       "    </tr>\n",
       "  </tbody>\n",
       "</table>\n",
       "</div>"
      ],
      "text/plain": [
       "        Sales                                                        \n",
       "        count   mean         std    min     25%    50%     75%    max\n",
       "Company                                                              \n",
       "FB        2.0  296.5   75.660426  243.0  269.75  296.5  323.25  350.0\n",
       "GOOG      2.0  160.0   56.568542  120.0  140.00  160.0  180.00  200.0\n",
       "MSFT      2.0  232.0  152.735065  124.0  178.00  232.0  286.00  340.0"
      ]
     },
     "execution_count": 152,
     "metadata": {},
     "output_type": "execute_result"
    }
   ],
   "source": [
    "by_comp.describe()"
   ]
  }
 ],
 "metadata": {
  "kernelspec": {
   "display_name": "ML",
   "language": "python",
   "name": "python3"
  },
  "language_info": {
   "codemirror_mode": {
    "name": "ipython",
    "version": 3
   },
   "file_extension": ".py",
   "mimetype": "text/x-python",
   "name": "python",
   "nbconvert_exporter": "python",
   "pygments_lexer": "ipython3",
   "version": "3.11.9"
  }
 },
 "nbformat": 4,
 "nbformat_minor": 5
}
